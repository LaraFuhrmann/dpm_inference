{
 "cells": [
  {
   "cell_type": "code",
   "execution_count": 15,
   "id": "fd6bebfe",
   "metadata": {},
   "outputs": [],
   "source": [
    "import skbio \n",
    "import torch\n",
    "import numpy as np"
   ]
  },
  {
   "cell_type": "code",
   "execution_count": 24,
   "id": "2f19e23b",
   "metadata": {},
   "outputs": [],
   "source": [
    "# input \n",
    "fref_in='../../test_data/super_small_ex/ref.fasta'\n",
    "freads_in='../../test_data/super_small_ex/seqs.fasta'"
   ]
  },
  {
   "cell_type": "code",
   "execution_count": 25,
   "id": "fda1c319",
   "metadata": {},
   "outputs": [],
   "source": [
    "def seq_mapping(seq, alphabet):\n",
    "    # Coding scheme\n",
    "    # 0:A, 1:C, 2:G, 3:T 4:- (NOT YET:, 5:N)\n",
    "    mapped = []\n",
    "    for base in seq:\n",
    "            mapped.append(alphabet.find(base))\n",
    "    return np.array(mapped)\n",
    "\n",
    "def fasta2ref(fref_in, alphabet):\n",
    "    # Coding scheme\n",
    "    # 0:A, 1:C, 2:G, 3:T 4:- (NOT YET:, 5:N)\n",
    "    for seq in skbio.io.read(fref_in, format='fasta'):\n",
    "        ref = seq_mapping(str(seq), alphabet)\n",
    "    return ref\n",
    "\n",
    "def fasta2reads(freads_in, alphabet):\n",
    "    # Coding scheme\n",
    "    # 0:A, 1:C, 2:G, 3:T 4:- (NOT YET:, 5:N)\n",
    "    reads_mapped = []\n",
    "    for seq in skbio.io.read(freads_in, format='fasta'):\n",
    "        reads_mapped.append(seq_mapping(str(seq), alphabet))\n",
    "    return np.array(reads_mapped)"
   ]
  },
  {
   "cell_type": "code",
   "execution_count": 23,
   "id": "f0a97733",
   "metadata": {},
   "outputs": [],
   "source": [
    "alphabet ='ACGT-'\n",
    "B = len(alphabet) # size alphabet\n",
    "\n",
    "# Coding scheme\n",
    "# 0:A, 1:C, 2:G, 3:T 4:-, 5:N\n",
    "\n",
    "ref = fasta2ref(fref_in, alphabet)\n",
    "reads = fasta2reads(freads_in, alphabet) # what about non-unique reads ? \n",
    "\n",
    "L=ref.shape[0] # length of genome\n",
    "N=reads.shape[0] # number of reads"
   ]
  },
  {
   "cell_type": "markdown",
   "id": "fce30512",
   "metadata": {},
   "source": [
    "### Simplyfied model with fixed hyperparameters\n",
    "\n",
    "ref = reference sequence  \n",
    "$N$ = number of reads  \n",
    "$K$ = number of clusters/components  \n",
    "$L$ = genome length (number of positions)\n",
    "alphabet = {A, C, G, T, -}\n",
    "\n",
    "Fixed parameters: \n",
    "* mutation rate: $1- \\gamma$\n",
    "* error rate: $1-\\theta$\n",
    "* Dirichlet prior: $\\alpha = (\\alpha_1, ..., \\alpha_k)$\n",
    "\n",
    "Cluster weights ($K$-dim): $\\pi | \\alpha \\sim Dir(\\alpha)$  \n",
    "Cluster assignments ($N$-dim): $z|\\pi \\sim Categorical(\\pi)$  \n",
    "Cluster centers/haplotypes ($K$x$L$-dim): $h | ref, \\gamma \\sim Categorical(W) $ \n",
    "with $W(l,i)=\n",
    "\\begin{cases} \n",
    "\\gamma,  \\text{ if }i = ref[l] \\\\\n",
    "\\frac{1-\\gamma}{4}, \\text{ else. }\n",
    "\\end{cases}$ for $l \\in {1, ..., L}$ and $i\\in {1,..., |alphabet|}$  \n",
    "Likelihood of the reads ($N$-dim): $r | z, h, \\theta \\sim Categorical(E)$ \n",
    "with $E(n,l,i)=\n",
    "\\begin{cases} \n",
    "\\theta,  \\text{ if }i = h_{z_n}[l] \\\\\n",
    "\\frac{1-\\theta}{4}, \\text{ else. }\n",
    "\\end{cases}$ for $n \\in {1, ..., N}$, $l \\in {1, ..., L}$ and $i\\in {1,..., |alphabet|}$  \n",
    "\n"
   ]
  },
  {
   "cell_type": "code",
   "execution_count": 27,
   "id": "b544ce8f",
   "metadata": {},
   "outputs": [],
   "source": [
    "import pymc3 as pm\n",
    "import theano.tensor as tt\n",
    "import numpy as np\n",
    "import theano \n",
    "\n",
    "seed = 60\n",
    "np.random.seed(seed)"
   ]
  },
  {
   "cell_type": "code",
   "execution_count": 44,
   "id": "71cf31b3",
   "metadata": {},
   "outputs": [
    {
     "name": "stdout",
     "output_type": "stream",
     "text": [
      "K  10\n",
      "N  7\n",
      "B  5\n"
     ]
    },
    {
     "ename": "IndexError",
     "evalue": "only integers, slices (`:`), ellipsis (`...`), numpy.newaxis (`None`) and integer or boolean arrays are valid indices",
     "output_type": "error",
     "traceback": [
      "\u001b[0;31m---------------------------------------------------------------------------\u001b[0m",
      "\u001b[0;31mIndexError\u001b[0m                                Traceback (most recent call last)",
      "\u001b[0;32m/var/folders/dw/8dl4p6h53cgcmk6cf_09v5f40000gr/T/ipykernel_65442/1289135272.py\u001b[0m in \u001b[0;36m<module>\u001b[0;34m\u001b[0m\n\u001b[1;32m     61\u001b[0m     \u001b[0;31m# specify the likelihood for each observation\u001b[0m\u001b[0;34m\u001b[0m\u001b[0;34m\u001b[0m\u001b[0;34m\u001b[0m\u001b[0m\n\u001b[1;32m     62\u001b[0m     \u001b[0mweight_theta\u001b[0m \u001b[0;34m=\u001b[0m \u001b[0mnp\u001b[0m\u001b[0;34m.\u001b[0m\u001b[0mfull\u001b[0m\u001b[0;34m(\u001b[0m\u001b[0;34m(\u001b[0m\u001b[0mN\u001b[0m\u001b[0;34m,\u001b[0m\u001b[0mL\u001b[0m\u001b[0;34m,\u001b[0m\u001b[0mB\u001b[0m\u001b[0;34m)\u001b[0m\u001b[0;34m,\u001b[0m\u001b[0;34m(\u001b[0m\u001b[0;36m1\u001b[0m\u001b[0;34m-\u001b[0m\u001b[0mtheta\u001b[0m\u001b[0;34m)\u001b[0m\u001b[0;34m/\u001b[0m\u001b[0;34m(\u001b[0m\u001b[0mB\u001b[0m\u001b[0;34m-\u001b[0m\u001b[0;36m1\u001b[0m\u001b[0;34m)\u001b[0m\u001b[0;34m)\u001b[0m \u001b[0;31m# NxLxB\u001b[0m\u001b[0;34m\u001b[0m\u001b[0;34m\u001b[0m\u001b[0m\n\u001b[0;32m---> 63\u001b[0;31m     \u001b[0mnp\u001b[0m\u001b[0;34m.\u001b[0m\u001b[0mput_along_axis\u001b[0m\u001b[0;34m(\u001b[0m\u001b[0mweight_theta\u001b[0m\u001b[0;34m,\u001b[0m \u001b[0mh\u001b[0m\u001b[0;34m[\u001b[0m\u001b[0mz\u001b[0m\u001b[0;34m]\u001b[0m\u001b[0;34m.\u001b[0m\u001b[0mreshape\u001b[0m\u001b[0;34m(\u001b[0m\u001b[0;34m(\u001b[0m\u001b[0mN\u001b[0m\u001b[0;34m,\u001b[0m\u001b[0mL\u001b[0m\u001b[0;34m,\u001b[0m\u001b[0;36m1\u001b[0m\u001b[0;34m)\u001b[0m\u001b[0;34m)\u001b[0m\u001b[0;34m,\u001b[0m \u001b[0mtheta\u001b[0m\u001b[0;34m,\u001b[0m \u001b[0maxis\u001b[0m\u001b[0;34m=\u001b[0m\u001b[0;36m2\u001b[0m\u001b[0;34m)\u001b[0m\u001b[0;34m\u001b[0m\u001b[0;34m\u001b[0m\u001b[0m\n\u001b[0m\u001b[1;32m     64\u001b[0m \u001b[0;34m\u001b[0m\u001b[0m\n\u001b[1;32m     65\u001b[0m \u001b[0;34m\u001b[0m\u001b[0m\n",
      "\u001b[0;32m<__array_function__ internals>\u001b[0m in \u001b[0;36mput_along_axis\u001b[0;34m(*args, **kwargs)\u001b[0m\n",
      "\u001b[0;32m/Library/Frameworks/Python.framework/Versions/3.9/lib/python3.9/site-packages/numpy/lib/shape_base.py\u001b[0m in \u001b[0;36mput_along_axis\u001b[0;34m(arr, indices, values, axis)\u001b[0m\n\u001b[1;32m    258\u001b[0m \u001b[0;34m\u001b[0m\u001b[0m\n\u001b[1;32m    259\u001b[0m     \u001b[0;31m# use the fancy index\u001b[0m\u001b[0;34m\u001b[0m\u001b[0;34m\u001b[0m\u001b[0;34m\u001b[0m\u001b[0m\n\u001b[0;32m--> 260\u001b[0;31m     \u001b[0marr\u001b[0m\u001b[0;34m[\u001b[0m\u001b[0m_make_along_axis_idx\u001b[0m\u001b[0;34m(\u001b[0m\u001b[0marr_shape\u001b[0m\u001b[0;34m,\u001b[0m \u001b[0mindices\u001b[0m\u001b[0;34m,\u001b[0m \u001b[0maxis\u001b[0m\u001b[0;34m)\u001b[0m\u001b[0;34m]\u001b[0m \u001b[0;34m=\u001b[0m \u001b[0mvalues\u001b[0m\u001b[0;34m\u001b[0m\u001b[0;34m\u001b[0m\u001b[0m\n\u001b[0m\u001b[1;32m    261\u001b[0m \u001b[0;34m\u001b[0m\u001b[0m\n\u001b[1;32m    262\u001b[0m \u001b[0;34m\u001b[0m\u001b[0m\n",
      "\u001b[0;31mIndexError\u001b[0m: only integers, slices (`:`), ellipsis (`...`), numpy.newaxis (`None`) and integer or boolean arrays are valid indices"
     ]
    }
   ],
   "source": [
    "# Build model \n",
    "pymc3_model = pm.Model()\n",
    "\n",
    "# Specify fixed constants\n",
    "L=ref.shape[0] # lengt}h of genome\n",
    "N=reads.shape[0] # number of reads\n",
    "B=len(alphabet)\n",
    "K = 10  # Fixed number of components\n",
    "\n",
    "print('K ', K)\n",
    "print('N ', N)\n",
    "print('B ', B)\n",
    "\n",
    "# fixed constants\n",
    "gamma = 0.95\n",
    "theta = 0.98    \n",
    "\n",
    "# --- Mutation matrix ----\n",
    "# LxB-dimensional\n",
    "weight = np.full((L,B),(1-gamma)/(B-1))\n",
    "np.put_along_axis(weight, ref.reshape(L,1), gamma, axis=1) # is written into weight\n",
    "# KxLxB dimensional \n",
    "ref_gamma_weight = np.array(K*[weight]) # KxLxB \n",
    "\n",
    "# --- Error matrix --- \n",
    "# NxLxB dimensional \n",
    "weight_theta = np.full((N,L,B),(1-theta)/(B-1))\n",
    "\n",
    "theta_vec = np.full((L,B),(1-theta)/(B-1))\n",
    "theta_matrix = np.asarray([np.asarray([theta_vec*L])]*N)\n",
    "\n",
    "'''\n",
    "def get_weight(theta_vec, L, B, h_z_n, theta):\n",
    "    theta_matrix = theano.shared(np.asarray([theta_vec*L]) )\n",
    "    print(type(h_z_n[0]))\n",
    "    for l in range(L):\n",
    "        theta_matrix[l][h_z_n[l]]=theta\n",
    "        \n",
    "    return theta_matrix\n",
    "\n",
    "@theano.compile.ops.as_op(itypes=[tt.lvector(), tt.lmatrix],otypes=[tt.dmatrix])\n",
    "def p(z, h):\n",
    "    for n in range(N):\n",
    "        for l in range(L):\n",
    "            theta_matrix[n][l][h[z][l]]=theta\n",
    "    return theta_matrix\n",
    "'''\n",
    "    \n",
    "\n",
    "with pymc3_model:\n",
    "     \n",
    "    # prior over z (cluster sizes)\n",
    "    pi = pm.Dirichlet('pi', a=np.array([1.]*K)) \n",
    "    \n",
    "    # latent cluster of each of the N observations\n",
    "    z = pm.Categorical('z', p=pi, shape=N)\n",
    "    \n",
    "    # cluster centers\n",
    "    h = pm.Categorical('h', p=ref_gamma_weight, shape=[K,L])\n",
    "        \n",
    "    # specify the likelihood for each observation \n",
    "    weight_theta = np.full((N,L,B),(1-theta)/(B-1)) # NxLxB\n",
    "    np.put_along_axis(weight_theta, h[z].reshape((N,L,1)), theta, axis=2)\n",
    "\n",
    "\n",
    "    #like = pm.MixtureSameFamily('like', w=w, comp_dists=components, observed=reads, shape=N)\n",
    "    #     pm.Categorical('Y_obs', p=read_weight, shape=(N,L), observed=reads)\n",
    "    \n",
    "    #weight = pm.Deterministic('weight', [get_weight(theta_vec, L, B, h[z][n], theta) for n in range(N)])\n",
    "\n",
    "    Y_obs = pm.Categorical('Y_obs', p= weight_theta, shape=[N,L], observed=reads)\n",
    "    #Y_obs = pm.MixtureSameFamily('Y_obs', p= h[z].reshape((N,L,1)), shape=[N,L], observed=reads)\n",
    "    "
   ]
  },
  {
   "cell_type": "code",
   "execution_count": 14,
   "id": "43ccf76d",
   "metadata": {},
   "outputs": [
    {
     "data": {
      "image/svg+xml": [
       "<?xml version=\"1.0\" encoding=\"UTF-8\" standalone=\"no\"?>\n",
       "<!DOCTYPE svg PUBLIC \"-//W3C//DTD SVG 1.1//EN\"\n",
       " \"http://www.w3.org/Graphics/SVG/1.1/DTD/svg11.dtd\">\n",
       "<!-- Generated by graphviz version 2.50.0 (20211204.2007)\n",
       " -->\n",
       "<!-- Pages: 1 -->\n",
       "<svg width=\"8pt\" height=\"8pt\"\n",
       " viewBox=\"0.00 0.00 8.00 8.00\" xmlns=\"http://www.w3.org/2000/svg\" xmlns:xlink=\"http://www.w3.org/1999/xlink\">\n",
       "<g id=\"graph0\" class=\"graph\" transform=\"scale(1 1) rotate(0) translate(4 4)\">\n",
       "<polygon fill=\"white\" stroke=\"transparent\" points=\"-4,4 -4,-4 4,-4 4,4 -4,4\"/>\n",
       "</g>\n",
       "</svg>\n"
      ],
      "text/plain": [
       "<graphviz.graphs.Digraph at 0x7fe6cad24820>"
      ]
     },
     "execution_count": 14,
     "metadata": {},
     "output_type": "execute_result"
    }
   ],
   "source": [
    "# visulatization of the model \n",
    "pm.model_to_graphviz(pymc3_model)"
   ]
  },
  {
   "cell_type": "markdown",
   "id": "dfc1698a",
   "metadata": {},
   "source": [
    "## Implementation with for-loops instead of shape"
   ]
  },
  {
   "cell_type": "code",
   "execution_count": null,
   "id": "9ed2d9a9",
   "metadata": {},
   "outputs": [],
   "source": [
    "# Probably inefficient implementation with for-loops\n",
    "\n",
    "# Build model \n",
    "pymc3_model = pm.Model()\n",
    "\n",
    "# Specify fixed constants\n",
    "L=ref.shape[0] # lengt}h of genome\n",
    "N=reads.shape[0] # number of reads\n",
    "B=len(alphabet)\n",
    "K = 10  # Fixed number of components\n",
    "\n",
    "print('K ', K)\n",
    "print('N ', N)\n",
    "\n",
    "# fixed constants\n",
    "gamma = 0.95\n",
    "theta = 0.98    \n",
    "#alpha = torch.ones(K)\n",
    "#ref_gamma_weight = get_gamma_weight(ref, gamma, B, L).expand(K,-1,-1)\n",
    "ref_gamma_weight = get_gamma_weight(ref, gamma, B, L) # dimension is \n",
    "weight_theta = torch.tensor(np.full((N,L,B),(1-theta)/(B-1)))\n",
    "\n",
    "#def p_read()\n",
    "\n",
    "with pymc3_model:\n",
    "     \n",
    "    # prior over z (cluster sizes/concentrations)\n",
    "    pi = pm.Dirichlet('pi', a=np.array([1.]*K))\n",
    "    print(pi.distribution.shape)\n",
    "    \n",
    "    # cluster centers \n",
    "    h = tt.stack([pm.Categorical('h_'+str(k), p= ref_gamma_weight, shape=L) for k in range(K)])\n",
    "    #centers = pm.Categorical('h', p= ref_gamma_weight, shape=[K,L])\n",
    "    \n",
    "    # latent cluster of each observation \n",
    "    z = tt.stack([pm.Categorical('z_' +str(n), p= pi, shape=1) for n in range(N)])\n",
    "    #components = pm.Categorical('z', p= pi, shape=[N,1])\n",
    "    \n",
    "    print(h[0].shape.eval())\n",
    "    print(z.shape)\n",
    "    print(h[z].shape)\n",
    "    weight = np.full((N,L,B),(1-theta)/(B-1))\n",
    "    hap_temp = haplotype.detach().cpu().numpy()\n",
    "    assign_temp = assignments.detach().cpu().numpy()\n",
    "    hap_ass = hap_temp[assign_temp]\n",
    "    np.put_along_axis(weight, hap_ass.reshape(N,L,1), theta,axis=0) \n",
    "    \n",
    "    # specify the likelihood for each observation \n",
    "    like = [pm.Categorical('like'+str(n), p=p_reads(), shape=1) for n in range(N)]\n",
    "    read_weight = weight_theta.scatter_(2, h[z].reshape(N,L,1), theta*torch.ones((N,L,1), dtype=torch.float64))\n",
    "    like = pm.MixtureSameFamily('like', w=w, comp_dists=components, observed=reads, shape=N)\n",
    "    \n",
    "    pm.Categorical('Y_obs', p=read_weight, shape=(N,L), observed=reads)\n",
    "    "
   ]
  }
 ],
 "metadata": {
  "kernelspec": {
   "display_name": "Python 3 (ipykernel)",
   "language": "python",
   "name": "python3"
  },
  "language_info": {
   "codemirror_mode": {
    "name": "ipython",
    "version": 3
   },
   "file_extension": ".py",
   "mimetype": "text/x-python",
   "name": "python",
   "nbconvert_exporter": "python",
   "pygments_lexer": "ipython3",
   "version": "3.9.0"
  }
 },
 "nbformat": 4,
 "nbformat_minor": 5
}

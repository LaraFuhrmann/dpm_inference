{
 "cells": [
  {
   "cell_type": "code",
   "execution_count": 5,
   "id": "d9335c57",
   "metadata": {},
   "outputs": [],
   "source": [
    "import numpyro\n",
    "import numpyro.distributions as dist\n",
    "from numpyro.infer import MCMC, NUTS, DiscreteHMCGibbs, Predictive\n",
    "\n",
    "from jax import random\n",
    "import jax\n",
    "import jax.numpy as jnp\n",
    "\n",
    "import arviz as az\n",
    "import matplotlib.pyplot as plt"
   ]
  },
  {
   "cell_type": "code",
   "execution_count": 10,
   "id": "1b630d40",
   "metadata": {},
   "outputs": [],
   "source": [
    "import skbio \n",
    "import numpy as np\n",
    "from helper import custom_put_along_axis"
   ]
  },
  {
   "cell_type": "markdown",
   "id": "e3cd0302",
   "metadata": {},
   "source": [
    "## Preprocessing "
   ]
  },
  {
   "cell_type": "code",
   "execution_count": 80,
   "id": "fb9c3c30",
   "metadata": {},
   "outputs": [],
   "source": [
    "def seq_mapping(seq, alphabet):\n",
    "    # Coding scheme\n",
    "    # 0:A, 1:C, 2:G, 3:T 4:- (NOT YET:, 5:N)\n",
    "    mapped = []\n",
    "    for base in seq:\n",
    "            mapped.append(alphabet.find(base))\n",
    "    return jnp.array(mapped)\n",
    "\n",
    "def fasta2ref(fref_in, alphabet):\n",
    "    # Coding scheme\n",
    "    # 0:A, 1:C, 2:G, 3:T 4:- (NOT YET:, 5:N)\n",
    "    for seq in skbio.io.read(fref_in, format='fasta'):\n",
    "        ref = seq_mapping(str(seq), alphabet)\n",
    "    #print('reference ', str(seq))\n",
    "    return ref\n",
    "\n",
    "def fasta2reads(freads_in, alphabet):\n",
    "    # Coding scheme\n",
    "    # 0:A, 1:C, 2:G, 3:T 4:- (NOT YET:, 5:N)\n",
    "    reads_mapped = []\n",
    "    read_id = []\n",
    "    # print('reads')\n",
    "    for seq in skbio.io.read(freads_in, format=\"fasta\"):\n",
    "        # print(str(seq))\n",
    "        read_id.append(seq.metadata['id'])\n",
    "        reads_mapped.append(seq_mapping(str(seq), alphabet))\n",
    "    return jnp.array(reads_mapped), read_id"
   ]
  },
  {
   "cell_type": "markdown",
   "id": "f530d925",
   "metadata": {},
   "source": [
    "## Input"
   ]
  },
  {
   "cell_type": "code",
   "execution_count": 98,
   "id": "5866b4f0",
   "metadata": {},
   "outputs": [],
   "source": [
    "# Minimal example input\n",
    "\n",
    "reference = jnp.array([0])\n",
    "reads = jnp.array([[[0], [1], [1], [1]], \n",
    "                   [[0], [1], [1], [1]]])\n",
    "alphabet ='01'\n",
    "\n",
    "cluster_num = 5\n",
    "\n",
    "input_data = reference, reads, len(alphabet), cluster_num"
   ]
  },
  {
   "cell_type": "code",
   "execution_count": 277,
   "id": "81e1f72d",
   "metadata": {},
   "outputs": [],
   "source": [
    "# Bigger example input \n",
    "\n",
    "fref_in='../../../test_data/super_small_multiple_samples/ref.fasta'\n",
    "list_freads_in=['../../../test_data/super_small_multiple_samples/seqs0.fasta', \n",
    "           '../../../test_data/super_small_multiple_samples/seqs1.fasta',\n",
    "           '../../../test_data/super_small_multiple_samples/seqs2.fasta']\n",
    "\n",
    "list_sample_ids=['seqs0','seqs1','seqs2']\n",
    "\n",
    "alphabet ='ACGT-'\n",
    "alphabet_length = len(alphabet) # size alphabet\n",
    "\n",
    "# Coding scheme\n",
    "# 0:A, 1:C, 2:G, 3:T 4:-, 5:N\n",
    "\n",
    "reference = fasta2ref(fref_in, alphabet)\n",
    "reads_ids = [fasta2reads(freads_in, alphabet)[1] for freads_in in list_freads_in]\n",
    "reads = [fasta2reads(freads_in, alphabet)[0] for freads_in in list_freads_in]\n",
    "reads = jnp.array(reads)\n",
    "\n",
    "cluster_num = 5\n",
    "\n",
    "input_data = reference, reads, len(alphabet), cluster_num"
   ]
  },
  {
   "cell_type": "code",
   "execution_count": 278,
   "id": "ffd45e31",
   "metadata": {},
   "outputs": [
    {
     "name": "stdout",
     "output_type": "stream",
     "text": [
      "(3, 7, 9)\n"
     ]
    }
   ],
   "source": [
    "print(reads.shape) # n_samples, n_read, genome_length"
   ]
  },
  {
   "cell_type": "code",
   "execution_count": 279,
   "id": "28d66e50",
   "metadata": {},
   "outputs": [
    {
     "data": {
      "text/plain": [
       "[['seq1', 'ref', 'ref', 'ref', 'seq3', 'seq3', 'seq3'],\n",
       " ['seq1', 'ref', 'ref', 'ref', 'seq3', 'seq3', 'seq3'],\n",
       " ['seq1', 'seq1', 'seq1', 'ref', 'seq3', 'seq3', 'seq3']]"
      ]
     },
     "execution_count": 279,
     "metadata": {},
     "output_type": "execute_result"
    }
   ],
   "source": [
    "reads_ids"
   ]
  },
  {
   "cell_type": "code",
   "execution_count": 280,
   "id": "2c9873f2",
   "metadata": {},
   "outputs": [],
   "source": [
    "def mix_weights(beta):\n",
    "    beta1m_cumprod = (1 - beta).cumprod(-1)\n",
    "    pad_beta = jnp.pad(beta, ((0, 0),(0, 1)), constant_values=1)\n",
    "    pad_beta1m_cumprod = jnp.pad(beta1m_cumprod, ((0, 0),(1, 0)), constant_values=1)\n",
    "    \n",
    "    return pad_beta*pad_beta1m_cumprod\n",
    "\n",
    "def shape_parameters(alpha, beta):\n",
    "    # first shape parameter of beta distribution \n",
    "    first = alpha * beta\n",
    "    \n",
    "    # second shape parameter of beta distribution \n",
    "    beta_cumsum = beta.cumsum(-1) # K-1 dimensional \n",
    "    second = jnp.pad(beta_cumsum, (1, 0), constant_values=0)\n",
    "    second = second[:-1]\n",
    "    second = alpha * (1 - second)\n",
    "    \n",
    "    return [first, second]\n",
    "\n",
    "\n",
    "def model_hierarchicalSBMM(input_data):\n",
    "    reference, read_data, alphabet_length, max_cluster_num_guess = input_data\n",
    "\n",
    "    # parameters\n",
    "    samples_count = read_data.shape[0]\n",
    "    read_count = read_data.shape[1]\n",
    "    genome_length = reference.shape[0]\n",
    "    alphabet_length = alphabet_length \n",
    "    \n",
    "    # set hyperparameters\n",
    "    gamma = 1.1\n",
    "    alpha = 1.1\n",
    "    \n",
    "    # define rates\n",
    "    mutation_rate = numpyro.sample(\"mutation_rate\", dist.Beta(1, 1))\n",
    "    error_rate = numpyro.sample(\"error_rate\", dist.Beta(1, 1))\n",
    "\n",
    "    # create matrix of rates\n",
    "    mutation_rate_matrix = jnp.full(\n",
    "        (genome_length, alphabet_length), (1 - mutation_rate) / (alphabet_length - 1)\n",
    "    )\n",
    "    mutation_rate_matrix = custom_put_along_axis(\n",
    "        mutation_rate_matrix, reference.reshape(genome_length, 1), mutation_rate, axis=1\n",
    "    )\n",
    "    \n",
    "    # top hierarchical level - base distribution for all samples\n",
    "    beta_plate = numpyro.plate(\"beta_plate\", max_cluster_num_guess - 1)\n",
    "    with beta_plate:\n",
    "        beta_top = numpyro.sample(\"beta_top\", dist.Beta(1*jnp.ones(max_cluster_num_guess - 1), gamma*jnp.ones(max_cluster_num_guess - 1)))\n",
    "\n",
    "    # sample level - draw weights for each sample\n",
    "    sample_plate = numpyro.plate(\"sample_plate\", samples_count, dim=-2)\n",
    "    with sample_plate:\n",
    "        param = shape_parameters(alpha, beta_top)\n",
    "        beta = numpyro.sample(\"beta\", dist.Beta(param[0],param[1]))\n",
    "    \n",
    "    cluster_weights = numpyro.sample(\n",
    "    \"cluster_weights\", dist.Dirichlet(mix_weights(beta))\n",
    "    ) # n_samples X num_cluster\n",
    "        \n",
    "    genome_axis = numpyro.plate(\"genome_axis\", genome_length, dim=-1)\n",
    "    with numpyro.plate(\"haplotype_axis\", max_cluster_num_guess, dim=-2):\n",
    "        with genome_axis:\n",
    "            haplotypes = numpyro.sample(\n",
    "                \"haplotypes\", dist.Categorical(mutation_rate_matrix)\n",
    "            )  # cluster centers\n",
    "\n",
    "    with numpyro.plate(\"sample_plate\", samples_count, dim=-2):\n",
    "        with numpyro.plate(\"read_axis\", read_count, dim=-1):\n",
    "            cluster_weights = jnp.repeat(cluster_weights[:,jnp.newaxis,:], read_count, axis=1)\n",
    "    cluster_assignments = numpyro.sample(\n",
    "        \"cluster_assignments\", dist.Categorical(cluster_weights)\n",
    "    ) # n_samples x n_reads \n",
    "\n",
    "    with numpyro.plate(\"sample_plate\", samples_count, dim=-3):    \n",
    "        with numpyro.plate(\"read_axis\", read_count, dim=-2):\n",
    "            with genome_axis:\n",
    "                error_rate_matrix = jnp.full(\n",
    "                    (samples_count, read_count, genome_length, alphabet_length),\n",
    "                    (1 - error_rate) / (alphabet_length - 1),\n",
    "                )\n",
    "                error_rate_matrix = custom_put_along_axis(\n",
    "                    error_rate_matrix,\n",
    "                    haplotypes[cluster_assignments].reshape(samples_count, read_count, genome_length, 1),\n",
    "                    error_rate,\n",
    "                    axis=3,\n",
    "                )\n",
    "\n",
    "                numpyro.sample(\"obs\", dist.Categorical(error_rate_matrix), obs=read_data)"
   ]
  },
  {
   "cell_type": "code",
   "execution_count": 281,
   "id": "478d0dcd",
   "metadata": {},
   "outputs": [
    {
     "data": {
      "image/svg+xml": [
       "<?xml version=\"1.0\" encoding=\"UTF-8\" standalone=\"no\"?>\n",
       "<!DOCTYPE svg PUBLIC \"-//W3C//DTD SVG 1.1//EN\"\n",
       " \"http://www.w3.org/Graphics/SVG/1.1/DTD/svg11.dtd\">\n",
       "<!-- Generated by graphviz version 2.50.0 (20211204.2007)\n",
       " -->\n",
       "<!-- Pages: 1 -->\n",
       "<svg width=\"360pt\" height=\"455pt\"\n",
       " viewBox=\"0.00 0.00 360.00 455.00\" xmlns=\"http://www.w3.org/2000/svg\" xmlns:xlink=\"http://www.w3.org/1999/xlink\">\n",
       "<g id=\"graph0\" class=\"graph\" transform=\"scale(1 1) rotate(0) translate(4 451)\">\n",
       "<polygon fill=\"white\" stroke=\"transparent\" points=\"-4,4 -4,-451 356,-451 356,4 -4,4\"/>\n",
       "<g id=\"clust1\" class=\"cluster\">\n",
       "<title>cluster_beta_plate</title>\n",
       "<polygon fill=\"none\" stroke=\"black\" points=\"246,-308 246,-383 344,-383 344,-308 246,-308\"/>\n",
       "<text text-anchor=\"middle\" x=\"308\" y=\"-315.8\" font-family=\"Times,serif\" font-size=\"14.00\">beta_plate</text>\n",
       "</g>\n",
       "<g id=\"clust2\" class=\"cluster\">\n",
       "<title>cluster_sample_plate</title>\n",
       "<polygon fill=\"none\" stroke=\"black\" points=\"140,-116 140,-269 307,-269 307,-116 140,-116\"/>\n",
       "<text text-anchor=\"middle\" x=\"262.5\" y=\"-123.8\" font-family=\"Times,serif\" font-size=\"14.00\">sample_plate</text>\n",
       "</g>\n",
       "<g id=\"clust3\" class=\"cluster\">\n",
       "<title>cluster_genome_axis</title>\n",
       "<polygon fill=\"none\" stroke=\"black\" points=\"148,-147 148,-261 237,-261 237,-147 148,-147\"/>\n",
       "<text text-anchor=\"middle\" x=\"192.5\" y=\"-154.8\" font-family=\"Times,serif\" font-size=\"14.00\">genome_axis</text>\n",
       "</g>\n",
       "<g id=\"clust4\" class=\"cluster\">\n",
       "<title>cluster_read_axis</title>\n",
       "<polygon fill=\"none\" stroke=\"black\" points=\"156,-178 156,-253 226,-253 226,-178 156,-178\"/>\n",
       "<text text-anchor=\"middle\" x=\"192\" y=\"-185.8\" font-family=\"Times,serif\" font-size=\"14.00\">read_axis</text>\n",
       "</g>\n",
       "<g id=\"clust5\" class=\"cluster\">\n",
       "<title>cluster_haplotype_axis</title>\n",
       "<polygon fill=\"none\" stroke=\"black\" points=\"8,-277 8,-391 138,-391 138,-277 8,-277\"/>\n",
       "<text text-anchor=\"middle\" x=\"89\" y=\"-284.8\" font-family=\"Times,serif\" font-size=\"14.00\">haplotype_axis</text>\n",
       "</g>\n",
       "<g id=\"clust6\" class=\"cluster\">\n",
       "<title>cluster_genome_axis__CLONE</title>\n",
       "<polygon fill=\"none\" stroke=\"black\" points=\"16,-308 16,-383 130,-383 130,-308 16,-308\"/>\n",
       "<text text-anchor=\"middle\" x=\"85.5\" y=\"-315.8\" font-family=\"Times,serif\" font-size=\"14.00\">genome_axis</text>\n",
       "</g>\n",
       "<!-- mutation_rate -->\n",
       "<g id=\"node1\" class=\"node\">\n",
       "<title>mutation_rate</title>\n",
       "<ellipse fill=\"white\" stroke=\"black\" cx=\"73\" cy=\"-429\" rx=\"59.59\" ry=\"18\"/>\n",
       "<text text-anchor=\"middle\" x=\"73\" y=\"-425.3\" font-family=\"Times,serif\" font-size=\"14.00\">mutation_rate</text>\n",
       "</g>\n",
       "<!-- haplotypes -->\n",
       "<g id=\"node8\" class=\"node\">\n",
       "<title>haplotypes</title>\n",
       "<ellipse fill=\"white\" stroke=\"black\" cx=\"73\" cy=\"-357\" rx=\"48.99\" ry=\"18\"/>\n",
       "<text text-anchor=\"middle\" x=\"73\" y=\"-353.3\" font-family=\"Times,serif\" font-size=\"14.00\">haplotypes</text>\n",
       "</g>\n",
       "<!-- mutation_rate&#45;&gt;haplotypes -->\n",
       "<g id=\"edge3\" class=\"edge\">\n",
       "<title>mutation_rate&#45;&gt;haplotypes</title>\n",
       "<path fill=\"none\" stroke=\"black\" d=\"M73,-410.7C73,-402.98 73,-393.71 73,-385.11\"/>\n",
       "<polygon fill=\"black\" stroke=\"black\" points=\"76.5,-385.1 73,-375.1 69.5,-385.1 76.5,-385.1\"/>\n",
       "</g>\n",
       "<!-- error_rate -->\n",
       "<g id=\"node2\" class=\"node\">\n",
       "<title>error_rate</title>\n",
       "<ellipse fill=\"white\" stroke=\"black\" cx=\"191\" cy=\"-357\" rx=\"45.49\" ry=\"18\"/>\n",
       "<text text-anchor=\"middle\" x=\"191\" y=\"-353.3\" font-family=\"Times,serif\" font-size=\"14.00\">error_rate</text>\n",
       "</g>\n",
       "<!-- obs -->\n",
       "<g id=\"node7\" class=\"node\">\n",
       "<title>obs</title>\n",
       "<ellipse fill=\"grey\" stroke=\"black\" cx=\"191\" cy=\"-227\" rx=\"27\" ry=\"18\"/>\n",
       "<text text-anchor=\"middle\" x=\"191\" y=\"-223.3\" font-family=\"Times,serif\" font-size=\"14.00\">obs</text>\n",
       "</g>\n",
       "<!-- error_rate&#45;&gt;obs -->\n",
       "<g id=\"edge5\" class=\"edge\">\n",
       "<title>error_rate&#45;&gt;obs</title>\n",
       "<path fill=\"none\" stroke=\"black\" d=\"M191,-338.74C191,-317.36 191,-280.69 191,-255.44\"/>\n",
       "<polygon fill=\"black\" stroke=\"black\" points=\"194.5,-255.4 191,-245.4 187.5,-255.4 194.5,-255.4\"/>\n",
       "</g>\n",
       "<!-- cluster_weights -->\n",
       "<g id=\"node3\" class=\"node\">\n",
       "<title>cluster_weights</title>\n",
       "<ellipse fill=\"white\" stroke=\"black\" cx=\"279\" cy=\"-90\" rx=\"65.79\" ry=\"18\"/>\n",
       "<text text-anchor=\"middle\" x=\"279\" y=\"-86.3\" font-family=\"Times,serif\" font-size=\"14.00\">cluster_weights</text>\n",
       "</g>\n",
       "<!-- cluster_assignments -->\n",
       "<g id=\"node4\" class=\"node\">\n",
       "<title>cluster_assignments</title>\n",
       "<ellipse fill=\"white\" stroke=\"black\" cx=\"232\" cy=\"-18\" rx=\"81.79\" ry=\"18\"/>\n",
       "<text text-anchor=\"middle\" x=\"232\" y=\"-14.3\" font-family=\"Times,serif\" font-size=\"14.00\">cluster_assignments</text>\n",
       "</g>\n",
       "<!-- cluster_weights&#45;&gt;cluster_assignments -->\n",
       "<g id=\"edge4\" class=\"edge\">\n",
       "<title>cluster_weights&#45;&gt;cluster_assignments</title>\n",
       "<path fill=\"none\" stroke=\"black\" d=\"M267.62,-72.05C262.11,-63.84 255.36,-53.79 249.23,-44.66\"/>\n",
       "<polygon fill=\"black\" stroke=\"black\" points=\"252.08,-42.63 243.6,-36.28 246.27,-46.53 252.08,-42.63\"/>\n",
       "</g>\n",
       "<!-- cluster_assignments&#45;&gt;obs -->\n",
       "<g id=\"edge7\" class=\"edge\">\n",
       "<title>cluster_assignments&#45;&gt;obs</title>\n",
       "<path fill=\"none\" stroke=\"black\" d=\"M220.81,-35.91C214.75,-45.97 207.75,-59.22 204,-72 191.38,-115.07 189.7,-167.61 190.05,-198.85\"/>\n",
       "<polygon fill=\"black\" stroke=\"black\" points=\"186.56,-199.03 190.25,-208.96 193.55,-198.9 186.56,-199.03\"/>\n",
       "</g>\n",
       "<!-- beta_top -->\n",
       "<g id=\"node5\" class=\"node\">\n",
       "<title>beta_top</title>\n",
       "<ellipse fill=\"white\" stroke=\"black\" cx=\"295\" cy=\"-357\" rx=\"40.89\" ry=\"18\"/>\n",
       "<text text-anchor=\"middle\" x=\"295\" y=\"-353.3\" font-family=\"Times,serif\" font-size=\"14.00\">beta_top</text>\n",
       "</g>\n",
       "<!-- beta -->\n",
       "<g id=\"node6\" class=\"node\">\n",
       "<title>beta</title>\n",
       "<ellipse fill=\"white\" stroke=\"black\" cx=\"272\" cy=\"-227\" rx=\"27\" ry=\"18\"/>\n",
       "<text text-anchor=\"middle\" x=\"272\" y=\"-223.3\" font-family=\"Times,serif\" font-size=\"14.00\">beta</text>\n",
       "</g>\n",
       "<!-- beta_top&#45;&gt;beta -->\n",
       "<g id=\"edge1\" class=\"edge\">\n",
       "<title>beta_top&#45;&gt;beta</title>\n",
       "<path fill=\"none\" stroke=\"black\" d=\"M291.95,-339C288.1,-317.58 281.43,-280.5 276.88,-255.14\"/>\n",
       "<polygon fill=\"black\" stroke=\"black\" points=\"280.28,-254.29 275.07,-245.07 273.39,-255.53 280.28,-254.29\"/>\n",
       "</g>\n",
       "<!-- beta&#45;&gt;cluster_weights -->\n",
       "<g id=\"edge2\" class=\"edge\">\n",
       "<title>beta&#45;&gt;cluster_weights</title>\n",
       "<path fill=\"none\" stroke=\"black\" d=\"M272.89,-208.9C274.07,-186.1 276.18,-145.48 277.58,-118.39\"/>\n",
       "<polygon fill=\"black\" stroke=\"black\" points=\"281.08,-118.55 278.1,-108.39 274.09,-118.19 281.08,-118.55\"/>\n",
       "</g>\n",
       "<!-- haplotypes&#45;&gt;obs -->\n",
       "<g id=\"edge6\" class=\"edge\">\n",
       "<title>haplotypes&#45;&gt;obs</title>\n",
       "<path fill=\"none\" stroke=\"black\" d=\"M85.3,-339.35C97.7,-322.93 117.72,-297.39 137,-277 146.38,-267.08 157.43,-256.83 167.09,-248.28\"/>\n",
       "<polygon fill=\"black\" stroke=\"black\" points=\"169.58,-250.76 174.81,-241.54 164.97,-245.48 169.58,-250.76\"/>\n",
       "</g>\n",
       "</g>\n",
       "</svg>\n"
      ],
      "text/plain": [
       "<graphviz.graphs.Digraph at 0x7f90ab3f47c0>"
      ]
     },
     "execution_count": 281,
     "metadata": {},
     "output_type": "execute_result"
    }
   ],
   "source": [
    "numpyro.render_model(model_hierarchicalSBMM, model_args=(input_data,))"
   ]
  },
  {
   "cell_type": "markdown",
   "id": "4ae61f79",
   "metadata": {},
   "source": [
    "## Model inference with MCMC (HMC + Gibbs)   \n",
    "#### - Use of HMC for continuous and Gibbs sampling for discrete variables."
   ]
  },
  {
   "cell_type": "code",
   "execution_count": 282,
   "id": "70f46d39",
   "metadata": {
    "scrolled": false
   },
   "outputs": [
    {
     "name": "stderr",
     "output_type": "stream",
     "text": [
      "sample: 100%|███████████████████████████████████████████████████| 750/750 [00:52<00:00, 14.22it/s, 1023 steps of size 3.03e-08. acc. prob=0.73]\n"
     ]
    }
   ],
   "source": [
    "rng_key = jax.random.PRNGKey(0)\n",
    "num_samples = 500\n",
    "num_warmup = int(num_samples / 2)\n",
    "\n",
    "model = model_hierarchicalSBMM\n",
    "\n",
    "# Run NUTS.\n",
    "kernel = NUTS(model)\n",
    "mcmc = MCMC(\n",
    "    DiscreteHMCGibbs(kernel),\n",
    "    num_warmup=num_warmup,\n",
    "    num_samples=num_samples,\n",
    "    num_chains=1\n",
    ")\n",
    "mcmc.run(rng_key, input_data)"
   ]
  },
  {
   "cell_type": "code",
   "execution_count": 283,
   "id": "bc10c0ce",
   "metadata": {
    "scrolled": true
   },
   "outputs": [
    {
     "name": "stdout",
     "output_type": "stream",
     "text": [
      "\n",
      "                              mean       std    median      5.0%     95.0%     n_eff     r_hat\n",
      "               beta[0,0]      0.56      0.00      0.56      0.56      0.56      0.50      1.00\n",
      "               beta[0,1]      0.58      0.00      0.58      0.58      0.58      0.50      1.00\n",
      "               beta[0,2]      0.59      0.00      0.59      0.59      0.59      0.50      1.00\n",
      "               beta[0,3]      0.87      0.00      0.87      0.87      0.87      0.50      1.00\n",
      "               beta[1,0]      0.90      0.00      0.90      0.90      0.90      0.50      1.00\n",
      "               beta[1,1]      0.63      0.00      0.63      0.63      0.63      0.50      1.00\n",
      "               beta[1,2]      0.85      0.00      0.85      0.85      0.85      0.50      1.00\n",
      "               beta[1,3]      0.24      0.00      0.24      0.24      0.24      0.50      1.00\n",
      "               beta[2,0]      0.20      0.00      0.20      0.20      0.20      0.50      1.00\n",
      "               beta[2,1]      0.53      0.00      0.53      0.53      0.53      0.50      1.00\n",
      "               beta[2,2]      0.88      0.00      0.88      0.88      0.88      0.50      1.00\n",
      "               beta[2,3]      0.20      0.00      0.20      0.20      0.20      0.50      1.00\n",
      "             beta_top[0]      0.86      0.00      0.86      0.86      0.86      0.50      1.00\n",
      "             beta_top[1]      0.86      0.00      0.86      0.86      0.86      0.50      1.00\n",
      "             beta_top[2]      0.73      0.00      0.73      0.73      0.73      0.50      1.00\n",
      "             beta_top[3]      0.53      0.00      0.53      0.53      0.53      0.50      1.00\n",
      "cluster_assignments[0,0]      3.92      0.40      4.00      4.00      4.00    448.96      1.00\n",
      "cluster_assignments[0,1]      2.30      1.06      3.00      0.00      3.00    364.90      1.00\n",
      "cluster_assignments[0,2]      2.36      1.04      3.00      1.00      3.00    321.21      1.00\n",
      "cluster_assignments[0,3]      2.25      1.13      3.00      0.00      3.00    378.61      1.03\n",
      "cluster_assignments[0,4]      1.92      0.42      2.00      2.00      2.00    210.04      1.02\n",
      "cluster_assignments[0,5]      1.93      0.38      2.00      2.00      2.00    156.96      1.02\n",
      "cluster_assignments[0,6]      1.93      0.40      2.00      2.00      2.00    108.11      1.02\n",
      "cluster_assignments[1,0]      4.00      0.09      4.00      4.00      4.00    502.02      1.00\n",
      "cluster_assignments[1,1]      1.49      1.31      1.00      0.00      3.00    118.62      1.04\n",
      "cluster_assignments[1,2]      1.49      1.30      1.00      0.00      3.00     70.00      1.07\n",
      "cluster_assignments[1,3]      1.45      1.33      1.00      0.00      3.00     54.74      1.05\n",
      "cluster_assignments[1,4]      1.40      0.91      2.00      0.00      2.00      7.23      1.24\n",
      "cluster_assignments[1,5]      1.44      0.92      2.00      0.00      2.00      8.43      1.20\n",
      "cluster_assignments[1,6]      1.40      0.91      2.00      0.00      2.00      9.25      1.19\n",
      "cluster_assignments[2,0]      4.00      0.00      4.00      4.00      4.00       nan       nan\n",
      "cluster_assignments[2,1]      4.00      0.00      4.00      4.00      4.00       nan       nan\n",
      "cluster_assignments[2,2]      3.99      0.20      4.00      4.00      4.00    503.65      1.00\n",
      "cluster_assignments[2,3]      0.88      1.17      0.00      0.00      3.00     12.84      1.11\n",
      "cluster_assignments[2,4]      1.51      0.86      2.00      0.00      2.00      8.51      1.22\n",
      "cluster_assignments[2,5]      1.51      0.85      2.00      0.00      2.00      9.91      1.18\n",
      "cluster_assignments[2,6]      1.54      0.84      2.00      0.00      2.00      9.70      1.19\n",
      "    cluster_weights[0,0]      0.05      0.00      0.05      0.05      0.05      0.50      1.00\n",
      "    cluster_weights[0,1]      0.05      0.00      0.05      0.05      0.05      0.50      1.00\n",
      "    cluster_weights[0,2]      0.72      0.00      0.72      0.72      0.72      0.50      1.00\n",
      "    cluster_weights[0,3]      0.17      0.00      0.17      0.17      0.17      0.50      1.00\n",
      "    cluster_weights[0,4]      0.02      0.00      0.02      0.02      0.02      0.50      1.00\n",
      "    cluster_weights[1,0]      0.32      0.00      0.32      0.32      0.32      0.50      1.00\n",
      "    cluster_weights[1,1]      0.15      0.00      0.15      0.15      0.15      0.50      1.00\n",
      "    cluster_weights[1,2]      0.16      0.00      0.16      0.16      0.16      0.50      1.00\n",
      "    cluster_weights[1,3]      0.19      0.00      0.19      0.19      0.19      0.50      1.00\n",
      "    cluster_weights[1,4]      0.17      0.00      0.17      0.17      0.17      0.50      1.00\n",
      "    cluster_weights[2,0]      0.38      0.00      0.38      0.38      0.38      0.50      1.00\n",
      "    cluster_weights[2,1]      0.06      0.00      0.06      0.06      0.06      0.50      1.00\n",
      "    cluster_weights[2,2]      0.30      0.00      0.30      0.30      0.30      0.50      1.00\n",
      "    cluster_weights[2,3]      0.05      0.00      0.05      0.05      0.05      0.50      1.00\n",
      "    cluster_weights[2,4]      0.21      0.00      0.21      0.21      0.21      0.50      1.00\n",
      "              error_rate      0.91      0.00      0.91      0.91      0.91      0.50      1.00\n",
      "         haplotypes[0,0]      2.00      0.00      2.00      2.00      2.00       nan       nan\n",
      "         haplotypes[0,1]      3.00      0.09      3.00      3.00      3.00    502.02      1.00\n",
      "         haplotypes[0,2]      3.00      0.09      3.00      3.00      3.00    502.02      1.00\n",
      "         haplotypes[0,3]      2.35      0.48      2.00      2.00      3.00      3.51      1.58\n",
      "         haplotypes[0,4]      0.00      0.00      0.00      0.00      0.00       nan       nan\n",
      "         haplotypes[0,5]      2.00      0.00      2.00      2.00      2.00       nan       nan\n",
      "         haplotypes[0,6]      3.00      0.04      3.00      3.00      3.00    502.02      1.00\n",
      "         haplotypes[0,7]      0.00      0.09      0.00      0.00      0.00    502.02      1.00\n",
      "         haplotypes[0,8]      0.00      0.00      0.00      0.00      0.00       nan       nan\n",
      "         haplotypes[1,0]      1.98      0.35      2.00      2.00      2.00    457.11      1.00\n",
      "         haplotypes[1,1]      2.98      0.30      3.00      3.00      3.00    433.19      1.00\n",
      "         haplotypes[1,2]      2.97      0.35      3.00      3.00      3.00    564.91      1.00\n",
      "         haplotypes[1,3]      2.07      0.37      2.00      2.00      2.00     81.28      1.02\n",
      "         haplotypes[1,4]      0.07      0.49      0.00      0.00      0.00    430.00      1.00\n",
      "         haplotypes[1,5]      1.99      0.24      2.00      2.00      2.00    395.88      1.00\n",
      "         haplotypes[1,6]      2.97      0.29      3.00      3.00      3.00    311.88      1.00\n",
      "         haplotypes[1,7]      0.04      0.35      0.00      0.00      0.00    513.48      1.00\n",
      "         haplotypes[1,8]      0.08      0.51      0.00      0.00      0.00    496.40      1.00\n",
      "         haplotypes[2,0]      2.00      0.00      2.00      2.00      2.00       nan       nan\n",
      "         haplotypes[2,1]      3.00      0.00      3.00      3.00      3.00       nan       nan\n",
      "         haplotypes[2,2]      3.00      0.00      3.00      3.00      3.00       nan       nan\n",
      "         haplotypes[2,3]      2.96      0.19      3.00      3.00      3.00     27.48      1.04\n",
      "         haplotypes[2,4]      0.00      0.00      0.00      0.00      0.00       nan       nan\n",
      "         haplotypes[2,5]      2.00      0.00      2.00      2.00      2.00       nan       nan\n",
      "         haplotypes[2,6]      3.00      0.00      3.00      3.00      3.00       nan       nan\n",
      "         haplotypes[2,7]      0.00      0.00      0.00      0.00      0.00       nan       nan\n",
      "         haplotypes[2,8]      0.00      0.00      0.00      0.00      0.00       nan       nan\n",
      "         haplotypes[3,0]      2.00      0.00      2.00      2.00      2.00       nan       nan\n",
      "         haplotypes[3,1]      3.00      0.04      3.00      3.00      3.00    502.02      1.00\n",
      "         haplotypes[3,2]      3.00      0.06      3.00      3.00      3.00    504.06      1.00\n",
      "         haplotypes[3,3]      2.01      0.12      2.00      2.00      2.00    274.41      1.00\n",
      "         haplotypes[3,4]      0.00      0.00      0.00      0.00      0.00       nan       nan\n",
      "         haplotypes[3,5]      2.00      0.06      2.00      2.00      2.00    504.06      1.00\n",
      "         haplotypes[3,6]      2.99      0.10      3.00      3.00      3.00    503.65      1.00\n",
      "         haplotypes[3,7]      0.00      0.09      0.00      0.00      0.00    502.02      1.00\n",
      "         haplotypes[3,8]      0.01      0.16      0.00      0.00      0.00    503.91      1.00\n",
      "         haplotypes[4,0]      2.00      0.00      2.00      2.00      2.00       nan       nan\n",
      "         haplotypes[4,1]      3.00      0.00      3.00      3.00      3.00       nan       nan\n",
      "         haplotypes[4,2]      0.00      0.00      0.00      0.00      0.00       nan       nan\n",
      "         haplotypes[4,3]      0.00      0.00      0.00      0.00      0.00       nan       nan\n",
      "         haplotypes[4,4]      0.00      0.00      0.00      0.00      0.00       nan       nan\n",
      "         haplotypes[4,5]      2.00      0.00      2.00      2.00      2.00       nan       nan\n",
      "         haplotypes[4,6]      3.00      0.00      3.00      3.00      3.00       nan       nan\n",
      "         haplotypes[4,7]      0.00      0.00      0.00      0.00      0.00       nan       nan\n",
      "         haplotypes[4,8]      0.00      0.00      0.00      0.00      0.00       nan       nan\n",
      "           mutation_rate      0.90      0.00      0.90      0.90      0.90      0.50      1.00\n",
      "\n"
     ]
    }
   ],
   "source": [
    "mcmc.print_summary()"
   ]
  },
  {
   "cell_type": "code",
   "execution_count": 284,
   "id": "8ca7ded0",
   "metadata": {},
   "outputs": [],
   "source": [
    "posterior_samples = mcmc.get_samples()"
   ]
  },
  {
   "cell_type": "code",
   "execution_count": 252,
   "id": "d521cf00",
   "metadata": {},
   "outputs": [
    {
     "data": {
      "text/plain": [
       "{'beta': DeviceArray([[[0.15048507, 0.1492501 , 0.78917956, ..., 0.66552883,\n",
       "                0.77285314, 0.87546   ],\n",
       "               [0.8468671 , 0.7758716 , 0.86752367, ..., 0.12907606,\n",
       "                0.48507273, 0.6281886 ],\n",
       "               [0.8168245 , 0.7837722 , 0.16383778, ..., 0.7511588 ,\n",
       "                0.48109415, 0.5943088 ]],\n",
       " \n",
       "              [[0.15048507, 0.1492501 , 0.78917956, ..., 0.66552883,\n",
       "                0.77285314, 0.87546   ],\n",
       "               [0.8468671 , 0.7758716 , 0.86752367, ..., 0.12907606,\n",
       "                0.48507273, 0.6281886 ],\n",
       "               [0.8168245 , 0.7837722 , 0.16383778, ..., 0.7511588 ,\n",
       "                0.48109415, 0.5943088 ]],\n",
       " \n",
       "              [[0.15048507, 0.1492501 , 0.78917956, ..., 0.66552883,\n",
       "                0.77285314, 0.87546   ],\n",
       "               [0.8468671 , 0.7758716 , 0.86752367, ..., 0.12907606,\n",
       "                0.48507273, 0.6281886 ],\n",
       "               [0.8168245 , 0.7837722 , 0.16383778, ..., 0.7511588 ,\n",
       "                0.48109415, 0.5943088 ]],\n",
       " \n",
       "              ...,\n",
       " \n",
       "              [[0.15048507, 0.1492501 , 0.78917956, ..., 0.66552883,\n",
       "                0.77285314, 0.87546   ],\n",
       "               [0.8468671 , 0.7758716 , 0.86752367, ..., 0.12907606,\n",
       "                0.48507273, 0.6281886 ],\n",
       "               [0.8168245 , 0.7837722 , 0.16383778, ..., 0.7511588 ,\n",
       "                0.48109415, 0.5943088 ]],\n",
       " \n",
       "              [[0.15048507, 0.1492501 , 0.78917956, ..., 0.66552883,\n",
       "                0.77285314, 0.87546   ],\n",
       "               [0.8468671 , 0.7758716 , 0.86752367, ..., 0.12907606,\n",
       "                0.48507273, 0.6281886 ],\n",
       "               [0.8168245 , 0.7837722 , 0.16383778, ..., 0.7511588 ,\n",
       "                0.48109415, 0.5943088 ]],\n",
       " \n",
       "              [[0.15048507, 0.1492501 , 0.78917956, ..., 0.66552883,\n",
       "                0.77285314, 0.87546   ],\n",
       "               [0.8468671 , 0.7758716 , 0.86752367, ..., 0.12907606,\n",
       "                0.48507273, 0.6281886 ],\n",
       "               [0.8168245 , 0.7837722 , 0.16383778, ..., 0.7511588 ,\n",
       "                0.48109415, 0.5943088 ]]], dtype=float32),\n",
       " 'beta_top': DeviceArray([[0.8559259 , 0.78866494, 0.6149279 , ..., 0.4874009 ,\n",
       "               0.7945252 , 0.1517592 ],\n",
       "              [0.8559259 , 0.78866494, 0.6149279 , ..., 0.4874009 ,\n",
       "               0.7945252 , 0.1517592 ],\n",
       "              [0.8559259 , 0.78866494, 0.6149279 , ..., 0.4874009 ,\n",
       "               0.7945252 , 0.1517592 ],\n",
       "              ...,\n",
       "              [0.8559259 , 0.78866494, 0.6149279 , ..., 0.4874009 ,\n",
       "               0.7945252 , 0.1517592 ],\n",
       "              [0.8559259 , 0.78866494, 0.6149279 , ..., 0.4874009 ,\n",
       "               0.7945252 , 0.1517592 ],\n",
       "              [0.8559259 , 0.78866494, 0.6149279 , ..., 0.4874009 ,\n",
       "               0.7945252 , 0.1517592 ]], dtype=float32),\n",
       " 'cluster_assignments': DeviceArray([[[7, 6, 1, ..., 2, 2, 8],\n",
       "               [7, 6, 1, ..., 4, 4, 4],\n",
       "               [6, 4, 3, ..., 5, 3, 1]],\n",
       " \n",
       "              [[1, 1, 6, ..., 2, 1, 2],\n",
       "               [7, 2, 4, ..., 8, 4, 4],\n",
       "               [4, 4, 1, ..., 1, 4, 1]],\n",
       " \n",
       "              [[0, 1, 2, ..., 0, 1, 1],\n",
       "               [6, 4, 4, ..., 9, 6, 3],\n",
       "               [1, 1, 4, ..., 3, 1, 3]],\n",
       " \n",
       "              ...,\n",
       " \n",
       "              [[6, 0, 1, ..., 1, 1, 3],\n",
       "               [9, 4, 7, ..., 0, 9, 7],\n",
       "               [1, 3, 3, ..., 0, 1, 3]],\n",
       " \n",
       "              [[0, 1, 0, ..., 1, 3, 1],\n",
       "               [4, 0, 7, ..., 4, 7, 3],\n",
       "               [3, 3, 0, ..., 2, 4, 4]],\n",
       " \n",
       "              [[0, 0, 6, ..., 2, 4, 2],\n",
       "               [6, 7, 6, ..., 4, 4, 4],\n",
       "               [4, 3, 4, ..., 3, 0, 4]]], dtype=int32),\n",
       " 'cluster_weights': DeviceArray([[[0.24875654, 0.28891635, 0.1917524 , ..., 0.01518603,\n",
       "                0.02476009, 0.01266291],\n",
       "               [0.03417569, 0.02230906, 0.06511246, ..., 0.19789086,\n",
       "                0.04087235, 0.26595876],\n",
       "               [0.06613208, 0.2258131 , 0.04282323, ..., 0.00607293,\n",
       "                0.02254846, 0.03164481]],\n",
       " \n",
       "              [[0.24875654, 0.28891635, 0.1917524 , ..., 0.01518603,\n",
       "                0.02476009, 0.01266291],\n",
       "               [0.03417569, 0.02230906, 0.06511246, ..., 0.19789086,\n",
       "                0.04087235, 0.26595876],\n",
       "               [0.06613208, 0.2258131 , 0.04282323, ..., 0.00607293,\n",
       "                0.02254846, 0.03164481]],\n",
       " \n",
       "              [[0.24875654, 0.28891635, 0.1917524 , ..., 0.01518603,\n",
       "                0.02476009, 0.01266291],\n",
       "               [0.03417569, 0.02230906, 0.06511246, ..., 0.19789086,\n",
       "                0.04087235, 0.26595876],\n",
       "               [0.06613208, 0.2258131 , 0.04282323, ..., 0.00607293,\n",
       "                0.02254846, 0.03164481]],\n",
       " \n",
       "              ...,\n",
       " \n",
       "              [[0.24875654, 0.28891635, 0.1917524 , ..., 0.01518603,\n",
       "                0.02476009, 0.01266291],\n",
       "               [0.03417569, 0.02230906, 0.06511246, ..., 0.19789086,\n",
       "                0.04087235, 0.26595876],\n",
       "               [0.06613208, 0.2258131 , 0.04282323, ..., 0.00607293,\n",
       "                0.02254846, 0.03164481]],\n",
       " \n",
       "              [[0.24875654, 0.28891635, 0.1917524 , ..., 0.01518603,\n",
       "                0.02476009, 0.01266291],\n",
       "               [0.03417569, 0.02230906, 0.06511246, ..., 0.19789086,\n",
       "                0.04087235, 0.26595876],\n",
       "               [0.06613208, 0.2258131 , 0.04282323, ..., 0.00607293,\n",
       "                0.02254846, 0.03164481]],\n",
       " \n",
       "              [[0.24875654, 0.28891635, 0.1917524 , ..., 0.01518603,\n",
       "                0.02476009, 0.01266291],\n",
       "               [0.03417569, 0.02230906, 0.06511246, ..., 0.19789086,\n",
       "                0.04087235, 0.26595876],\n",
       "               [0.06613208, 0.2258131 , 0.04282323, ..., 0.00607293,\n",
       "                0.02254846, 0.03164481]]], dtype=float32),\n",
       " 'error_rate': DeviceArray([0.40289858, 0.40289858, 0.40289858, ..., 0.40289858,\n",
       "              0.40289858, 0.40289858], dtype=float32),\n",
       " 'haplotypes': DeviceArray([[[2, 2, 3, ..., 3, 0, 0],\n",
       "               [2, 3, 3, ..., 3, 0, 0],\n",
       "               [2, 3, 3, ..., 3, 0, 0],\n",
       "               ...,\n",
       "               [2, 3, 3, ..., 3, 0, 0],\n",
       "               [2, 3, 3, ..., 3, 0, 2],\n",
       "               [4, 3, 3, ..., 3, 0, 0]],\n",
       " \n",
       "              [[2, 3, 3, ..., 3, 3, 0],\n",
       "               [2, 3, 3, ..., 3, 0, 0],\n",
       "               [2, 3, 3, ..., 3, 0, 0],\n",
       "               ...,\n",
       "               [2, 3, 3, ..., 3, 0, 0],\n",
       "               [2, 3, 2, ..., 3, 0, 0],\n",
       "               [4, 3, 1, ..., 3, 0, 0]],\n",
       " \n",
       "              [[2, 3, 3, ..., 3, 0, 0],\n",
       "               [2, 3, 3, ..., 3, 0, 0],\n",
       "               [2, 3, 3, ..., 3, 0, 4],\n",
       "               ...,\n",
       "               [2, 3, 3, ..., 3, 0, 0],\n",
       "               [2, 2, 3, ..., 0, 1, 0],\n",
       "               [3, 1, 3, ..., 3, 0, 0]],\n",
       " \n",
       "              ...,\n",
       " \n",
       "              [[2, 3, 3, ..., 3, 0, 0],\n",
       "               [2, 3, 3, ..., 3, 0, 0],\n",
       "               [3, 4, 3, ..., 2, 0, 0],\n",
       "               ...,\n",
       "               [2, 3, 3, ..., 3, 0, 0],\n",
       "               [2, 3, 3, ..., 1, 0, 0],\n",
       "               [2, 3, 3, ..., 3, 0, 0]],\n",
       " \n",
       "              [[2, 3, 3, ..., 3, 0, 0],\n",
       "               [2, 3, 3, ..., 3, 0, 0],\n",
       "               [2, 3, 3, ..., 1, 0, 0],\n",
       "               ...,\n",
       "               [2, 3, 3, ..., 3, 0, 0],\n",
       "               [2, 3, 3, ..., 3, 1, 0],\n",
       "               [2, 3, 0, ..., 3, 0, 0]],\n",
       " \n",
       "              [[2, 3, 3, ..., 3, 0, 0],\n",
       "               [2, 3, 3, ..., 3, 0, 0],\n",
       "               [2, 3, 3, ..., 3, 0, 0],\n",
       "               ...,\n",
       "               [2, 3, 3, ..., 3, 0, 0],\n",
       "               [2, 3, 3, ..., 4, 0, 0],\n",
       "               [2, 3, 3, ..., 3, 0, 0]]], dtype=int32),\n",
       " 'mutation_rate': DeviceArray([0.8320031, 0.8320031, 0.8320031, ..., 0.8320031, 0.8320031,\n",
       "              0.8320031], dtype=float32)}"
      ]
     },
     "execution_count": 252,
     "metadata": {},
     "output_type": "execute_result"
    }
   ],
   "source": [
    "posterior_samples"
   ]
  },
  {
   "cell_type": "code",
   "execution_count": 253,
   "id": "f8d958a2",
   "metadata": {
    "scrolled": false
   },
   "outputs": [
    {
     "ename": "KeyError",
     "evalue": "'genome_axis'",
     "output_type": "error",
     "traceback": [
      "\u001b[0;31m---------------------------------------------------------------------------\u001b[0m",
      "\u001b[0;31mKeyError\u001b[0m                                  Traceback (most recent call last)",
      "\u001b[0;32m/var/folders/dw/8dl4p6h53cgcmk6cf_09v5f40000gr/T/ipykernel_19981/2533909714.py\u001b[0m in \u001b[0;36m<module>\u001b[0;34m\u001b[0m\n\u001b[1;32m      3\u001b[0m \u001b[0;34m\u001b[0m\u001b[0m\n\u001b[1;32m      4\u001b[0m \u001b[0mposterior_predictive\u001b[0m \u001b[0;34m=\u001b[0m \u001b[0mPredictive\u001b[0m\u001b[0;34m(\u001b[0m\u001b[0mmodel\u001b[0m\u001b[0;34m,\u001b[0m \u001b[0mposterior_samples\u001b[0m\u001b[0;34m,\u001b[0m \u001b[0minfer_discrete\u001b[0m\u001b[0;34m=\u001b[0m\u001b[0;32mTrue\u001b[0m\u001b[0;34m)\u001b[0m\u001b[0;34m\u001b[0m\u001b[0;34m\u001b[0m\u001b[0m\n\u001b[0;32m----> 5\u001b[0;31m \u001b[0mposterior_predictions\u001b[0m \u001b[0;34m=\u001b[0m \u001b[0mposterior_predictive\u001b[0m\u001b[0;34m(\u001b[0m\u001b[0mrng_key\u001b[0m\u001b[0;34m,\u001b[0m \u001b[0minput_data\u001b[0m\u001b[0;34m=\u001b[0m\u001b[0minput_data\u001b[0m\u001b[0;34m)\u001b[0m\u001b[0;34m\u001b[0m\u001b[0;34m\u001b[0m\u001b[0m\n\u001b[0m",
      "\u001b[0;32m~/Library/Python/3.9/lib/python/site-packages/numpyro/infer/util.py\u001b[0m in \u001b[0;36m__call__\u001b[0;34m(self, rng_key, *args, **kwargs)\u001b[0m\n\u001b[1;32m    964\u001b[0m         \"\"\"\n\u001b[1;32m    965\u001b[0m         \u001b[0;32mif\u001b[0m \u001b[0mself\u001b[0m\u001b[0;34m.\u001b[0m\u001b[0mbatch_ndims\u001b[0m \u001b[0;34m==\u001b[0m \u001b[0;36m0\u001b[0m \u001b[0;32mor\u001b[0m \u001b[0mself\u001b[0m\u001b[0;34m.\u001b[0m\u001b[0mparams\u001b[0m \u001b[0;34m==\u001b[0m \u001b[0;34m{\u001b[0m\u001b[0;34m}\u001b[0m \u001b[0;32mor\u001b[0m \u001b[0mself\u001b[0m\u001b[0;34m.\u001b[0m\u001b[0mguide\u001b[0m \u001b[0;32mis\u001b[0m \u001b[0;32mNone\u001b[0m\u001b[0;34m:\u001b[0m\u001b[0;34m\u001b[0m\u001b[0;34m\u001b[0m\u001b[0m\n\u001b[0;32m--> 966\u001b[0;31m             \u001b[0;32mreturn\u001b[0m \u001b[0mself\u001b[0m\u001b[0;34m.\u001b[0m\u001b[0m_call_with_params\u001b[0m\u001b[0;34m(\u001b[0m\u001b[0mrng_key\u001b[0m\u001b[0;34m,\u001b[0m \u001b[0mself\u001b[0m\u001b[0;34m.\u001b[0m\u001b[0mparams\u001b[0m\u001b[0;34m,\u001b[0m \u001b[0margs\u001b[0m\u001b[0;34m,\u001b[0m \u001b[0mkwargs\u001b[0m\u001b[0;34m)\u001b[0m\u001b[0;34m\u001b[0m\u001b[0;34m\u001b[0m\u001b[0m\n\u001b[0m\u001b[1;32m    967\u001b[0m         \u001b[0;32melif\u001b[0m \u001b[0mself\u001b[0m\u001b[0;34m.\u001b[0m\u001b[0mbatch_ndims\u001b[0m \u001b[0;34m==\u001b[0m \u001b[0;36m1\u001b[0m\u001b[0;34m:\u001b[0m  \u001b[0;31m# batch over parameters\u001b[0m\u001b[0;34m\u001b[0m\u001b[0;34m\u001b[0m\u001b[0m\n\u001b[1;32m    968\u001b[0m             \u001b[0mbatch_size\u001b[0m \u001b[0;34m=\u001b[0m \u001b[0mjnp\u001b[0m\u001b[0;34m.\u001b[0m\u001b[0mshape\u001b[0m\u001b[0;34m(\u001b[0m\u001b[0mtree_flatten\u001b[0m\u001b[0;34m(\u001b[0m\u001b[0mself\u001b[0m\u001b[0;34m.\u001b[0m\u001b[0mparams\u001b[0m\u001b[0;34m)\u001b[0m\u001b[0;34m[\u001b[0m\u001b[0;36m0\u001b[0m\u001b[0;34m]\u001b[0m\u001b[0;34m[\u001b[0m\u001b[0;36m0\u001b[0m\u001b[0;34m]\u001b[0m\u001b[0;34m)\u001b[0m\u001b[0;34m[\u001b[0m\u001b[0;36m0\u001b[0m\u001b[0;34m]\u001b[0m\u001b[0;34m\u001b[0m\u001b[0;34m\u001b[0m\u001b[0m\n",
      "\u001b[0;32m~/Library/Python/3.9/lib/python/site-packages/numpyro/infer/util.py\u001b[0m in \u001b[0;36m_call_with_params\u001b[0;34m(self, rng_key, params, args, kwargs)\u001b[0m\n\u001b[1;32m    941\u001b[0m             )\n\u001b[1;32m    942\u001b[0m         \u001b[0mmodel\u001b[0m \u001b[0;34m=\u001b[0m \u001b[0msubstitute\u001b[0m\u001b[0;34m(\u001b[0m\u001b[0mself\u001b[0m\u001b[0;34m.\u001b[0m\u001b[0mmodel\u001b[0m\u001b[0;34m,\u001b[0m \u001b[0mself\u001b[0m\u001b[0;34m.\u001b[0m\u001b[0mparams\u001b[0m\u001b[0;34m)\u001b[0m\u001b[0;34m\u001b[0m\u001b[0;34m\u001b[0m\u001b[0m\n\u001b[0;32m--> 943\u001b[0;31m         return _predictive(\n\u001b[0m\u001b[1;32m    944\u001b[0m             \u001b[0mrng_key\u001b[0m\u001b[0;34m,\u001b[0m\u001b[0;34m\u001b[0m\u001b[0;34m\u001b[0m\u001b[0m\n\u001b[1;32m    945\u001b[0m             \u001b[0mmodel\u001b[0m\u001b[0;34m,\u001b[0m\u001b[0;34m\u001b[0m\u001b[0;34m\u001b[0m\u001b[0m\n",
      "\u001b[0;32m~/Library/Python/3.9/lib/python/site-packages/numpyro/infer/util.py\u001b[0m in \u001b[0;36m_predictive\u001b[0;34m(rng_key, model, posterior_samples, batch_shape, return_sites, infer_discrete, parallel, model_args, model_kwargs)\u001b[0m\n\u001b[1;32m    782\u001b[0m     \u001b[0mrng_key\u001b[0m \u001b[0;34m=\u001b[0m \u001b[0mrng_key\u001b[0m\u001b[0;34m.\u001b[0m\u001b[0mreshape\u001b[0m\u001b[0;34m(\u001b[0m\u001b[0;34m(\u001b[0m\u001b[0;34m*\u001b[0m\u001b[0mbatch_shape\u001b[0m\u001b[0;34m,\u001b[0m \u001b[0;36m2\u001b[0m\u001b[0;34m)\u001b[0m\u001b[0;34m)\u001b[0m\u001b[0;34m\u001b[0m\u001b[0;34m\u001b[0m\u001b[0m\n\u001b[1;32m    783\u001b[0m     \u001b[0mchunk_size\u001b[0m \u001b[0;34m=\u001b[0m \u001b[0mnum_samples\u001b[0m \u001b[0;32mif\u001b[0m \u001b[0mparallel\u001b[0m \u001b[0;32melse\u001b[0m \u001b[0;36m1\u001b[0m\u001b[0;34m\u001b[0m\u001b[0;34m\u001b[0m\u001b[0m\n\u001b[0;32m--> 784\u001b[0;31m     return soft_vmap(\n\u001b[0m\u001b[1;32m    785\u001b[0m         \u001b[0msingle_prediction\u001b[0m\u001b[0;34m,\u001b[0m \u001b[0;34m(\u001b[0m\u001b[0mrng_key\u001b[0m\u001b[0;34m,\u001b[0m \u001b[0mposterior_samples\u001b[0m\u001b[0;34m)\u001b[0m\u001b[0;34m,\u001b[0m \u001b[0mlen\u001b[0m\u001b[0;34m(\u001b[0m\u001b[0mbatch_shape\u001b[0m\u001b[0;34m)\u001b[0m\u001b[0;34m,\u001b[0m \u001b[0mchunk_size\u001b[0m\u001b[0;34m\u001b[0m\u001b[0;34m\u001b[0m\u001b[0m\n\u001b[1;32m    786\u001b[0m     )\n",
      "\u001b[0;32m~/Library/Python/3.9/lib/python/site-packages/numpyro/util.py\u001b[0m in \u001b[0;36msoft_vmap\u001b[0;34m(fn, xs, batch_ndims, chunk_size)\u001b[0m\n\u001b[1;32m    408\u001b[0m         \u001b[0mfn\u001b[0m \u001b[0;34m=\u001b[0m \u001b[0mvmap\u001b[0m\u001b[0;34m(\u001b[0m\u001b[0mfn\u001b[0m\u001b[0;34m)\u001b[0m\u001b[0;34m\u001b[0m\u001b[0;34m\u001b[0m\u001b[0m\n\u001b[1;32m    409\u001b[0m \u001b[0;34m\u001b[0m\u001b[0m\n\u001b[0;32m--> 410\u001b[0;31m     \u001b[0mys\u001b[0m \u001b[0;34m=\u001b[0m \u001b[0mlax\u001b[0m\u001b[0;34m.\u001b[0m\u001b[0mmap\u001b[0m\u001b[0;34m(\u001b[0m\u001b[0mfn\u001b[0m\u001b[0;34m,\u001b[0m \u001b[0mxs\u001b[0m\u001b[0;34m)\u001b[0m \u001b[0;32mif\u001b[0m \u001b[0mnum_chunks\u001b[0m \u001b[0;34m>\u001b[0m \u001b[0;36m1\u001b[0m \u001b[0;32melse\u001b[0m \u001b[0mfn\u001b[0m\u001b[0;34m(\u001b[0m\u001b[0mxs\u001b[0m\u001b[0;34m)\u001b[0m\u001b[0;34m\u001b[0m\u001b[0;34m\u001b[0m\u001b[0m\n\u001b[0m\u001b[1;32m    411\u001b[0m     \u001b[0mmap_ndims\u001b[0m \u001b[0;34m=\u001b[0m \u001b[0mint\u001b[0m\u001b[0;34m(\u001b[0m\u001b[0mnum_chunks\u001b[0m \u001b[0;34m>\u001b[0m \u001b[0;36m1\u001b[0m\u001b[0;34m)\u001b[0m \u001b[0;34m+\u001b[0m \u001b[0mint\u001b[0m\u001b[0;34m(\u001b[0m\u001b[0mchunk_size\u001b[0m \u001b[0;34m>\u001b[0m \u001b[0;36m1\u001b[0m\u001b[0;34m)\u001b[0m\u001b[0;34m\u001b[0m\u001b[0;34m\u001b[0m\u001b[0m\n\u001b[1;32m    412\u001b[0m     ys = tree_map(\n",
      "    \u001b[0;31m[... skipping hidden 16 frame]\u001b[0m\n",
      "\u001b[0;32m~/Library/Python/3.9/lib/python/site-packages/numpyro/infer/util.py\u001b[0m in \u001b[0;36msingle_prediction\u001b[0;34m(val)\u001b[0m\n\u001b[1;32m    747\u001b[0m             \u001b[0mmodel_trace\u001b[0m \u001b[0;34m=\u001b[0m \u001b[0mprototype_trace\u001b[0m\u001b[0;34m\u001b[0m\u001b[0;34m\u001b[0m\u001b[0m\n\u001b[1;32m    748\u001b[0m             \u001b[0mtemperature\u001b[0m \u001b[0;34m=\u001b[0m \u001b[0;36m1\u001b[0m\u001b[0;34m\u001b[0m\u001b[0;34m\u001b[0m\u001b[0m\n\u001b[0;32m--> 749\u001b[0;31m             pred_samples = _sample_posterior(\n\u001b[0m\u001b[1;32m    750\u001b[0m                 \u001b[0mconfig_enumerate\u001b[0m\u001b[0;34m(\u001b[0m\u001b[0mcondition\u001b[0m\u001b[0;34m(\u001b[0m\u001b[0mmodel\u001b[0m\u001b[0;34m,\u001b[0m \u001b[0msamples\u001b[0m\u001b[0;34m)\u001b[0m\u001b[0;34m)\u001b[0m\u001b[0;34m,\u001b[0m\u001b[0;34m\u001b[0m\u001b[0;34m\u001b[0m\u001b[0m\n\u001b[1;32m    751\u001b[0m                 \u001b[0mfirst_available_dim\u001b[0m\u001b[0;34m,\u001b[0m\u001b[0;34m\u001b[0m\u001b[0;34m\u001b[0m\u001b[0m\n",
      "\u001b[0;32m~/Library/Python/3.9/lib/python/site-packages/numpyro/contrib/funsor/discrete.py\u001b[0m in \u001b[0;36m_sample_posterior\u001b[0;34m(model, first_available_dim, temperature, rng_key, *args, **kwargs)\u001b[0m\n\u001b[1;32m     60\u001b[0m     \u001b[0;32mwith\u001b[0m \u001b[0mfunsor\u001b[0m\u001b[0;34m.\u001b[0m\u001b[0madjoint\u001b[0m\u001b[0;34m.\u001b[0m\u001b[0mAdjointTape\u001b[0m\u001b[0;34m(\u001b[0m\u001b[0;34m)\u001b[0m \u001b[0;32mas\u001b[0m \u001b[0mtape\u001b[0m\u001b[0;34m:\u001b[0m\u001b[0;34m\u001b[0m\u001b[0;34m\u001b[0m\u001b[0m\n\u001b[1;32m     61\u001b[0m         \u001b[0;32mwith\u001b[0m \u001b[0mblock\u001b[0m\u001b[0;34m(\u001b[0m\u001b[0;34m)\u001b[0m\u001b[0;34m,\u001b[0m \u001b[0menum\u001b[0m\u001b[0;34m(\u001b[0m\u001b[0mfirst_available_dim\u001b[0m\u001b[0;34m=\u001b[0m\u001b[0mfirst_available_dim\u001b[0m\u001b[0;34m)\u001b[0m\u001b[0;34m:\u001b[0m\u001b[0;34m\u001b[0m\u001b[0;34m\u001b[0m\u001b[0m\n\u001b[0;32m---> 62\u001b[0;31m             log_prob, model_tr, log_measures = _enum_log_density(\n\u001b[0m\u001b[1;32m     63\u001b[0m                 \u001b[0mmodel\u001b[0m\u001b[0;34m,\u001b[0m \u001b[0margs\u001b[0m\u001b[0;34m,\u001b[0m \u001b[0mkwargs\u001b[0m\u001b[0;34m,\u001b[0m \u001b[0;34m{\u001b[0m\u001b[0;34m}\u001b[0m\u001b[0;34m,\u001b[0m \u001b[0msum_op\u001b[0m\u001b[0;34m,\u001b[0m \u001b[0mprod_op\u001b[0m\u001b[0;34m\u001b[0m\u001b[0;34m\u001b[0m\u001b[0m\n\u001b[1;32m     64\u001b[0m             )\n",
      "\u001b[0;32m~/Library/Python/3.9/lib/python/site-packages/numpyro/contrib/funsor/infer_util.py\u001b[0m in \u001b[0;36m_enum_log_density\u001b[0;34m(model, model_args, model_kwargs, params, sum_op, prod_op)\u001b[0m\n\u001b[1;32m    157\u001b[0m     \u001b[0mmodel\u001b[0m \u001b[0;34m=\u001b[0m \u001b[0msubstitute\u001b[0m\u001b[0;34m(\u001b[0m\u001b[0mmodel\u001b[0m\u001b[0;34m,\u001b[0m \u001b[0mdata\u001b[0m\u001b[0;34m=\u001b[0m\u001b[0mparams\u001b[0m\u001b[0;34m)\u001b[0m\u001b[0;34m\u001b[0m\u001b[0;34m\u001b[0m\u001b[0m\n\u001b[1;32m    158\u001b[0m     \u001b[0;32mwith\u001b[0m \u001b[0mplate_to_enum_plate\u001b[0m\u001b[0;34m(\u001b[0m\u001b[0;34m)\u001b[0m\u001b[0;34m:\u001b[0m\u001b[0;34m\u001b[0m\u001b[0;34m\u001b[0m\u001b[0m\n\u001b[0;32m--> 159\u001b[0;31m         \u001b[0mmodel_trace\u001b[0m \u001b[0;34m=\u001b[0m \u001b[0mpacked_trace\u001b[0m\u001b[0;34m(\u001b[0m\u001b[0mmodel\u001b[0m\u001b[0;34m)\u001b[0m\u001b[0;34m.\u001b[0m\u001b[0mget_trace\u001b[0m\u001b[0;34m(\u001b[0m\u001b[0;34m*\u001b[0m\u001b[0mmodel_args\u001b[0m\u001b[0;34m,\u001b[0m \u001b[0;34m**\u001b[0m\u001b[0mmodel_kwargs\u001b[0m\u001b[0;34m)\u001b[0m\u001b[0;34m\u001b[0m\u001b[0;34m\u001b[0m\u001b[0m\n\u001b[0m\u001b[1;32m    160\u001b[0m     \u001b[0mlog_factors\u001b[0m \u001b[0;34m=\u001b[0m \u001b[0;34m[\u001b[0m\u001b[0;34m]\u001b[0m\u001b[0;34m\u001b[0m\u001b[0;34m\u001b[0m\u001b[0m\n\u001b[1;32m    161\u001b[0m     \u001b[0mtime_to_factors\u001b[0m \u001b[0;34m=\u001b[0m \u001b[0mdefaultdict\u001b[0m\u001b[0;34m(\u001b[0m\u001b[0mlist\u001b[0m\u001b[0;34m)\u001b[0m  \u001b[0;31m# log prob factors\u001b[0m\u001b[0;34m\u001b[0m\u001b[0;34m\u001b[0m\u001b[0m\n",
      "\u001b[0;32m~/Library/Python/3.9/lib/python/site-packages/numpyro/handlers.py\u001b[0m in \u001b[0;36mget_trace\u001b[0;34m(self, *args, **kwargs)\u001b[0m\n\u001b[1;32m    169\u001b[0m         \u001b[0;34m:\u001b[0m\u001b[0;32mreturn\u001b[0m\u001b[0;34m:\u001b[0m\u001b[0;31m \u001b[0m\u001b[0;31m`\u001b[0m\u001b[0mOrderedDict\u001b[0m\u001b[0;31m`\u001b[0m \u001b[0mcontaining\u001b[0m \u001b[0mthe\u001b[0m \u001b[0mexecution\u001b[0m \u001b[0mtrace\u001b[0m\u001b[0;34m.\u001b[0m\u001b[0;34m\u001b[0m\u001b[0;34m\u001b[0m\u001b[0m\n\u001b[1;32m    170\u001b[0m         \"\"\"\n\u001b[0;32m--> 171\u001b[0;31m         \u001b[0mself\u001b[0m\u001b[0;34m(\u001b[0m\u001b[0;34m*\u001b[0m\u001b[0margs\u001b[0m\u001b[0;34m,\u001b[0m \u001b[0;34m**\u001b[0m\u001b[0mkwargs\u001b[0m\u001b[0;34m)\u001b[0m\u001b[0;34m\u001b[0m\u001b[0;34m\u001b[0m\u001b[0m\n\u001b[0m\u001b[1;32m    172\u001b[0m         \u001b[0;32mreturn\u001b[0m \u001b[0mself\u001b[0m\u001b[0;34m.\u001b[0m\u001b[0mtrace\u001b[0m\u001b[0;34m\u001b[0m\u001b[0;34m\u001b[0m\u001b[0m\n\u001b[1;32m    173\u001b[0m \u001b[0;34m\u001b[0m\u001b[0m\n",
      "\u001b[0;32m~/Library/Python/3.9/lib/python/site-packages/numpyro/primitives.py\u001b[0m in \u001b[0;36m__call__\u001b[0;34m(self, *args, **kwargs)\u001b[0m\n\u001b[1;32m     85\u001b[0m             \u001b[0;32mreturn\u001b[0m \u001b[0mself\u001b[0m\u001b[0;34m\u001b[0m\u001b[0;34m\u001b[0m\u001b[0m\n\u001b[1;32m     86\u001b[0m         \u001b[0;32mwith\u001b[0m \u001b[0mself\u001b[0m\u001b[0;34m:\u001b[0m\u001b[0;34m\u001b[0m\u001b[0;34m\u001b[0m\u001b[0m\n\u001b[0;32m---> 87\u001b[0;31m             \u001b[0;32mreturn\u001b[0m \u001b[0mself\u001b[0m\u001b[0;34m.\u001b[0m\u001b[0mfn\u001b[0m\u001b[0;34m(\u001b[0m\u001b[0;34m*\u001b[0m\u001b[0margs\u001b[0m\u001b[0;34m,\u001b[0m \u001b[0;34m**\u001b[0m\u001b[0mkwargs\u001b[0m\u001b[0;34m)\u001b[0m\u001b[0;34m\u001b[0m\u001b[0;34m\u001b[0m\u001b[0m\n\u001b[0m\u001b[1;32m     88\u001b[0m \u001b[0;34m\u001b[0m\u001b[0m\n\u001b[1;32m     89\u001b[0m \u001b[0;34m\u001b[0m\u001b[0m\n",
      "\u001b[0;32m~/Library/Python/3.9/lib/python/site-packages/numpyro/primitives.py\u001b[0m in \u001b[0;36m__call__\u001b[0;34m(self, *args, **kwargs)\u001b[0m\n\u001b[1;32m     85\u001b[0m             \u001b[0;32mreturn\u001b[0m \u001b[0mself\u001b[0m\u001b[0;34m\u001b[0m\u001b[0;34m\u001b[0m\u001b[0m\n\u001b[1;32m     86\u001b[0m         \u001b[0;32mwith\u001b[0m \u001b[0mself\u001b[0m\u001b[0;34m:\u001b[0m\u001b[0;34m\u001b[0m\u001b[0;34m\u001b[0m\u001b[0m\n\u001b[0;32m---> 87\u001b[0;31m             \u001b[0;32mreturn\u001b[0m \u001b[0mself\u001b[0m\u001b[0;34m.\u001b[0m\u001b[0mfn\u001b[0m\u001b[0;34m(\u001b[0m\u001b[0;34m*\u001b[0m\u001b[0margs\u001b[0m\u001b[0;34m,\u001b[0m \u001b[0;34m**\u001b[0m\u001b[0mkwargs\u001b[0m\u001b[0;34m)\u001b[0m\u001b[0;34m\u001b[0m\u001b[0;34m\u001b[0m\u001b[0m\n\u001b[0m\u001b[1;32m     88\u001b[0m \u001b[0;34m\u001b[0m\u001b[0m\n\u001b[1;32m     89\u001b[0m \u001b[0;34m\u001b[0m\u001b[0m\n",
      "\u001b[0;32m~/Library/Python/3.9/lib/python/site-packages/numpyro/primitives.py\u001b[0m in \u001b[0;36m__call__\u001b[0;34m(self, *args, **kwargs)\u001b[0m\n\u001b[1;32m     85\u001b[0m             \u001b[0;32mreturn\u001b[0m \u001b[0mself\u001b[0m\u001b[0;34m\u001b[0m\u001b[0;34m\u001b[0m\u001b[0m\n\u001b[1;32m     86\u001b[0m         \u001b[0;32mwith\u001b[0m \u001b[0mself\u001b[0m\u001b[0;34m:\u001b[0m\u001b[0;34m\u001b[0m\u001b[0;34m\u001b[0m\u001b[0m\n\u001b[0;32m---> 87\u001b[0;31m             \u001b[0;32mreturn\u001b[0m \u001b[0mself\u001b[0m\u001b[0;34m.\u001b[0m\u001b[0mfn\u001b[0m\u001b[0;34m(\u001b[0m\u001b[0;34m*\u001b[0m\u001b[0margs\u001b[0m\u001b[0;34m,\u001b[0m \u001b[0;34m**\u001b[0m\u001b[0mkwargs\u001b[0m\u001b[0;34m)\u001b[0m\u001b[0;34m\u001b[0m\u001b[0;34m\u001b[0m\u001b[0m\n\u001b[0m\u001b[1;32m     88\u001b[0m \u001b[0;34m\u001b[0m\u001b[0m\n\u001b[1;32m     89\u001b[0m \u001b[0;34m\u001b[0m\u001b[0m\n",
      "\u001b[0;32m~/Library/Python/3.9/lib/python/site-packages/numpyro/primitives.py\u001b[0m in \u001b[0;36m__call__\u001b[0;34m(self, *args, **kwargs)\u001b[0m\n\u001b[1;32m     85\u001b[0m             \u001b[0;32mreturn\u001b[0m \u001b[0mself\u001b[0m\u001b[0;34m\u001b[0m\u001b[0;34m\u001b[0m\u001b[0m\n\u001b[1;32m     86\u001b[0m         \u001b[0;32mwith\u001b[0m \u001b[0mself\u001b[0m\u001b[0;34m:\u001b[0m\u001b[0;34m\u001b[0m\u001b[0;34m\u001b[0m\u001b[0m\n\u001b[0;32m---> 87\u001b[0;31m             \u001b[0;32mreturn\u001b[0m \u001b[0mself\u001b[0m\u001b[0;34m.\u001b[0m\u001b[0mfn\u001b[0m\u001b[0;34m(\u001b[0m\u001b[0;34m*\u001b[0m\u001b[0margs\u001b[0m\u001b[0;34m,\u001b[0m \u001b[0;34m**\u001b[0m\u001b[0mkwargs\u001b[0m\u001b[0;34m)\u001b[0m\u001b[0;34m\u001b[0m\u001b[0;34m\u001b[0m\u001b[0m\n\u001b[0m\u001b[1;32m     88\u001b[0m \u001b[0;34m\u001b[0m\u001b[0m\n\u001b[1;32m     89\u001b[0m \u001b[0;34m\u001b[0m\u001b[0m\n",
      "\u001b[0;32m~/Library/Python/3.9/lib/python/site-packages/numpyro/primitives.py\u001b[0m in \u001b[0;36m__call__\u001b[0;34m(self, *args, **kwargs)\u001b[0m\n\u001b[1;32m     85\u001b[0m             \u001b[0;32mreturn\u001b[0m \u001b[0mself\u001b[0m\u001b[0;34m\u001b[0m\u001b[0;34m\u001b[0m\u001b[0m\n\u001b[1;32m     86\u001b[0m         \u001b[0;32mwith\u001b[0m \u001b[0mself\u001b[0m\u001b[0;34m:\u001b[0m\u001b[0;34m\u001b[0m\u001b[0;34m\u001b[0m\u001b[0m\n\u001b[0;32m---> 87\u001b[0;31m             \u001b[0;32mreturn\u001b[0m \u001b[0mself\u001b[0m\u001b[0;34m.\u001b[0m\u001b[0mfn\u001b[0m\u001b[0;34m(\u001b[0m\u001b[0;34m*\u001b[0m\u001b[0margs\u001b[0m\u001b[0;34m,\u001b[0m \u001b[0;34m**\u001b[0m\u001b[0mkwargs\u001b[0m\u001b[0;34m)\u001b[0m\u001b[0;34m\u001b[0m\u001b[0;34m\u001b[0m\u001b[0m\n\u001b[0m\u001b[1;32m     88\u001b[0m \u001b[0;34m\u001b[0m\u001b[0m\n\u001b[1;32m     89\u001b[0m \u001b[0;34m\u001b[0m\u001b[0m\n",
      "\u001b[0;32m/var/folders/dw/8dl4p6h53cgcmk6cf_09v5f40000gr/T/ipykernel_19981/2894122897.py\u001b[0m in \u001b[0;36mmodel_hierarchicalSBMM\u001b[0;34m(input_data)\u001b[0m\n\u001b[1;32m     61\u001b[0m     \u001b[0mgenome_axis\u001b[0m \u001b[0;34m=\u001b[0m \u001b[0mnumpyro\u001b[0m\u001b[0;34m.\u001b[0m\u001b[0mplate\u001b[0m\u001b[0;34m(\u001b[0m\u001b[0;34m\"genome_axis\"\u001b[0m\u001b[0;34m,\u001b[0m \u001b[0mgenome_length\u001b[0m\u001b[0;34m,\u001b[0m \u001b[0mdim\u001b[0m\u001b[0;34m=\u001b[0m\u001b[0;34m-\u001b[0m\u001b[0;36m1\u001b[0m\u001b[0;34m)\u001b[0m\u001b[0;34m\u001b[0m\u001b[0;34m\u001b[0m\u001b[0m\n\u001b[1;32m     62\u001b[0m     \u001b[0;32mwith\u001b[0m \u001b[0mnumpyro\u001b[0m\u001b[0;34m.\u001b[0m\u001b[0mplate\u001b[0m\u001b[0;34m(\u001b[0m\u001b[0;34m\"haplotype_axis\"\u001b[0m\u001b[0;34m,\u001b[0m \u001b[0mmax_cluster_num_guess\u001b[0m\u001b[0;34m,\u001b[0m \u001b[0mdim\u001b[0m\u001b[0;34m=\u001b[0m\u001b[0;34m-\u001b[0m\u001b[0;36m2\u001b[0m\u001b[0;34m)\u001b[0m\u001b[0;34m:\u001b[0m\u001b[0;34m\u001b[0m\u001b[0;34m\u001b[0m\u001b[0m\n\u001b[0;32m---> 63\u001b[0;31m         \u001b[0;32mwith\u001b[0m \u001b[0mgenome_axis\u001b[0m\u001b[0;34m:\u001b[0m\u001b[0;34m\u001b[0m\u001b[0;34m\u001b[0m\u001b[0m\n\u001b[0m\u001b[1;32m     64\u001b[0m             haplotypes = numpyro.sample(\n\u001b[1;32m     65\u001b[0m                 \u001b[0;34m\"haplotypes\"\u001b[0m\u001b[0;34m,\u001b[0m \u001b[0mdist\u001b[0m\u001b[0;34m.\u001b[0m\u001b[0mCategorical\u001b[0m\u001b[0;34m(\u001b[0m\u001b[0mmutation_rate_matrix\u001b[0m\u001b[0;34m)\u001b[0m\u001b[0;34m\u001b[0m\u001b[0;34m\u001b[0m\u001b[0m\n",
      "\u001b[0;32m~/Library/Python/3.9/lib/python/site-packages/numpyro/contrib/funsor/enum_messenger.py\u001b[0m in \u001b[0;36m__enter__\u001b[0;34m(self)\u001b[0m\n\u001b[1;32m    504\u001b[0m             \u001b[0;32melse\u001b[0m \u001b[0mOrderedDict\u001b[0m\u001b[0;34m(\u001b[0m\u001b[0;34m)\u001b[0m\u001b[0;34m\u001b[0m\u001b[0;34m\u001b[0m\u001b[0m\n\u001b[1;32m    505\u001b[0m         )\n\u001b[0;32m--> 506\u001b[0;31m         indices = to_data(\n\u001b[0m\u001b[1;32m    507\u001b[0m             \u001b[0mself\u001b[0m\u001b[0;34m.\u001b[0m\u001b[0m_indices\u001b[0m\u001b[0;34m,\u001b[0m \u001b[0mname_to_dim\u001b[0m\u001b[0;34m=\u001b[0m\u001b[0mname_to_dim\u001b[0m\u001b[0;34m,\u001b[0m \u001b[0mdim_type\u001b[0m\u001b[0;34m=\u001b[0m\u001b[0mDimType\u001b[0m\u001b[0;34m.\u001b[0m\u001b[0mVISIBLE\u001b[0m\u001b[0;34m\u001b[0m\u001b[0;34m\u001b[0m\u001b[0m\n\u001b[1;32m    508\u001b[0m         )\n",
      "\u001b[0;32m~/Library/Python/3.9/lib/python/site-packages/numpyro/contrib/funsor/enum_messenger.py\u001b[0m in \u001b[0;36mto_data\u001b[0;34m(x, name_to_dim, dim_type)\u001b[0m\n\u001b[1;32m    707\u001b[0m     }\n\u001b[1;32m    708\u001b[0m \u001b[0;34m\u001b[0m\u001b[0m\n\u001b[0;32m--> 709\u001b[0;31m     \u001b[0mmsg\u001b[0m \u001b[0;34m=\u001b[0m \u001b[0mapply_stack\u001b[0m\u001b[0;34m(\u001b[0m\u001b[0minitial_msg\u001b[0m\u001b[0;34m)\u001b[0m\u001b[0;34m\u001b[0m\u001b[0;34m\u001b[0m\u001b[0m\n\u001b[0m\u001b[1;32m    710\u001b[0m     \u001b[0;32mreturn\u001b[0m \u001b[0mmsg\u001b[0m\u001b[0;34m[\u001b[0m\u001b[0;34m\"value\"\u001b[0m\u001b[0;34m]\u001b[0m\u001b[0;34m\u001b[0m\u001b[0;34m\u001b[0m\u001b[0m\n",
      "\u001b[0;32m~/Library/Python/3.9/lib/python/site-packages/numpyro/primitives.py\u001b[0m in \u001b[0;36mapply_stack\u001b[0;34m(msg)\u001b[0m\n\u001b[1;32m     39\u001b[0m     \u001b[0;31m# via the pointer variable from the process_message loop\u001b[0m\u001b[0;34m\u001b[0m\u001b[0;34m\u001b[0m\u001b[0;34m\u001b[0m\u001b[0m\n\u001b[1;32m     40\u001b[0m     \u001b[0;32mfor\u001b[0m \u001b[0mhandler\u001b[0m \u001b[0;32min\u001b[0m \u001b[0m_PYRO_STACK\u001b[0m\u001b[0;34m[\u001b[0m\u001b[0;34m-\u001b[0m\u001b[0mpointer\u001b[0m \u001b[0;34m-\u001b[0m \u001b[0;36m1\u001b[0m \u001b[0;34m:\u001b[0m\u001b[0;34m]\u001b[0m\u001b[0;34m:\u001b[0m\u001b[0;34m\u001b[0m\u001b[0;34m\u001b[0m\u001b[0m\n\u001b[0;32m---> 41\u001b[0;31m         \u001b[0mhandler\u001b[0m\u001b[0;34m.\u001b[0m\u001b[0mpostprocess_message\u001b[0m\u001b[0;34m(\u001b[0m\u001b[0mmsg\u001b[0m\u001b[0;34m)\u001b[0m\u001b[0;34m\u001b[0m\u001b[0;34m\u001b[0m\u001b[0m\n\u001b[0m\u001b[1;32m     42\u001b[0m     \u001b[0;32mreturn\u001b[0m \u001b[0mmsg\u001b[0m\u001b[0;34m\u001b[0m\u001b[0;34m\u001b[0m\u001b[0m\n\u001b[1;32m     43\u001b[0m \u001b[0;34m\u001b[0m\u001b[0m\n",
      "\u001b[0;32m~/Library/Python/3.9/lib/python/site-packages/numpyro/contrib/funsor/enum_messenger.py\u001b[0m in \u001b[0;36mpostprocess_message\u001b[0;34m(self, msg)\u001b[0m\n\u001b[1;32m    526\u001b[0m     \u001b[0;32mdef\u001b[0m \u001b[0mpostprocess_message\u001b[0m\u001b[0;34m(\u001b[0m\u001b[0mself\u001b[0m\u001b[0;34m,\u001b[0m \u001b[0mmsg\u001b[0m\u001b[0;34m)\u001b[0m\u001b[0;34m:\u001b[0m\u001b[0;34m\u001b[0m\u001b[0;34m\u001b[0m\u001b[0m\n\u001b[1;32m    527\u001b[0m         \u001b[0;32mif\u001b[0m \u001b[0mmsg\u001b[0m\u001b[0;34m[\u001b[0m\u001b[0;34m\"type\"\u001b[0m\u001b[0;34m]\u001b[0m \u001b[0;32min\u001b[0m \u001b[0;34m[\u001b[0m\u001b[0;34m\"to_funsor\"\u001b[0m\u001b[0;34m,\u001b[0m \u001b[0;34m\"to_data\"\u001b[0m\u001b[0;34m]\u001b[0m\u001b[0;34m:\u001b[0m\u001b[0;34m\u001b[0m\u001b[0;34m\u001b[0m\u001b[0m\n\u001b[0;32m--> 528\u001b[0;31m             \u001b[0;32mreturn\u001b[0m \u001b[0msuper\u001b[0m\u001b[0;34m(\u001b[0m\u001b[0;34m)\u001b[0m\u001b[0;34m.\u001b[0m\u001b[0mpostprocess_message\u001b[0m\u001b[0;34m(\u001b[0m\u001b[0mmsg\u001b[0m\u001b[0;34m)\u001b[0m\u001b[0;34m\u001b[0m\u001b[0;34m\u001b[0m\u001b[0m\n\u001b[0m\u001b[1;32m    529\u001b[0m         \u001b[0;31m# NB: copied literally from original plate messenger, with self._indices is replaced\u001b[0m\u001b[0;34m\u001b[0m\u001b[0;34m\u001b[0m\u001b[0;34m\u001b[0m\u001b[0m\n\u001b[1;32m    530\u001b[0m         \u001b[0;31m# by self.indices\u001b[0m\u001b[0;34m\u001b[0m\u001b[0;34m\u001b[0m\u001b[0;34m\u001b[0m\u001b[0m\n",
      "\u001b[0;32m~/Library/Python/3.9/lib/python/site-packages/numpyro/contrib/funsor/enum_messenger.py\u001b[0m in \u001b[0;36mpostprocess_message\u001b[0;34m(self, msg)\u001b[0m\n\u001b[1;32m    415\u001b[0m             \u001b[0mself\u001b[0m\u001b[0;34m.\u001b[0m\u001b[0m_pyro_post_to_funsor\u001b[0m\u001b[0;34m(\u001b[0m\u001b[0mmsg\u001b[0m\u001b[0;34m)\u001b[0m\u001b[0;34m\u001b[0m\u001b[0;34m\u001b[0m\u001b[0m\n\u001b[1;32m    416\u001b[0m         \u001b[0;32melif\u001b[0m \u001b[0mmsg\u001b[0m\u001b[0;34m[\u001b[0m\u001b[0;34m\"type\"\u001b[0m\u001b[0;34m]\u001b[0m \u001b[0;34m==\u001b[0m \u001b[0;34m\"to_data\"\u001b[0m\u001b[0;34m:\u001b[0m\u001b[0;34m\u001b[0m\u001b[0;34m\u001b[0m\u001b[0m\n\u001b[0;32m--> 417\u001b[0;31m             \u001b[0mself\u001b[0m\u001b[0;34m.\u001b[0m\u001b[0m_pyro_post_to_data\u001b[0m\u001b[0;34m(\u001b[0m\u001b[0mmsg\u001b[0m\u001b[0;34m)\u001b[0m\u001b[0;34m\u001b[0m\u001b[0;34m\u001b[0m\u001b[0m\n\u001b[0m\u001b[1;32m    418\u001b[0m \u001b[0;34m\u001b[0m\u001b[0m\n\u001b[1;32m    419\u001b[0m     \u001b[0;32mdef\u001b[0m \u001b[0m_pyro_post_to_funsor\u001b[0m\u001b[0;34m(\u001b[0m\u001b[0mself\u001b[0m\u001b[0;34m,\u001b[0m \u001b[0mmsg\u001b[0m\u001b[0;34m)\u001b[0m\u001b[0;34m:\u001b[0m\u001b[0;34m\u001b[0m\u001b[0;34m\u001b[0m\u001b[0m\n",
      "\u001b[0;32m~/Library/Python/3.9/lib/python/site-packages/numpyro/contrib/funsor/enum_messenger.py\u001b[0m in \u001b[0;36m_pyro_post_to_data\u001b[0;34m(self, msg)\u001b[0m\n\u001b[1;32m    428\u001b[0m             \u001b[0;32mfor\u001b[0m \u001b[0mname\u001b[0m \u001b[0;32min\u001b[0m \u001b[0mmsg\u001b[0m\u001b[0;34m[\u001b[0m\u001b[0;34m\"args\"\u001b[0m\u001b[0;34m]\u001b[0m\u001b[0;34m[\u001b[0m\u001b[0;36m0\u001b[0m\u001b[0;34m]\u001b[0m\u001b[0;34m.\u001b[0m\u001b[0minputs\u001b[0m\u001b[0;34m:\u001b[0m\u001b[0;34m\u001b[0m\u001b[0;34m\u001b[0m\u001b[0m\n\u001b[1;32m    429\u001b[0m                 self._saved_globals += (\n\u001b[0;32m--> 430\u001b[0;31m                     \u001b[0;34m(\u001b[0m\u001b[0mname\u001b[0m\u001b[0;34m,\u001b[0m \u001b[0m_DIM_STACK\u001b[0m\u001b[0;34m.\u001b[0m\u001b[0mglobal_frame\u001b[0m\u001b[0;34m.\u001b[0m\u001b[0mname_to_dim\u001b[0m\u001b[0;34m[\u001b[0m\u001b[0mname\u001b[0m\u001b[0;34m]\u001b[0m\u001b[0;34m)\u001b[0m\u001b[0;34m,\u001b[0m\u001b[0;34m\u001b[0m\u001b[0;34m\u001b[0m\u001b[0m\n\u001b[0m\u001b[1;32m    431\u001b[0m                 )\n\u001b[1;32m    432\u001b[0m \u001b[0;34m\u001b[0m\u001b[0m\n",
      "\u001b[0;31mKeyError\u001b[0m: 'genome_axis'"
     ]
    }
   ],
   "source": [
    "# Make sure to infer_discrete\n",
    "# Predictive obtained by running model conditioned on latent samples from posterior_samples p(theta | data)\n",
    "\n",
    "posterior_predictive = Predictive(model, posterior_samples, infer_discrete=True)\n",
    "posterior_predictions = posterior_predictive(rng_key, input_data=input_data)"
   ]
  },
  {
   "cell_type": "code",
   "execution_count": null,
   "id": "d1e280a3",
   "metadata": {},
   "outputs": [],
   "source": [
    "# computes expected log predictive density at each data point\n",
    "\n",
    "from numpyro.infer.util import log_likelihood\n",
    "\n",
    "log_likelihood = log_likelihood(model, posterior_samples, input_data=input_data )\n",
    "#log_likelihood['obs']"
   ]
  },
  {
   "cell_type": "code",
   "execution_count": null,
   "id": "a557c5dc",
   "metadata": {},
   "outputs": [],
   "source": [
    "inference_data = az.from_numpyro(\n",
    "    posterior=mcmc,\n",
    "    posterior_predictive=posterior_predictions,\n",
    ")\n",
    "display(inference_data)"
   ]
  },
  {
   "cell_type": "code",
   "execution_count": null,
   "id": "acdb7763",
   "metadata": {},
   "outputs": [],
   "source": [
    "az.plot_forest(inference_data, combined=True)"
   ]
  },
  {
   "cell_type": "code",
   "execution_count": null,
   "id": "314f44aa",
   "metadata": {},
   "outputs": [],
   "source": [
    "data = az.from_numpyro(mcmc)\n",
    "az.plot_trace(data, compact=True)\n",
    "plt.show()"
   ]
  },
  {
   "cell_type": "markdown",
   "id": "e14e7149",
   "metadata": {},
   "source": [
    "## Postprocessing"
   ]
  },
  {
   "cell_type": "code",
   "execution_count": 16,
   "id": "ac62949b",
   "metadata": {},
   "outputs": [],
   "source": [
    "import scipy\n",
    "\n",
    "from Bio.Seq import Seq\n",
    "from Bio.SeqRecord import SeqRecord\n",
    "from Bio import SeqIO"
   ]
  },
  {
   "cell_type": "code",
   "execution_count": 191,
   "id": "aa37d79b",
   "metadata": {},
   "outputs": [],
   "source": [
    "def convert_h_to_seq(h, alphabet):\n",
    "    '''\n",
    "    Convert numeric representation to DNA-seq representation.\n",
    "    '''\n",
    "    seq = [alphabet[int(h[k])] for k in range(h.shape[0])]\n",
    "    return ''.join(seq)"
   ]
  },
  {
   "cell_type": "code",
   "execution_count": 94,
   "id": "0b6874d8",
   "metadata": {},
   "outputs": [],
   "source": [
    "posterior_predictive = Predictive(model, posterior_samples, infer_discrete=True)"
   ]
  },
  {
   "cell_type": "code",
   "execution_count": 95,
   "id": "4486bafa",
   "metadata": {},
   "outputs": [
    {
     "ename": "KeyError",
     "evalue": "'genome_axis'",
     "output_type": "error",
     "traceback": [
      "\u001b[0;31m---------------------------------------------------------------------------\u001b[0m",
      "\u001b[0;31mKeyError\u001b[0m                                  Traceback (most recent call last)",
      "\u001b[0;32m/var/folders/dw/8dl4p6h53cgcmk6cf_09v5f40000gr/T/ipykernel_19981/388084654.py\u001b[0m in \u001b[0;36m<module>\u001b[0;34m\u001b[0m\n\u001b[0;32m----> 1\u001b[0;31m \u001b[0mposterior_predictive\u001b[0m\u001b[0;34m(\u001b[0m\u001b[0mrng_key\u001b[0m\u001b[0;34m,\u001b[0m \u001b[0minput_data\u001b[0m\u001b[0;34m=\u001b[0m\u001b[0minput_data\u001b[0m\u001b[0;34m)\u001b[0m\u001b[0;34m\u001b[0m\u001b[0;34m\u001b[0m\u001b[0m\n\u001b[0m",
      "\u001b[0;32m~/Library/Python/3.9/lib/python/site-packages/numpyro/infer/util.py\u001b[0m in \u001b[0;36m__call__\u001b[0;34m(self, rng_key, *args, **kwargs)\u001b[0m\n\u001b[1;32m    964\u001b[0m         \"\"\"\n\u001b[1;32m    965\u001b[0m         \u001b[0;32mif\u001b[0m \u001b[0mself\u001b[0m\u001b[0;34m.\u001b[0m\u001b[0mbatch_ndims\u001b[0m \u001b[0;34m==\u001b[0m \u001b[0;36m0\u001b[0m \u001b[0;32mor\u001b[0m \u001b[0mself\u001b[0m\u001b[0;34m.\u001b[0m\u001b[0mparams\u001b[0m \u001b[0;34m==\u001b[0m \u001b[0;34m{\u001b[0m\u001b[0;34m}\u001b[0m \u001b[0;32mor\u001b[0m \u001b[0mself\u001b[0m\u001b[0;34m.\u001b[0m\u001b[0mguide\u001b[0m \u001b[0;32mis\u001b[0m \u001b[0;32mNone\u001b[0m\u001b[0;34m:\u001b[0m\u001b[0;34m\u001b[0m\u001b[0;34m\u001b[0m\u001b[0m\n\u001b[0;32m--> 966\u001b[0;31m             \u001b[0;32mreturn\u001b[0m \u001b[0mself\u001b[0m\u001b[0;34m.\u001b[0m\u001b[0m_call_with_params\u001b[0m\u001b[0;34m(\u001b[0m\u001b[0mrng_key\u001b[0m\u001b[0;34m,\u001b[0m \u001b[0mself\u001b[0m\u001b[0;34m.\u001b[0m\u001b[0mparams\u001b[0m\u001b[0;34m,\u001b[0m \u001b[0margs\u001b[0m\u001b[0;34m,\u001b[0m \u001b[0mkwargs\u001b[0m\u001b[0;34m)\u001b[0m\u001b[0;34m\u001b[0m\u001b[0;34m\u001b[0m\u001b[0m\n\u001b[0m\u001b[1;32m    967\u001b[0m         \u001b[0;32melif\u001b[0m \u001b[0mself\u001b[0m\u001b[0;34m.\u001b[0m\u001b[0mbatch_ndims\u001b[0m \u001b[0;34m==\u001b[0m \u001b[0;36m1\u001b[0m\u001b[0;34m:\u001b[0m  \u001b[0;31m# batch over parameters\u001b[0m\u001b[0;34m\u001b[0m\u001b[0;34m\u001b[0m\u001b[0m\n\u001b[1;32m    968\u001b[0m             \u001b[0mbatch_size\u001b[0m \u001b[0;34m=\u001b[0m \u001b[0mjnp\u001b[0m\u001b[0;34m.\u001b[0m\u001b[0mshape\u001b[0m\u001b[0;34m(\u001b[0m\u001b[0mtree_flatten\u001b[0m\u001b[0;34m(\u001b[0m\u001b[0mself\u001b[0m\u001b[0;34m.\u001b[0m\u001b[0mparams\u001b[0m\u001b[0;34m)\u001b[0m\u001b[0;34m[\u001b[0m\u001b[0;36m0\u001b[0m\u001b[0;34m]\u001b[0m\u001b[0;34m[\u001b[0m\u001b[0;36m0\u001b[0m\u001b[0;34m]\u001b[0m\u001b[0;34m)\u001b[0m\u001b[0;34m[\u001b[0m\u001b[0;36m0\u001b[0m\u001b[0;34m]\u001b[0m\u001b[0;34m\u001b[0m\u001b[0;34m\u001b[0m\u001b[0m\n",
      "\u001b[0;32m~/Library/Python/3.9/lib/python/site-packages/numpyro/infer/util.py\u001b[0m in \u001b[0;36m_call_with_params\u001b[0;34m(self, rng_key, params, args, kwargs)\u001b[0m\n\u001b[1;32m    941\u001b[0m             )\n\u001b[1;32m    942\u001b[0m         \u001b[0mmodel\u001b[0m \u001b[0;34m=\u001b[0m \u001b[0msubstitute\u001b[0m\u001b[0;34m(\u001b[0m\u001b[0mself\u001b[0m\u001b[0;34m.\u001b[0m\u001b[0mmodel\u001b[0m\u001b[0;34m,\u001b[0m \u001b[0mself\u001b[0m\u001b[0;34m.\u001b[0m\u001b[0mparams\u001b[0m\u001b[0;34m)\u001b[0m\u001b[0;34m\u001b[0m\u001b[0;34m\u001b[0m\u001b[0m\n\u001b[0;32m--> 943\u001b[0;31m         return _predictive(\n\u001b[0m\u001b[1;32m    944\u001b[0m             \u001b[0mrng_key\u001b[0m\u001b[0;34m,\u001b[0m\u001b[0;34m\u001b[0m\u001b[0;34m\u001b[0m\u001b[0m\n\u001b[1;32m    945\u001b[0m             \u001b[0mmodel\u001b[0m\u001b[0;34m,\u001b[0m\u001b[0;34m\u001b[0m\u001b[0;34m\u001b[0m\u001b[0m\n",
      "\u001b[0;32m~/Library/Python/3.9/lib/python/site-packages/numpyro/infer/util.py\u001b[0m in \u001b[0;36m_predictive\u001b[0;34m(rng_key, model, posterior_samples, batch_shape, return_sites, infer_discrete, parallel, model_args, model_kwargs)\u001b[0m\n\u001b[1;32m    782\u001b[0m     \u001b[0mrng_key\u001b[0m \u001b[0;34m=\u001b[0m \u001b[0mrng_key\u001b[0m\u001b[0;34m.\u001b[0m\u001b[0mreshape\u001b[0m\u001b[0;34m(\u001b[0m\u001b[0;34m(\u001b[0m\u001b[0;34m*\u001b[0m\u001b[0mbatch_shape\u001b[0m\u001b[0;34m,\u001b[0m \u001b[0;36m2\u001b[0m\u001b[0;34m)\u001b[0m\u001b[0;34m)\u001b[0m\u001b[0;34m\u001b[0m\u001b[0;34m\u001b[0m\u001b[0m\n\u001b[1;32m    783\u001b[0m     \u001b[0mchunk_size\u001b[0m \u001b[0;34m=\u001b[0m \u001b[0mnum_samples\u001b[0m \u001b[0;32mif\u001b[0m \u001b[0mparallel\u001b[0m \u001b[0;32melse\u001b[0m \u001b[0;36m1\u001b[0m\u001b[0;34m\u001b[0m\u001b[0;34m\u001b[0m\u001b[0m\n\u001b[0;32m--> 784\u001b[0;31m     return soft_vmap(\n\u001b[0m\u001b[1;32m    785\u001b[0m         \u001b[0msingle_prediction\u001b[0m\u001b[0;34m,\u001b[0m \u001b[0;34m(\u001b[0m\u001b[0mrng_key\u001b[0m\u001b[0;34m,\u001b[0m \u001b[0mposterior_samples\u001b[0m\u001b[0;34m)\u001b[0m\u001b[0;34m,\u001b[0m \u001b[0mlen\u001b[0m\u001b[0;34m(\u001b[0m\u001b[0mbatch_shape\u001b[0m\u001b[0;34m)\u001b[0m\u001b[0;34m,\u001b[0m \u001b[0mchunk_size\u001b[0m\u001b[0;34m\u001b[0m\u001b[0;34m\u001b[0m\u001b[0m\n\u001b[1;32m    786\u001b[0m     )\n",
      "\u001b[0;32m~/Library/Python/3.9/lib/python/site-packages/numpyro/util.py\u001b[0m in \u001b[0;36msoft_vmap\u001b[0;34m(fn, xs, batch_ndims, chunk_size)\u001b[0m\n\u001b[1;32m    408\u001b[0m         \u001b[0mfn\u001b[0m \u001b[0;34m=\u001b[0m \u001b[0mvmap\u001b[0m\u001b[0;34m(\u001b[0m\u001b[0mfn\u001b[0m\u001b[0;34m)\u001b[0m\u001b[0;34m\u001b[0m\u001b[0;34m\u001b[0m\u001b[0m\n\u001b[1;32m    409\u001b[0m \u001b[0;34m\u001b[0m\u001b[0m\n\u001b[0;32m--> 410\u001b[0;31m     \u001b[0mys\u001b[0m \u001b[0;34m=\u001b[0m \u001b[0mlax\u001b[0m\u001b[0;34m.\u001b[0m\u001b[0mmap\u001b[0m\u001b[0;34m(\u001b[0m\u001b[0mfn\u001b[0m\u001b[0;34m,\u001b[0m \u001b[0mxs\u001b[0m\u001b[0;34m)\u001b[0m \u001b[0;32mif\u001b[0m \u001b[0mnum_chunks\u001b[0m \u001b[0;34m>\u001b[0m \u001b[0;36m1\u001b[0m \u001b[0;32melse\u001b[0m \u001b[0mfn\u001b[0m\u001b[0;34m(\u001b[0m\u001b[0mxs\u001b[0m\u001b[0;34m)\u001b[0m\u001b[0;34m\u001b[0m\u001b[0;34m\u001b[0m\u001b[0m\n\u001b[0m\u001b[1;32m    411\u001b[0m     \u001b[0mmap_ndims\u001b[0m \u001b[0;34m=\u001b[0m \u001b[0mint\u001b[0m\u001b[0;34m(\u001b[0m\u001b[0mnum_chunks\u001b[0m \u001b[0;34m>\u001b[0m \u001b[0;36m1\u001b[0m\u001b[0;34m)\u001b[0m \u001b[0;34m+\u001b[0m \u001b[0mint\u001b[0m\u001b[0;34m(\u001b[0m\u001b[0mchunk_size\u001b[0m \u001b[0;34m>\u001b[0m \u001b[0;36m1\u001b[0m\u001b[0;34m)\u001b[0m\u001b[0;34m\u001b[0m\u001b[0;34m\u001b[0m\u001b[0m\n\u001b[1;32m    412\u001b[0m     ys = tree_map(\n",
      "    \u001b[0;31m[... skipping hidden 16 frame]\u001b[0m\n",
      "\u001b[0;32m~/Library/Python/3.9/lib/python/site-packages/numpyro/infer/util.py\u001b[0m in \u001b[0;36msingle_prediction\u001b[0;34m(val)\u001b[0m\n\u001b[1;32m    747\u001b[0m             \u001b[0mmodel_trace\u001b[0m \u001b[0;34m=\u001b[0m \u001b[0mprototype_trace\u001b[0m\u001b[0;34m\u001b[0m\u001b[0;34m\u001b[0m\u001b[0m\n\u001b[1;32m    748\u001b[0m             \u001b[0mtemperature\u001b[0m \u001b[0;34m=\u001b[0m \u001b[0;36m1\u001b[0m\u001b[0;34m\u001b[0m\u001b[0;34m\u001b[0m\u001b[0m\n\u001b[0;32m--> 749\u001b[0;31m             pred_samples = _sample_posterior(\n\u001b[0m\u001b[1;32m    750\u001b[0m                 \u001b[0mconfig_enumerate\u001b[0m\u001b[0;34m(\u001b[0m\u001b[0mcondition\u001b[0m\u001b[0;34m(\u001b[0m\u001b[0mmodel\u001b[0m\u001b[0;34m,\u001b[0m \u001b[0msamples\u001b[0m\u001b[0;34m)\u001b[0m\u001b[0;34m)\u001b[0m\u001b[0;34m,\u001b[0m\u001b[0;34m\u001b[0m\u001b[0;34m\u001b[0m\u001b[0m\n\u001b[1;32m    751\u001b[0m                 \u001b[0mfirst_available_dim\u001b[0m\u001b[0;34m,\u001b[0m\u001b[0;34m\u001b[0m\u001b[0;34m\u001b[0m\u001b[0m\n",
      "\u001b[0;32m~/Library/Python/3.9/lib/python/site-packages/numpyro/contrib/funsor/discrete.py\u001b[0m in \u001b[0;36m_sample_posterior\u001b[0;34m(model, first_available_dim, temperature, rng_key, *args, **kwargs)\u001b[0m\n\u001b[1;32m     60\u001b[0m     \u001b[0;32mwith\u001b[0m \u001b[0mfunsor\u001b[0m\u001b[0;34m.\u001b[0m\u001b[0madjoint\u001b[0m\u001b[0;34m.\u001b[0m\u001b[0mAdjointTape\u001b[0m\u001b[0;34m(\u001b[0m\u001b[0;34m)\u001b[0m \u001b[0;32mas\u001b[0m \u001b[0mtape\u001b[0m\u001b[0;34m:\u001b[0m\u001b[0;34m\u001b[0m\u001b[0;34m\u001b[0m\u001b[0m\n\u001b[1;32m     61\u001b[0m         \u001b[0;32mwith\u001b[0m \u001b[0mblock\u001b[0m\u001b[0;34m(\u001b[0m\u001b[0;34m)\u001b[0m\u001b[0;34m,\u001b[0m \u001b[0menum\u001b[0m\u001b[0;34m(\u001b[0m\u001b[0mfirst_available_dim\u001b[0m\u001b[0;34m=\u001b[0m\u001b[0mfirst_available_dim\u001b[0m\u001b[0;34m)\u001b[0m\u001b[0;34m:\u001b[0m\u001b[0;34m\u001b[0m\u001b[0;34m\u001b[0m\u001b[0m\n\u001b[0;32m---> 62\u001b[0;31m             log_prob, model_tr, log_measures = _enum_log_density(\n\u001b[0m\u001b[1;32m     63\u001b[0m                 \u001b[0mmodel\u001b[0m\u001b[0;34m,\u001b[0m \u001b[0margs\u001b[0m\u001b[0;34m,\u001b[0m \u001b[0mkwargs\u001b[0m\u001b[0;34m,\u001b[0m \u001b[0;34m{\u001b[0m\u001b[0;34m}\u001b[0m\u001b[0;34m,\u001b[0m \u001b[0msum_op\u001b[0m\u001b[0;34m,\u001b[0m \u001b[0mprod_op\u001b[0m\u001b[0;34m\u001b[0m\u001b[0;34m\u001b[0m\u001b[0m\n\u001b[1;32m     64\u001b[0m             )\n",
      "\u001b[0;32m~/Library/Python/3.9/lib/python/site-packages/numpyro/contrib/funsor/infer_util.py\u001b[0m in \u001b[0;36m_enum_log_density\u001b[0;34m(model, model_args, model_kwargs, params, sum_op, prod_op)\u001b[0m\n\u001b[1;32m    157\u001b[0m     \u001b[0mmodel\u001b[0m \u001b[0;34m=\u001b[0m \u001b[0msubstitute\u001b[0m\u001b[0;34m(\u001b[0m\u001b[0mmodel\u001b[0m\u001b[0;34m,\u001b[0m \u001b[0mdata\u001b[0m\u001b[0;34m=\u001b[0m\u001b[0mparams\u001b[0m\u001b[0;34m)\u001b[0m\u001b[0;34m\u001b[0m\u001b[0;34m\u001b[0m\u001b[0m\n\u001b[1;32m    158\u001b[0m     \u001b[0;32mwith\u001b[0m \u001b[0mplate_to_enum_plate\u001b[0m\u001b[0;34m(\u001b[0m\u001b[0;34m)\u001b[0m\u001b[0;34m:\u001b[0m\u001b[0;34m\u001b[0m\u001b[0;34m\u001b[0m\u001b[0m\n\u001b[0;32m--> 159\u001b[0;31m         \u001b[0mmodel_trace\u001b[0m \u001b[0;34m=\u001b[0m \u001b[0mpacked_trace\u001b[0m\u001b[0;34m(\u001b[0m\u001b[0mmodel\u001b[0m\u001b[0;34m)\u001b[0m\u001b[0;34m.\u001b[0m\u001b[0mget_trace\u001b[0m\u001b[0;34m(\u001b[0m\u001b[0;34m*\u001b[0m\u001b[0mmodel_args\u001b[0m\u001b[0;34m,\u001b[0m \u001b[0;34m**\u001b[0m\u001b[0mmodel_kwargs\u001b[0m\u001b[0;34m)\u001b[0m\u001b[0;34m\u001b[0m\u001b[0;34m\u001b[0m\u001b[0m\n\u001b[0m\u001b[1;32m    160\u001b[0m     \u001b[0mlog_factors\u001b[0m \u001b[0;34m=\u001b[0m \u001b[0;34m[\u001b[0m\u001b[0;34m]\u001b[0m\u001b[0;34m\u001b[0m\u001b[0;34m\u001b[0m\u001b[0m\n\u001b[1;32m    161\u001b[0m     \u001b[0mtime_to_factors\u001b[0m \u001b[0;34m=\u001b[0m \u001b[0mdefaultdict\u001b[0m\u001b[0;34m(\u001b[0m\u001b[0mlist\u001b[0m\u001b[0;34m)\u001b[0m  \u001b[0;31m# log prob factors\u001b[0m\u001b[0;34m\u001b[0m\u001b[0;34m\u001b[0m\u001b[0m\n",
      "\u001b[0;32m~/Library/Python/3.9/lib/python/site-packages/numpyro/handlers.py\u001b[0m in \u001b[0;36mget_trace\u001b[0;34m(self, *args, **kwargs)\u001b[0m\n\u001b[1;32m    169\u001b[0m         \u001b[0;34m:\u001b[0m\u001b[0;32mreturn\u001b[0m\u001b[0;34m:\u001b[0m\u001b[0;31m \u001b[0m\u001b[0;31m`\u001b[0m\u001b[0mOrderedDict\u001b[0m\u001b[0;31m`\u001b[0m \u001b[0mcontaining\u001b[0m \u001b[0mthe\u001b[0m \u001b[0mexecution\u001b[0m \u001b[0mtrace\u001b[0m\u001b[0;34m.\u001b[0m\u001b[0;34m\u001b[0m\u001b[0;34m\u001b[0m\u001b[0m\n\u001b[1;32m    170\u001b[0m         \"\"\"\n\u001b[0;32m--> 171\u001b[0;31m         \u001b[0mself\u001b[0m\u001b[0;34m(\u001b[0m\u001b[0;34m*\u001b[0m\u001b[0margs\u001b[0m\u001b[0;34m,\u001b[0m \u001b[0;34m**\u001b[0m\u001b[0mkwargs\u001b[0m\u001b[0;34m)\u001b[0m\u001b[0;34m\u001b[0m\u001b[0;34m\u001b[0m\u001b[0m\n\u001b[0m\u001b[1;32m    172\u001b[0m         \u001b[0;32mreturn\u001b[0m \u001b[0mself\u001b[0m\u001b[0;34m.\u001b[0m\u001b[0mtrace\u001b[0m\u001b[0;34m\u001b[0m\u001b[0;34m\u001b[0m\u001b[0m\n\u001b[1;32m    173\u001b[0m \u001b[0;34m\u001b[0m\u001b[0m\n",
      "\u001b[0;32m~/Library/Python/3.9/lib/python/site-packages/numpyro/primitives.py\u001b[0m in \u001b[0;36m__call__\u001b[0;34m(self, *args, **kwargs)\u001b[0m\n\u001b[1;32m     85\u001b[0m             \u001b[0;32mreturn\u001b[0m \u001b[0mself\u001b[0m\u001b[0;34m\u001b[0m\u001b[0;34m\u001b[0m\u001b[0m\n\u001b[1;32m     86\u001b[0m         \u001b[0;32mwith\u001b[0m \u001b[0mself\u001b[0m\u001b[0;34m:\u001b[0m\u001b[0;34m\u001b[0m\u001b[0;34m\u001b[0m\u001b[0m\n\u001b[0;32m---> 87\u001b[0;31m             \u001b[0;32mreturn\u001b[0m \u001b[0mself\u001b[0m\u001b[0;34m.\u001b[0m\u001b[0mfn\u001b[0m\u001b[0;34m(\u001b[0m\u001b[0;34m*\u001b[0m\u001b[0margs\u001b[0m\u001b[0;34m,\u001b[0m \u001b[0;34m**\u001b[0m\u001b[0mkwargs\u001b[0m\u001b[0;34m)\u001b[0m\u001b[0;34m\u001b[0m\u001b[0;34m\u001b[0m\u001b[0m\n\u001b[0m\u001b[1;32m     88\u001b[0m \u001b[0;34m\u001b[0m\u001b[0m\n\u001b[1;32m     89\u001b[0m \u001b[0;34m\u001b[0m\u001b[0m\n",
      "\u001b[0;32m~/Library/Python/3.9/lib/python/site-packages/numpyro/primitives.py\u001b[0m in \u001b[0;36m__call__\u001b[0;34m(self, *args, **kwargs)\u001b[0m\n\u001b[1;32m     85\u001b[0m             \u001b[0;32mreturn\u001b[0m \u001b[0mself\u001b[0m\u001b[0;34m\u001b[0m\u001b[0;34m\u001b[0m\u001b[0m\n\u001b[1;32m     86\u001b[0m         \u001b[0;32mwith\u001b[0m \u001b[0mself\u001b[0m\u001b[0;34m:\u001b[0m\u001b[0;34m\u001b[0m\u001b[0;34m\u001b[0m\u001b[0m\n\u001b[0;32m---> 87\u001b[0;31m             \u001b[0;32mreturn\u001b[0m \u001b[0mself\u001b[0m\u001b[0;34m.\u001b[0m\u001b[0mfn\u001b[0m\u001b[0;34m(\u001b[0m\u001b[0;34m*\u001b[0m\u001b[0margs\u001b[0m\u001b[0;34m,\u001b[0m \u001b[0;34m**\u001b[0m\u001b[0mkwargs\u001b[0m\u001b[0;34m)\u001b[0m\u001b[0;34m\u001b[0m\u001b[0;34m\u001b[0m\u001b[0m\n\u001b[0m\u001b[1;32m     88\u001b[0m \u001b[0;34m\u001b[0m\u001b[0m\n\u001b[1;32m     89\u001b[0m \u001b[0;34m\u001b[0m\u001b[0m\n",
      "\u001b[0;32m~/Library/Python/3.9/lib/python/site-packages/numpyro/primitives.py\u001b[0m in \u001b[0;36m__call__\u001b[0;34m(self, *args, **kwargs)\u001b[0m\n\u001b[1;32m     85\u001b[0m             \u001b[0;32mreturn\u001b[0m \u001b[0mself\u001b[0m\u001b[0;34m\u001b[0m\u001b[0;34m\u001b[0m\u001b[0m\n\u001b[1;32m     86\u001b[0m         \u001b[0;32mwith\u001b[0m \u001b[0mself\u001b[0m\u001b[0;34m:\u001b[0m\u001b[0;34m\u001b[0m\u001b[0;34m\u001b[0m\u001b[0m\n\u001b[0;32m---> 87\u001b[0;31m             \u001b[0;32mreturn\u001b[0m \u001b[0mself\u001b[0m\u001b[0;34m.\u001b[0m\u001b[0mfn\u001b[0m\u001b[0;34m(\u001b[0m\u001b[0;34m*\u001b[0m\u001b[0margs\u001b[0m\u001b[0;34m,\u001b[0m \u001b[0;34m**\u001b[0m\u001b[0mkwargs\u001b[0m\u001b[0;34m)\u001b[0m\u001b[0;34m\u001b[0m\u001b[0;34m\u001b[0m\u001b[0m\n\u001b[0m\u001b[1;32m     88\u001b[0m \u001b[0;34m\u001b[0m\u001b[0m\n\u001b[1;32m     89\u001b[0m \u001b[0;34m\u001b[0m\u001b[0m\n",
      "\u001b[0;32m~/Library/Python/3.9/lib/python/site-packages/numpyro/primitives.py\u001b[0m in \u001b[0;36m__call__\u001b[0;34m(self, *args, **kwargs)\u001b[0m\n\u001b[1;32m     85\u001b[0m             \u001b[0;32mreturn\u001b[0m \u001b[0mself\u001b[0m\u001b[0;34m\u001b[0m\u001b[0;34m\u001b[0m\u001b[0m\n\u001b[1;32m     86\u001b[0m         \u001b[0;32mwith\u001b[0m \u001b[0mself\u001b[0m\u001b[0;34m:\u001b[0m\u001b[0;34m\u001b[0m\u001b[0;34m\u001b[0m\u001b[0m\n\u001b[0;32m---> 87\u001b[0;31m             \u001b[0;32mreturn\u001b[0m \u001b[0mself\u001b[0m\u001b[0;34m.\u001b[0m\u001b[0mfn\u001b[0m\u001b[0;34m(\u001b[0m\u001b[0;34m*\u001b[0m\u001b[0margs\u001b[0m\u001b[0;34m,\u001b[0m \u001b[0;34m**\u001b[0m\u001b[0mkwargs\u001b[0m\u001b[0;34m)\u001b[0m\u001b[0;34m\u001b[0m\u001b[0;34m\u001b[0m\u001b[0m\n\u001b[0m\u001b[1;32m     88\u001b[0m \u001b[0;34m\u001b[0m\u001b[0m\n\u001b[1;32m     89\u001b[0m \u001b[0;34m\u001b[0m\u001b[0m\n",
      "\u001b[0;32m~/Library/Python/3.9/lib/python/site-packages/numpyro/primitives.py\u001b[0m in \u001b[0;36m__call__\u001b[0;34m(self, *args, **kwargs)\u001b[0m\n\u001b[1;32m     85\u001b[0m             \u001b[0;32mreturn\u001b[0m \u001b[0mself\u001b[0m\u001b[0;34m\u001b[0m\u001b[0;34m\u001b[0m\u001b[0m\n\u001b[1;32m     86\u001b[0m         \u001b[0;32mwith\u001b[0m \u001b[0mself\u001b[0m\u001b[0;34m:\u001b[0m\u001b[0;34m\u001b[0m\u001b[0;34m\u001b[0m\u001b[0m\n\u001b[0;32m---> 87\u001b[0;31m             \u001b[0;32mreturn\u001b[0m \u001b[0mself\u001b[0m\u001b[0;34m.\u001b[0m\u001b[0mfn\u001b[0m\u001b[0;34m(\u001b[0m\u001b[0;34m*\u001b[0m\u001b[0margs\u001b[0m\u001b[0;34m,\u001b[0m \u001b[0;34m**\u001b[0m\u001b[0mkwargs\u001b[0m\u001b[0;34m)\u001b[0m\u001b[0;34m\u001b[0m\u001b[0;34m\u001b[0m\u001b[0m\n\u001b[0m\u001b[1;32m     88\u001b[0m \u001b[0;34m\u001b[0m\u001b[0m\n\u001b[1;32m     89\u001b[0m \u001b[0;34m\u001b[0m\u001b[0m\n",
      "\u001b[0;32m/var/folders/dw/8dl4p6h53cgcmk6cf_09v5f40000gr/T/ipykernel_19981/630667710.py\u001b[0m in \u001b[0;36mmodel_hierarchicalSBMM\u001b[0;34m(input_data)\u001b[0m\n\u001b[1;32m     61\u001b[0m     \u001b[0mgenome_axis\u001b[0m \u001b[0;34m=\u001b[0m \u001b[0mnumpyro\u001b[0m\u001b[0;34m.\u001b[0m\u001b[0mplate\u001b[0m\u001b[0;34m(\u001b[0m\u001b[0;34m\"genome_axis\"\u001b[0m\u001b[0;34m,\u001b[0m \u001b[0mgenome_length\u001b[0m\u001b[0;34m,\u001b[0m \u001b[0mdim\u001b[0m\u001b[0;34m=\u001b[0m\u001b[0;34m-\u001b[0m\u001b[0;36m1\u001b[0m\u001b[0;34m)\u001b[0m\u001b[0;34m\u001b[0m\u001b[0;34m\u001b[0m\u001b[0m\n\u001b[1;32m     62\u001b[0m     \u001b[0;32mwith\u001b[0m \u001b[0mnumpyro\u001b[0m\u001b[0;34m.\u001b[0m\u001b[0mplate\u001b[0m\u001b[0;34m(\u001b[0m\u001b[0;34m\"haplotype_axis\"\u001b[0m\u001b[0;34m,\u001b[0m \u001b[0mmax_cluster_num_guess\u001b[0m\u001b[0;34m,\u001b[0m \u001b[0mdim\u001b[0m\u001b[0;34m=\u001b[0m\u001b[0;34m-\u001b[0m\u001b[0;36m2\u001b[0m\u001b[0;34m)\u001b[0m\u001b[0;34m:\u001b[0m\u001b[0;34m\u001b[0m\u001b[0;34m\u001b[0m\u001b[0m\n\u001b[0;32m---> 63\u001b[0;31m         \u001b[0;32mwith\u001b[0m \u001b[0mgenome_axis\u001b[0m\u001b[0;34m:\u001b[0m\u001b[0;34m\u001b[0m\u001b[0;34m\u001b[0m\u001b[0m\n\u001b[0m\u001b[1;32m     64\u001b[0m             haplotypes = numpyro.sample(\n\u001b[1;32m     65\u001b[0m                 \u001b[0;34m\"haplotypes\"\u001b[0m\u001b[0;34m,\u001b[0m \u001b[0mdist\u001b[0m\u001b[0;34m.\u001b[0m\u001b[0mCategorical\u001b[0m\u001b[0;34m(\u001b[0m\u001b[0mmutation_rate_matrix\u001b[0m\u001b[0;34m)\u001b[0m\u001b[0;34m\u001b[0m\u001b[0;34m\u001b[0m\u001b[0m\n",
      "\u001b[0;32m~/Library/Python/3.9/lib/python/site-packages/numpyro/contrib/funsor/enum_messenger.py\u001b[0m in \u001b[0;36m__enter__\u001b[0;34m(self)\u001b[0m\n\u001b[1;32m    504\u001b[0m             \u001b[0;32melse\u001b[0m \u001b[0mOrderedDict\u001b[0m\u001b[0;34m(\u001b[0m\u001b[0;34m)\u001b[0m\u001b[0;34m\u001b[0m\u001b[0;34m\u001b[0m\u001b[0m\n\u001b[1;32m    505\u001b[0m         )\n\u001b[0;32m--> 506\u001b[0;31m         indices = to_data(\n\u001b[0m\u001b[1;32m    507\u001b[0m             \u001b[0mself\u001b[0m\u001b[0;34m.\u001b[0m\u001b[0m_indices\u001b[0m\u001b[0;34m,\u001b[0m \u001b[0mname_to_dim\u001b[0m\u001b[0;34m=\u001b[0m\u001b[0mname_to_dim\u001b[0m\u001b[0;34m,\u001b[0m \u001b[0mdim_type\u001b[0m\u001b[0;34m=\u001b[0m\u001b[0mDimType\u001b[0m\u001b[0;34m.\u001b[0m\u001b[0mVISIBLE\u001b[0m\u001b[0;34m\u001b[0m\u001b[0;34m\u001b[0m\u001b[0m\n\u001b[1;32m    508\u001b[0m         )\n",
      "\u001b[0;32m~/Library/Python/3.9/lib/python/site-packages/numpyro/contrib/funsor/enum_messenger.py\u001b[0m in \u001b[0;36mto_data\u001b[0;34m(x, name_to_dim, dim_type)\u001b[0m\n\u001b[1;32m    707\u001b[0m     }\n\u001b[1;32m    708\u001b[0m \u001b[0;34m\u001b[0m\u001b[0m\n\u001b[0;32m--> 709\u001b[0;31m     \u001b[0mmsg\u001b[0m \u001b[0;34m=\u001b[0m \u001b[0mapply_stack\u001b[0m\u001b[0;34m(\u001b[0m\u001b[0minitial_msg\u001b[0m\u001b[0;34m)\u001b[0m\u001b[0;34m\u001b[0m\u001b[0;34m\u001b[0m\u001b[0m\n\u001b[0m\u001b[1;32m    710\u001b[0m     \u001b[0;32mreturn\u001b[0m \u001b[0mmsg\u001b[0m\u001b[0;34m[\u001b[0m\u001b[0;34m\"value\"\u001b[0m\u001b[0;34m]\u001b[0m\u001b[0;34m\u001b[0m\u001b[0;34m\u001b[0m\u001b[0m\n",
      "\u001b[0;32m~/Library/Python/3.9/lib/python/site-packages/numpyro/primitives.py\u001b[0m in \u001b[0;36mapply_stack\u001b[0;34m(msg)\u001b[0m\n\u001b[1;32m     39\u001b[0m     \u001b[0;31m# via the pointer variable from the process_message loop\u001b[0m\u001b[0;34m\u001b[0m\u001b[0;34m\u001b[0m\u001b[0;34m\u001b[0m\u001b[0m\n\u001b[1;32m     40\u001b[0m     \u001b[0;32mfor\u001b[0m \u001b[0mhandler\u001b[0m \u001b[0;32min\u001b[0m \u001b[0m_PYRO_STACK\u001b[0m\u001b[0;34m[\u001b[0m\u001b[0;34m-\u001b[0m\u001b[0mpointer\u001b[0m \u001b[0;34m-\u001b[0m \u001b[0;36m1\u001b[0m \u001b[0;34m:\u001b[0m\u001b[0;34m]\u001b[0m\u001b[0;34m:\u001b[0m\u001b[0;34m\u001b[0m\u001b[0;34m\u001b[0m\u001b[0m\n\u001b[0;32m---> 41\u001b[0;31m         \u001b[0mhandler\u001b[0m\u001b[0;34m.\u001b[0m\u001b[0mpostprocess_message\u001b[0m\u001b[0;34m(\u001b[0m\u001b[0mmsg\u001b[0m\u001b[0;34m)\u001b[0m\u001b[0;34m\u001b[0m\u001b[0;34m\u001b[0m\u001b[0m\n\u001b[0m\u001b[1;32m     42\u001b[0m     \u001b[0;32mreturn\u001b[0m \u001b[0mmsg\u001b[0m\u001b[0;34m\u001b[0m\u001b[0;34m\u001b[0m\u001b[0m\n\u001b[1;32m     43\u001b[0m \u001b[0;34m\u001b[0m\u001b[0m\n",
      "\u001b[0;32m~/Library/Python/3.9/lib/python/site-packages/numpyro/contrib/funsor/enum_messenger.py\u001b[0m in \u001b[0;36mpostprocess_message\u001b[0;34m(self, msg)\u001b[0m\n\u001b[1;32m    526\u001b[0m     \u001b[0;32mdef\u001b[0m \u001b[0mpostprocess_message\u001b[0m\u001b[0;34m(\u001b[0m\u001b[0mself\u001b[0m\u001b[0;34m,\u001b[0m \u001b[0mmsg\u001b[0m\u001b[0;34m)\u001b[0m\u001b[0;34m:\u001b[0m\u001b[0;34m\u001b[0m\u001b[0;34m\u001b[0m\u001b[0m\n\u001b[1;32m    527\u001b[0m         \u001b[0;32mif\u001b[0m \u001b[0mmsg\u001b[0m\u001b[0;34m[\u001b[0m\u001b[0;34m\"type\"\u001b[0m\u001b[0;34m]\u001b[0m \u001b[0;32min\u001b[0m \u001b[0;34m[\u001b[0m\u001b[0;34m\"to_funsor\"\u001b[0m\u001b[0;34m,\u001b[0m \u001b[0;34m\"to_data\"\u001b[0m\u001b[0;34m]\u001b[0m\u001b[0;34m:\u001b[0m\u001b[0;34m\u001b[0m\u001b[0;34m\u001b[0m\u001b[0m\n\u001b[0;32m--> 528\u001b[0;31m             \u001b[0;32mreturn\u001b[0m \u001b[0msuper\u001b[0m\u001b[0;34m(\u001b[0m\u001b[0;34m)\u001b[0m\u001b[0;34m.\u001b[0m\u001b[0mpostprocess_message\u001b[0m\u001b[0;34m(\u001b[0m\u001b[0mmsg\u001b[0m\u001b[0;34m)\u001b[0m\u001b[0;34m\u001b[0m\u001b[0;34m\u001b[0m\u001b[0m\n\u001b[0m\u001b[1;32m    529\u001b[0m         \u001b[0;31m# NB: copied literally from original plate messenger, with self._indices is replaced\u001b[0m\u001b[0;34m\u001b[0m\u001b[0;34m\u001b[0m\u001b[0;34m\u001b[0m\u001b[0m\n\u001b[1;32m    530\u001b[0m         \u001b[0;31m# by self.indices\u001b[0m\u001b[0;34m\u001b[0m\u001b[0;34m\u001b[0m\u001b[0;34m\u001b[0m\u001b[0m\n",
      "\u001b[0;32m~/Library/Python/3.9/lib/python/site-packages/numpyro/contrib/funsor/enum_messenger.py\u001b[0m in \u001b[0;36mpostprocess_message\u001b[0;34m(self, msg)\u001b[0m\n\u001b[1;32m    415\u001b[0m             \u001b[0mself\u001b[0m\u001b[0;34m.\u001b[0m\u001b[0m_pyro_post_to_funsor\u001b[0m\u001b[0;34m(\u001b[0m\u001b[0mmsg\u001b[0m\u001b[0;34m)\u001b[0m\u001b[0;34m\u001b[0m\u001b[0;34m\u001b[0m\u001b[0m\n\u001b[1;32m    416\u001b[0m         \u001b[0;32melif\u001b[0m \u001b[0mmsg\u001b[0m\u001b[0;34m[\u001b[0m\u001b[0;34m\"type\"\u001b[0m\u001b[0;34m]\u001b[0m \u001b[0;34m==\u001b[0m \u001b[0;34m\"to_data\"\u001b[0m\u001b[0;34m:\u001b[0m\u001b[0;34m\u001b[0m\u001b[0;34m\u001b[0m\u001b[0m\n\u001b[0;32m--> 417\u001b[0;31m             \u001b[0mself\u001b[0m\u001b[0;34m.\u001b[0m\u001b[0m_pyro_post_to_data\u001b[0m\u001b[0;34m(\u001b[0m\u001b[0mmsg\u001b[0m\u001b[0;34m)\u001b[0m\u001b[0;34m\u001b[0m\u001b[0;34m\u001b[0m\u001b[0m\n\u001b[0m\u001b[1;32m    418\u001b[0m \u001b[0;34m\u001b[0m\u001b[0m\n\u001b[1;32m    419\u001b[0m     \u001b[0;32mdef\u001b[0m \u001b[0m_pyro_post_to_funsor\u001b[0m\u001b[0;34m(\u001b[0m\u001b[0mself\u001b[0m\u001b[0;34m,\u001b[0m \u001b[0mmsg\u001b[0m\u001b[0;34m)\u001b[0m\u001b[0;34m:\u001b[0m\u001b[0;34m\u001b[0m\u001b[0;34m\u001b[0m\u001b[0m\n",
      "\u001b[0;32m~/Library/Python/3.9/lib/python/site-packages/numpyro/contrib/funsor/enum_messenger.py\u001b[0m in \u001b[0;36m_pyro_post_to_data\u001b[0;34m(self, msg)\u001b[0m\n\u001b[1;32m    428\u001b[0m             \u001b[0;32mfor\u001b[0m \u001b[0mname\u001b[0m \u001b[0;32min\u001b[0m \u001b[0mmsg\u001b[0m\u001b[0;34m[\u001b[0m\u001b[0;34m\"args\"\u001b[0m\u001b[0;34m]\u001b[0m\u001b[0;34m[\u001b[0m\u001b[0;36m0\u001b[0m\u001b[0;34m]\u001b[0m\u001b[0;34m.\u001b[0m\u001b[0minputs\u001b[0m\u001b[0;34m:\u001b[0m\u001b[0;34m\u001b[0m\u001b[0;34m\u001b[0m\u001b[0m\n\u001b[1;32m    429\u001b[0m                 self._saved_globals += (\n\u001b[0;32m--> 430\u001b[0;31m                     \u001b[0;34m(\u001b[0m\u001b[0mname\u001b[0m\u001b[0;34m,\u001b[0m \u001b[0m_DIM_STACK\u001b[0m\u001b[0;34m.\u001b[0m\u001b[0mglobal_frame\u001b[0m\u001b[0;34m.\u001b[0m\u001b[0mname_to_dim\u001b[0m\u001b[0;34m[\u001b[0m\u001b[0mname\u001b[0m\u001b[0;34m]\u001b[0m\u001b[0;34m)\u001b[0m\u001b[0;34m,\u001b[0m\u001b[0;34m\u001b[0m\u001b[0;34m\u001b[0m\u001b[0m\n\u001b[0m\u001b[1;32m    431\u001b[0m                 )\n\u001b[1;32m    432\u001b[0m \u001b[0;34m\u001b[0m\u001b[0m\n",
      "\u001b[0;31mKeyError\u001b[0m: 'genome_axis'"
     ]
    }
   ],
   "source": [
    "posterior_predictive(rng_key, input_data=input_data)"
   ]
  },
  {
   "cell_type": "code",
   "execution_count": 254,
   "id": "fa035be5",
   "metadata": {},
   "outputs": [],
   "source": [
    "def corrected_reads_to_fasta(posterior_samples, model, input_data, rng_key, list_read_ids, list_sample_ids,fname_output_corr, alphabet,last_x_samples=100):\n",
    "\n",
    "    # TODO: Do we want to cut posterior samples?\n",
    "    reads = input_data[1]\n",
    "\n",
    "    # only consider the last {last_x_samples} samples to summarize results\n",
    "    cluster_assignments = posterior_samples['cluster_assignments'][-last_x_samples:,:,:]\n",
    "    haplotypes = posterior_samples['haplotypes'][-last_x_samples:,:,:]\n",
    "\n",
    "    average_cluster_assignment = scipy.stats.mode(cluster_assignments, axis=0)[0][0] # n_samples x n_reads\n",
    "    average_haplotypes = scipy.stats.mode(haplotypes, axis=0)[0][0]\n",
    "\n",
    "    # computes empirical posterior from posterior_samples p(theta | data)\n",
    "    #posterior_predictive = Predictive(model, posterior_samples, infer_discrete=True)\n",
    "    #print(posterior_predictive(rng_key, input_data=input_data)['obs'].shape)\n",
    "    #posterior_predictions = posterior_predictive(rng_key, input_data=input_data)['obs'][-last_x_samples:,:,:]\n",
    "    #posterior = [(posterior_predictions[:,n,:]==reads[n][:]).all(-1).sum() / last_x_samples for n in range(len(list_read_ids))]\n",
    "    \n",
    "    for m , read_in_sample in enumerate(list_read_ids):\n",
    "        records = []\n",
    "        for n ,read_id in enumerate(read_in_sample):\n",
    "            hap_seq = convert_h_to_seq(average_haplotypes[average_cluster_assignment[m][n]], alphabet)\n",
    "            #header = '|posterior=' + str(posterior[n])\n",
    "            header = '|posterior=' + str(1)\n",
    "            records.append(SeqRecord(Seq(hap_seq), id=read_id, description=header))\n",
    "\n",
    "        SeqIO.write(records, fname_output_corr+list_sample_ids[m]+'-corr.fasta', \"fasta\")"
   ]
  },
  {
   "cell_type": "code",
   "execution_count": 255,
   "id": "15b8b76c",
   "metadata": {},
   "outputs": [],
   "source": [
    "def haplotypes_to_fasta(posterior_samples, model, input_data, rng_key, fname_output_corr, alphabet, last_x_samples=100):\n",
    "    genome_length = posterior_samples['haplotypes'].shape[2]\n",
    "    alphabet_length = len(alphabet)\n",
    "\n",
    "    # only consider the last {last_x_samples} samples to summarize results\n",
    "    cluster_assignments = posterior_samples['cluster_assignments'][-last_x_samples:,:,:]\n",
    "    haplotypes = posterior_samples['haplotypes'][-last_x_samples:,:,:]\n",
    "\n",
    "    # number of reads assigned to each haplo\n",
    "    hap_ids, ave_reads = np.unique(cluster_assignments, return_counts=True)\n",
    "\n",
    "    # collapse haplotypes into unique set\n",
    "    average_haplotypes = scipy.stats.mode(haplotypes, axis=0)[0][0]\n",
    "    unique_haplotypes = np.unique(average_haplotypes, axis=0)\n",
    "    idx_collapsed_haplotypes = [np.where(np.all(average_haplotypes==unique_hap,axis=1)) for unique_hap in unique_haplotypes]\n",
    "    idx_collapsed_haplotypes = [np.intersect1d(idx_col,hap_ids) for idx_col in idx_collapsed_haplotypes]\n",
    "    # map idx_collapsed_haplotypes to hap_ids order\n",
    "    outer = []\n",
    "    for idx_collapsed in idx_collapsed_haplotypes:\n",
    "        outer.append([np.argwhere(hap_ids==i)[0][0] for i in idx_collapsed])\n",
    "    mapped_idx_collapsed_haplotypes = outer\n",
    "\n",
    "    # collapse number of average reads to unique haplotypes\n",
    "    ave_reads = np.array([np.sum(ave_reads[idx_hap]) for idx_hap in mapped_idx_collapsed_haplotypes])\n",
    "    ave_reads = ave_reads / last_x_samples\n",
    "\n",
    "    # empirical posteriors of haplotypes (collapsed like in ave_reads computation)\n",
    "    posterior_predictive = Predictive(model, \n",
    "                                      posterior_samples, \n",
    "                                      infer_discrete=True, \n",
    "                                      return_sites=['haplotypes']\n",
    "                                     )\n",
    "    posterior_predictions = posterior_predictive(rng_key, \n",
    "                                                 input_data=input_data\n",
    "                                                )['haplotypes'][-last_x_samples:,:,:]\n",
    "    posterior = [(posterior_predictions[:,hap_ids[idx_hap],:]==average_haplotypes[hap_ids[idx_hap]][:]).all(-1).sum() / last_x_samples for idx_hap in mapped_idx_collapsed_haplotypes]\n",
    "\n",
    "    # write to fasta\n",
    "    records = []\n",
    "    for k in range(unique_haplotypes.shape[0]):\n",
    "        head = ' | posterior='+str(posterior[k])+' ave_reads='+str(ave_reads[k])\n",
    "        seq = convert_h_to_seq(unique_haplotypes[k], alphabet)\n",
    "        records.append(SeqRecord(Seq(seq), id='haplotype'+str(k), description=head))\n",
    "    SeqIO.write(records, fname_output_corr, \"fasta\")\n"
   ]
  },
  {
   "cell_type": "code",
   "execution_count": null,
   "id": "0efecaf0",
   "metadata": {},
   "outputs": [],
   "source": []
  },
  {
   "cell_type": "markdown",
   "id": "ef47c61b",
   "metadata": {},
   "source": [
    "------"
   ]
  },
  {
   "cell_type": "code",
   "execution_count": 256,
   "id": "32e8e5ac",
   "metadata": {},
   "outputs": [
    {
     "ename": "KeyError",
     "evalue": "'genome_axis'",
     "output_type": "error",
     "traceback": [
      "\u001b[0;31m---------------------------------------------------------------------------\u001b[0m",
      "\u001b[0;31mKeyError\u001b[0m                                  Traceback (most recent call last)",
      "\u001b[0;32m/var/folders/dw/8dl4p6h53cgcmk6cf_09v5f40000gr/T/ipykernel_19981/3396309322.py\u001b[0m in \u001b[0;36m<module>\u001b[0;34m\u001b[0m\n\u001b[0;32m----> 1\u001b[0;31m haplotypes_to_fasta(posterior_samples,\n\u001b[0m\u001b[1;32m      2\u001b[0m                     \u001b[0mmodel\u001b[0m\u001b[0;34m,\u001b[0m\u001b[0;34m\u001b[0m\u001b[0;34m\u001b[0m\u001b[0m\n\u001b[1;32m      3\u001b[0m                     \u001b[0minput_data\u001b[0m\u001b[0;34m,\u001b[0m\u001b[0;34m\u001b[0m\u001b[0;34m\u001b[0m\u001b[0m\n\u001b[1;32m      4\u001b[0m                     \u001b[0mrng_key\u001b[0m\u001b[0;34m,\u001b[0m\u001b[0;34m\u001b[0m\u001b[0;34m\u001b[0m\u001b[0m\n\u001b[1;32m      5\u001b[0m                     \u001b[0;34m'/Users/lfuhrmann/Downloads/haplos.fasta'\u001b[0m\u001b[0;34m,\u001b[0m\u001b[0;34m\u001b[0m\u001b[0;34m\u001b[0m\u001b[0m\n",
      "\u001b[0;32m/var/folders/dw/8dl4p6h53cgcmk6cf_09v5f40000gr/T/ipykernel_19981/1734477920.py\u001b[0m in \u001b[0;36mhaplotypes_to_fasta\u001b[0;34m(posterior_samples, model, input_data, rng_key, fname_output_corr, alphabet, last_x_samples)\u001b[0m\n\u001b[1;32m     31\u001b[0m                                       \u001b[0mreturn_sites\u001b[0m\u001b[0;34m=\u001b[0m\u001b[0;34m[\u001b[0m\u001b[0;34m'haplotypes'\u001b[0m\u001b[0;34m]\u001b[0m\u001b[0;34m\u001b[0m\u001b[0;34m\u001b[0m\u001b[0m\n\u001b[1;32m     32\u001b[0m                                      )\n\u001b[0;32m---> 33\u001b[0;31m     posterior_predictions = posterior_predictive(rng_key, \n\u001b[0m\u001b[1;32m     34\u001b[0m                                                  \u001b[0minput_data\u001b[0m\u001b[0;34m=\u001b[0m\u001b[0minput_data\u001b[0m\u001b[0;34m\u001b[0m\u001b[0;34m\u001b[0m\u001b[0m\n\u001b[1;32m     35\u001b[0m                                                 )['haplotypes'][-last_x_samples:,:,:]\n",
      "\u001b[0;32m~/Library/Python/3.9/lib/python/site-packages/numpyro/infer/util.py\u001b[0m in \u001b[0;36m__call__\u001b[0;34m(self, rng_key, *args, **kwargs)\u001b[0m\n\u001b[1;32m    964\u001b[0m         \"\"\"\n\u001b[1;32m    965\u001b[0m         \u001b[0;32mif\u001b[0m \u001b[0mself\u001b[0m\u001b[0;34m.\u001b[0m\u001b[0mbatch_ndims\u001b[0m \u001b[0;34m==\u001b[0m \u001b[0;36m0\u001b[0m \u001b[0;32mor\u001b[0m \u001b[0mself\u001b[0m\u001b[0;34m.\u001b[0m\u001b[0mparams\u001b[0m \u001b[0;34m==\u001b[0m \u001b[0;34m{\u001b[0m\u001b[0;34m}\u001b[0m \u001b[0;32mor\u001b[0m \u001b[0mself\u001b[0m\u001b[0;34m.\u001b[0m\u001b[0mguide\u001b[0m \u001b[0;32mis\u001b[0m \u001b[0;32mNone\u001b[0m\u001b[0;34m:\u001b[0m\u001b[0;34m\u001b[0m\u001b[0;34m\u001b[0m\u001b[0m\n\u001b[0;32m--> 966\u001b[0;31m             \u001b[0;32mreturn\u001b[0m \u001b[0mself\u001b[0m\u001b[0;34m.\u001b[0m\u001b[0m_call_with_params\u001b[0m\u001b[0;34m(\u001b[0m\u001b[0mrng_key\u001b[0m\u001b[0;34m,\u001b[0m \u001b[0mself\u001b[0m\u001b[0;34m.\u001b[0m\u001b[0mparams\u001b[0m\u001b[0;34m,\u001b[0m \u001b[0margs\u001b[0m\u001b[0;34m,\u001b[0m \u001b[0mkwargs\u001b[0m\u001b[0;34m)\u001b[0m\u001b[0;34m\u001b[0m\u001b[0;34m\u001b[0m\u001b[0m\n\u001b[0m\u001b[1;32m    967\u001b[0m         \u001b[0;32melif\u001b[0m \u001b[0mself\u001b[0m\u001b[0;34m.\u001b[0m\u001b[0mbatch_ndims\u001b[0m \u001b[0;34m==\u001b[0m \u001b[0;36m1\u001b[0m\u001b[0;34m:\u001b[0m  \u001b[0;31m# batch over parameters\u001b[0m\u001b[0;34m\u001b[0m\u001b[0;34m\u001b[0m\u001b[0m\n\u001b[1;32m    968\u001b[0m             \u001b[0mbatch_size\u001b[0m \u001b[0;34m=\u001b[0m \u001b[0mjnp\u001b[0m\u001b[0;34m.\u001b[0m\u001b[0mshape\u001b[0m\u001b[0;34m(\u001b[0m\u001b[0mtree_flatten\u001b[0m\u001b[0;34m(\u001b[0m\u001b[0mself\u001b[0m\u001b[0;34m.\u001b[0m\u001b[0mparams\u001b[0m\u001b[0;34m)\u001b[0m\u001b[0;34m[\u001b[0m\u001b[0;36m0\u001b[0m\u001b[0;34m]\u001b[0m\u001b[0;34m[\u001b[0m\u001b[0;36m0\u001b[0m\u001b[0;34m]\u001b[0m\u001b[0;34m)\u001b[0m\u001b[0;34m[\u001b[0m\u001b[0;36m0\u001b[0m\u001b[0;34m]\u001b[0m\u001b[0;34m\u001b[0m\u001b[0;34m\u001b[0m\u001b[0m\n",
      "\u001b[0;32m~/Library/Python/3.9/lib/python/site-packages/numpyro/infer/util.py\u001b[0m in \u001b[0;36m_call_with_params\u001b[0;34m(self, rng_key, params, args, kwargs)\u001b[0m\n\u001b[1;32m    941\u001b[0m             )\n\u001b[1;32m    942\u001b[0m         \u001b[0mmodel\u001b[0m \u001b[0;34m=\u001b[0m \u001b[0msubstitute\u001b[0m\u001b[0;34m(\u001b[0m\u001b[0mself\u001b[0m\u001b[0;34m.\u001b[0m\u001b[0mmodel\u001b[0m\u001b[0;34m,\u001b[0m \u001b[0mself\u001b[0m\u001b[0;34m.\u001b[0m\u001b[0mparams\u001b[0m\u001b[0;34m)\u001b[0m\u001b[0;34m\u001b[0m\u001b[0;34m\u001b[0m\u001b[0m\n\u001b[0;32m--> 943\u001b[0;31m         return _predictive(\n\u001b[0m\u001b[1;32m    944\u001b[0m             \u001b[0mrng_key\u001b[0m\u001b[0;34m,\u001b[0m\u001b[0;34m\u001b[0m\u001b[0;34m\u001b[0m\u001b[0m\n\u001b[1;32m    945\u001b[0m             \u001b[0mmodel\u001b[0m\u001b[0;34m,\u001b[0m\u001b[0;34m\u001b[0m\u001b[0;34m\u001b[0m\u001b[0m\n",
      "\u001b[0;32m~/Library/Python/3.9/lib/python/site-packages/numpyro/infer/util.py\u001b[0m in \u001b[0;36m_predictive\u001b[0;34m(rng_key, model, posterior_samples, batch_shape, return_sites, infer_discrete, parallel, model_args, model_kwargs)\u001b[0m\n\u001b[1;32m    782\u001b[0m     \u001b[0mrng_key\u001b[0m \u001b[0;34m=\u001b[0m \u001b[0mrng_key\u001b[0m\u001b[0;34m.\u001b[0m\u001b[0mreshape\u001b[0m\u001b[0;34m(\u001b[0m\u001b[0;34m(\u001b[0m\u001b[0;34m*\u001b[0m\u001b[0mbatch_shape\u001b[0m\u001b[0;34m,\u001b[0m \u001b[0;36m2\u001b[0m\u001b[0;34m)\u001b[0m\u001b[0;34m)\u001b[0m\u001b[0;34m\u001b[0m\u001b[0;34m\u001b[0m\u001b[0m\n\u001b[1;32m    783\u001b[0m     \u001b[0mchunk_size\u001b[0m \u001b[0;34m=\u001b[0m \u001b[0mnum_samples\u001b[0m \u001b[0;32mif\u001b[0m \u001b[0mparallel\u001b[0m \u001b[0;32melse\u001b[0m \u001b[0;36m1\u001b[0m\u001b[0;34m\u001b[0m\u001b[0;34m\u001b[0m\u001b[0m\n\u001b[0;32m--> 784\u001b[0;31m     return soft_vmap(\n\u001b[0m\u001b[1;32m    785\u001b[0m         \u001b[0msingle_prediction\u001b[0m\u001b[0;34m,\u001b[0m \u001b[0;34m(\u001b[0m\u001b[0mrng_key\u001b[0m\u001b[0;34m,\u001b[0m \u001b[0mposterior_samples\u001b[0m\u001b[0;34m)\u001b[0m\u001b[0;34m,\u001b[0m \u001b[0mlen\u001b[0m\u001b[0;34m(\u001b[0m\u001b[0mbatch_shape\u001b[0m\u001b[0;34m)\u001b[0m\u001b[0;34m,\u001b[0m \u001b[0mchunk_size\u001b[0m\u001b[0;34m\u001b[0m\u001b[0;34m\u001b[0m\u001b[0m\n\u001b[1;32m    786\u001b[0m     )\n",
      "\u001b[0;32m~/Library/Python/3.9/lib/python/site-packages/numpyro/util.py\u001b[0m in \u001b[0;36msoft_vmap\u001b[0;34m(fn, xs, batch_ndims, chunk_size)\u001b[0m\n\u001b[1;32m    408\u001b[0m         \u001b[0mfn\u001b[0m \u001b[0;34m=\u001b[0m \u001b[0mvmap\u001b[0m\u001b[0;34m(\u001b[0m\u001b[0mfn\u001b[0m\u001b[0;34m)\u001b[0m\u001b[0;34m\u001b[0m\u001b[0;34m\u001b[0m\u001b[0m\n\u001b[1;32m    409\u001b[0m \u001b[0;34m\u001b[0m\u001b[0m\n\u001b[0;32m--> 410\u001b[0;31m     \u001b[0mys\u001b[0m \u001b[0;34m=\u001b[0m \u001b[0mlax\u001b[0m\u001b[0;34m.\u001b[0m\u001b[0mmap\u001b[0m\u001b[0;34m(\u001b[0m\u001b[0mfn\u001b[0m\u001b[0;34m,\u001b[0m \u001b[0mxs\u001b[0m\u001b[0;34m)\u001b[0m \u001b[0;32mif\u001b[0m \u001b[0mnum_chunks\u001b[0m \u001b[0;34m>\u001b[0m \u001b[0;36m1\u001b[0m \u001b[0;32melse\u001b[0m \u001b[0mfn\u001b[0m\u001b[0;34m(\u001b[0m\u001b[0mxs\u001b[0m\u001b[0;34m)\u001b[0m\u001b[0;34m\u001b[0m\u001b[0;34m\u001b[0m\u001b[0m\n\u001b[0m\u001b[1;32m    411\u001b[0m     \u001b[0mmap_ndims\u001b[0m \u001b[0;34m=\u001b[0m \u001b[0mint\u001b[0m\u001b[0;34m(\u001b[0m\u001b[0mnum_chunks\u001b[0m \u001b[0;34m>\u001b[0m \u001b[0;36m1\u001b[0m\u001b[0;34m)\u001b[0m \u001b[0;34m+\u001b[0m \u001b[0mint\u001b[0m\u001b[0;34m(\u001b[0m\u001b[0mchunk_size\u001b[0m \u001b[0;34m>\u001b[0m \u001b[0;36m1\u001b[0m\u001b[0;34m)\u001b[0m\u001b[0;34m\u001b[0m\u001b[0;34m\u001b[0m\u001b[0m\n\u001b[1;32m    412\u001b[0m     ys = tree_map(\n",
      "    \u001b[0;31m[... skipping hidden 16 frame]\u001b[0m\n",
      "\u001b[0;32m~/Library/Python/3.9/lib/python/site-packages/numpyro/infer/util.py\u001b[0m in \u001b[0;36msingle_prediction\u001b[0;34m(val)\u001b[0m\n\u001b[1;32m    747\u001b[0m             \u001b[0mmodel_trace\u001b[0m \u001b[0;34m=\u001b[0m \u001b[0mprototype_trace\u001b[0m\u001b[0;34m\u001b[0m\u001b[0;34m\u001b[0m\u001b[0m\n\u001b[1;32m    748\u001b[0m             \u001b[0mtemperature\u001b[0m \u001b[0;34m=\u001b[0m \u001b[0;36m1\u001b[0m\u001b[0;34m\u001b[0m\u001b[0;34m\u001b[0m\u001b[0m\n\u001b[0;32m--> 749\u001b[0;31m             pred_samples = _sample_posterior(\n\u001b[0m\u001b[1;32m    750\u001b[0m                 \u001b[0mconfig_enumerate\u001b[0m\u001b[0;34m(\u001b[0m\u001b[0mcondition\u001b[0m\u001b[0;34m(\u001b[0m\u001b[0mmodel\u001b[0m\u001b[0;34m,\u001b[0m \u001b[0msamples\u001b[0m\u001b[0;34m)\u001b[0m\u001b[0;34m)\u001b[0m\u001b[0;34m,\u001b[0m\u001b[0;34m\u001b[0m\u001b[0;34m\u001b[0m\u001b[0m\n\u001b[1;32m    751\u001b[0m                 \u001b[0mfirst_available_dim\u001b[0m\u001b[0;34m,\u001b[0m\u001b[0;34m\u001b[0m\u001b[0;34m\u001b[0m\u001b[0m\n",
      "\u001b[0;32m~/Library/Python/3.9/lib/python/site-packages/numpyro/contrib/funsor/discrete.py\u001b[0m in \u001b[0;36m_sample_posterior\u001b[0;34m(model, first_available_dim, temperature, rng_key, *args, **kwargs)\u001b[0m\n\u001b[1;32m     60\u001b[0m     \u001b[0;32mwith\u001b[0m \u001b[0mfunsor\u001b[0m\u001b[0;34m.\u001b[0m\u001b[0madjoint\u001b[0m\u001b[0;34m.\u001b[0m\u001b[0mAdjointTape\u001b[0m\u001b[0;34m(\u001b[0m\u001b[0;34m)\u001b[0m \u001b[0;32mas\u001b[0m \u001b[0mtape\u001b[0m\u001b[0;34m:\u001b[0m\u001b[0;34m\u001b[0m\u001b[0;34m\u001b[0m\u001b[0m\n\u001b[1;32m     61\u001b[0m         \u001b[0;32mwith\u001b[0m \u001b[0mblock\u001b[0m\u001b[0;34m(\u001b[0m\u001b[0;34m)\u001b[0m\u001b[0;34m,\u001b[0m \u001b[0menum\u001b[0m\u001b[0;34m(\u001b[0m\u001b[0mfirst_available_dim\u001b[0m\u001b[0;34m=\u001b[0m\u001b[0mfirst_available_dim\u001b[0m\u001b[0;34m)\u001b[0m\u001b[0;34m:\u001b[0m\u001b[0;34m\u001b[0m\u001b[0;34m\u001b[0m\u001b[0m\n\u001b[0;32m---> 62\u001b[0;31m             log_prob, model_tr, log_measures = _enum_log_density(\n\u001b[0m\u001b[1;32m     63\u001b[0m                 \u001b[0mmodel\u001b[0m\u001b[0;34m,\u001b[0m \u001b[0margs\u001b[0m\u001b[0;34m,\u001b[0m \u001b[0mkwargs\u001b[0m\u001b[0;34m,\u001b[0m \u001b[0;34m{\u001b[0m\u001b[0;34m}\u001b[0m\u001b[0;34m,\u001b[0m \u001b[0msum_op\u001b[0m\u001b[0;34m,\u001b[0m \u001b[0mprod_op\u001b[0m\u001b[0;34m\u001b[0m\u001b[0;34m\u001b[0m\u001b[0m\n\u001b[1;32m     64\u001b[0m             )\n",
      "\u001b[0;32m~/Library/Python/3.9/lib/python/site-packages/numpyro/contrib/funsor/infer_util.py\u001b[0m in \u001b[0;36m_enum_log_density\u001b[0;34m(model, model_args, model_kwargs, params, sum_op, prod_op)\u001b[0m\n\u001b[1;32m    157\u001b[0m     \u001b[0mmodel\u001b[0m \u001b[0;34m=\u001b[0m \u001b[0msubstitute\u001b[0m\u001b[0;34m(\u001b[0m\u001b[0mmodel\u001b[0m\u001b[0;34m,\u001b[0m \u001b[0mdata\u001b[0m\u001b[0;34m=\u001b[0m\u001b[0mparams\u001b[0m\u001b[0;34m)\u001b[0m\u001b[0;34m\u001b[0m\u001b[0;34m\u001b[0m\u001b[0m\n\u001b[1;32m    158\u001b[0m     \u001b[0;32mwith\u001b[0m \u001b[0mplate_to_enum_plate\u001b[0m\u001b[0;34m(\u001b[0m\u001b[0;34m)\u001b[0m\u001b[0;34m:\u001b[0m\u001b[0;34m\u001b[0m\u001b[0;34m\u001b[0m\u001b[0m\n\u001b[0;32m--> 159\u001b[0;31m         \u001b[0mmodel_trace\u001b[0m \u001b[0;34m=\u001b[0m \u001b[0mpacked_trace\u001b[0m\u001b[0;34m(\u001b[0m\u001b[0mmodel\u001b[0m\u001b[0;34m)\u001b[0m\u001b[0;34m.\u001b[0m\u001b[0mget_trace\u001b[0m\u001b[0;34m(\u001b[0m\u001b[0;34m*\u001b[0m\u001b[0mmodel_args\u001b[0m\u001b[0;34m,\u001b[0m \u001b[0;34m**\u001b[0m\u001b[0mmodel_kwargs\u001b[0m\u001b[0;34m)\u001b[0m\u001b[0;34m\u001b[0m\u001b[0;34m\u001b[0m\u001b[0m\n\u001b[0m\u001b[1;32m    160\u001b[0m     \u001b[0mlog_factors\u001b[0m \u001b[0;34m=\u001b[0m \u001b[0;34m[\u001b[0m\u001b[0;34m]\u001b[0m\u001b[0;34m\u001b[0m\u001b[0;34m\u001b[0m\u001b[0m\n\u001b[1;32m    161\u001b[0m     \u001b[0mtime_to_factors\u001b[0m \u001b[0;34m=\u001b[0m \u001b[0mdefaultdict\u001b[0m\u001b[0;34m(\u001b[0m\u001b[0mlist\u001b[0m\u001b[0;34m)\u001b[0m  \u001b[0;31m# log prob factors\u001b[0m\u001b[0;34m\u001b[0m\u001b[0;34m\u001b[0m\u001b[0m\n",
      "\u001b[0;32m~/Library/Python/3.9/lib/python/site-packages/numpyro/handlers.py\u001b[0m in \u001b[0;36mget_trace\u001b[0;34m(self, *args, **kwargs)\u001b[0m\n\u001b[1;32m    169\u001b[0m         \u001b[0;34m:\u001b[0m\u001b[0;32mreturn\u001b[0m\u001b[0;34m:\u001b[0m\u001b[0;31m \u001b[0m\u001b[0;31m`\u001b[0m\u001b[0mOrderedDict\u001b[0m\u001b[0;31m`\u001b[0m \u001b[0mcontaining\u001b[0m \u001b[0mthe\u001b[0m \u001b[0mexecution\u001b[0m \u001b[0mtrace\u001b[0m\u001b[0;34m.\u001b[0m\u001b[0;34m\u001b[0m\u001b[0;34m\u001b[0m\u001b[0m\n\u001b[1;32m    170\u001b[0m         \"\"\"\n\u001b[0;32m--> 171\u001b[0;31m         \u001b[0mself\u001b[0m\u001b[0;34m(\u001b[0m\u001b[0;34m*\u001b[0m\u001b[0margs\u001b[0m\u001b[0;34m,\u001b[0m \u001b[0;34m**\u001b[0m\u001b[0mkwargs\u001b[0m\u001b[0;34m)\u001b[0m\u001b[0;34m\u001b[0m\u001b[0;34m\u001b[0m\u001b[0m\n\u001b[0m\u001b[1;32m    172\u001b[0m         \u001b[0;32mreturn\u001b[0m \u001b[0mself\u001b[0m\u001b[0;34m.\u001b[0m\u001b[0mtrace\u001b[0m\u001b[0;34m\u001b[0m\u001b[0;34m\u001b[0m\u001b[0m\n\u001b[1;32m    173\u001b[0m \u001b[0;34m\u001b[0m\u001b[0m\n",
      "\u001b[0;32m~/Library/Python/3.9/lib/python/site-packages/numpyro/primitives.py\u001b[0m in \u001b[0;36m__call__\u001b[0;34m(self, *args, **kwargs)\u001b[0m\n\u001b[1;32m     85\u001b[0m             \u001b[0;32mreturn\u001b[0m \u001b[0mself\u001b[0m\u001b[0;34m\u001b[0m\u001b[0;34m\u001b[0m\u001b[0m\n\u001b[1;32m     86\u001b[0m         \u001b[0;32mwith\u001b[0m \u001b[0mself\u001b[0m\u001b[0;34m:\u001b[0m\u001b[0;34m\u001b[0m\u001b[0;34m\u001b[0m\u001b[0m\n\u001b[0;32m---> 87\u001b[0;31m             \u001b[0;32mreturn\u001b[0m \u001b[0mself\u001b[0m\u001b[0;34m.\u001b[0m\u001b[0mfn\u001b[0m\u001b[0;34m(\u001b[0m\u001b[0;34m*\u001b[0m\u001b[0margs\u001b[0m\u001b[0;34m,\u001b[0m \u001b[0;34m**\u001b[0m\u001b[0mkwargs\u001b[0m\u001b[0;34m)\u001b[0m\u001b[0;34m\u001b[0m\u001b[0;34m\u001b[0m\u001b[0m\n\u001b[0m\u001b[1;32m     88\u001b[0m \u001b[0;34m\u001b[0m\u001b[0m\n\u001b[1;32m     89\u001b[0m \u001b[0;34m\u001b[0m\u001b[0m\n",
      "\u001b[0;32m~/Library/Python/3.9/lib/python/site-packages/numpyro/primitives.py\u001b[0m in \u001b[0;36m__call__\u001b[0;34m(self, *args, **kwargs)\u001b[0m\n\u001b[1;32m     85\u001b[0m             \u001b[0;32mreturn\u001b[0m \u001b[0mself\u001b[0m\u001b[0;34m\u001b[0m\u001b[0;34m\u001b[0m\u001b[0m\n\u001b[1;32m     86\u001b[0m         \u001b[0;32mwith\u001b[0m \u001b[0mself\u001b[0m\u001b[0;34m:\u001b[0m\u001b[0;34m\u001b[0m\u001b[0;34m\u001b[0m\u001b[0m\n\u001b[0;32m---> 87\u001b[0;31m             \u001b[0;32mreturn\u001b[0m \u001b[0mself\u001b[0m\u001b[0;34m.\u001b[0m\u001b[0mfn\u001b[0m\u001b[0;34m(\u001b[0m\u001b[0;34m*\u001b[0m\u001b[0margs\u001b[0m\u001b[0;34m,\u001b[0m \u001b[0;34m**\u001b[0m\u001b[0mkwargs\u001b[0m\u001b[0;34m)\u001b[0m\u001b[0;34m\u001b[0m\u001b[0;34m\u001b[0m\u001b[0m\n\u001b[0m\u001b[1;32m     88\u001b[0m \u001b[0;34m\u001b[0m\u001b[0m\n\u001b[1;32m     89\u001b[0m \u001b[0;34m\u001b[0m\u001b[0m\n",
      "\u001b[0;32m~/Library/Python/3.9/lib/python/site-packages/numpyro/primitives.py\u001b[0m in \u001b[0;36m__call__\u001b[0;34m(self, *args, **kwargs)\u001b[0m\n\u001b[1;32m     85\u001b[0m             \u001b[0;32mreturn\u001b[0m \u001b[0mself\u001b[0m\u001b[0;34m\u001b[0m\u001b[0;34m\u001b[0m\u001b[0m\n\u001b[1;32m     86\u001b[0m         \u001b[0;32mwith\u001b[0m \u001b[0mself\u001b[0m\u001b[0;34m:\u001b[0m\u001b[0;34m\u001b[0m\u001b[0;34m\u001b[0m\u001b[0m\n\u001b[0;32m---> 87\u001b[0;31m             \u001b[0;32mreturn\u001b[0m \u001b[0mself\u001b[0m\u001b[0;34m.\u001b[0m\u001b[0mfn\u001b[0m\u001b[0;34m(\u001b[0m\u001b[0;34m*\u001b[0m\u001b[0margs\u001b[0m\u001b[0;34m,\u001b[0m \u001b[0;34m**\u001b[0m\u001b[0mkwargs\u001b[0m\u001b[0;34m)\u001b[0m\u001b[0;34m\u001b[0m\u001b[0;34m\u001b[0m\u001b[0m\n\u001b[0m\u001b[1;32m     88\u001b[0m \u001b[0;34m\u001b[0m\u001b[0m\n\u001b[1;32m     89\u001b[0m \u001b[0;34m\u001b[0m\u001b[0m\n",
      "\u001b[0;32m~/Library/Python/3.9/lib/python/site-packages/numpyro/primitives.py\u001b[0m in \u001b[0;36m__call__\u001b[0;34m(self, *args, **kwargs)\u001b[0m\n\u001b[1;32m     85\u001b[0m             \u001b[0;32mreturn\u001b[0m \u001b[0mself\u001b[0m\u001b[0;34m\u001b[0m\u001b[0;34m\u001b[0m\u001b[0m\n\u001b[1;32m     86\u001b[0m         \u001b[0;32mwith\u001b[0m \u001b[0mself\u001b[0m\u001b[0;34m:\u001b[0m\u001b[0;34m\u001b[0m\u001b[0;34m\u001b[0m\u001b[0m\n\u001b[0;32m---> 87\u001b[0;31m             \u001b[0;32mreturn\u001b[0m \u001b[0mself\u001b[0m\u001b[0;34m.\u001b[0m\u001b[0mfn\u001b[0m\u001b[0;34m(\u001b[0m\u001b[0;34m*\u001b[0m\u001b[0margs\u001b[0m\u001b[0;34m,\u001b[0m \u001b[0;34m**\u001b[0m\u001b[0mkwargs\u001b[0m\u001b[0;34m)\u001b[0m\u001b[0;34m\u001b[0m\u001b[0;34m\u001b[0m\u001b[0m\n\u001b[0m\u001b[1;32m     88\u001b[0m \u001b[0;34m\u001b[0m\u001b[0m\n\u001b[1;32m     89\u001b[0m \u001b[0;34m\u001b[0m\u001b[0m\n",
      "\u001b[0;32m~/Library/Python/3.9/lib/python/site-packages/numpyro/primitives.py\u001b[0m in \u001b[0;36m__call__\u001b[0;34m(self, *args, **kwargs)\u001b[0m\n\u001b[1;32m     85\u001b[0m             \u001b[0;32mreturn\u001b[0m \u001b[0mself\u001b[0m\u001b[0;34m\u001b[0m\u001b[0;34m\u001b[0m\u001b[0m\n\u001b[1;32m     86\u001b[0m         \u001b[0;32mwith\u001b[0m \u001b[0mself\u001b[0m\u001b[0;34m:\u001b[0m\u001b[0;34m\u001b[0m\u001b[0;34m\u001b[0m\u001b[0m\n\u001b[0;32m---> 87\u001b[0;31m             \u001b[0;32mreturn\u001b[0m \u001b[0mself\u001b[0m\u001b[0;34m.\u001b[0m\u001b[0mfn\u001b[0m\u001b[0;34m(\u001b[0m\u001b[0;34m*\u001b[0m\u001b[0margs\u001b[0m\u001b[0;34m,\u001b[0m \u001b[0;34m**\u001b[0m\u001b[0mkwargs\u001b[0m\u001b[0;34m)\u001b[0m\u001b[0;34m\u001b[0m\u001b[0;34m\u001b[0m\u001b[0m\n\u001b[0m\u001b[1;32m     88\u001b[0m \u001b[0;34m\u001b[0m\u001b[0m\n\u001b[1;32m     89\u001b[0m \u001b[0;34m\u001b[0m\u001b[0m\n",
      "\u001b[0;32m/var/folders/dw/8dl4p6h53cgcmk6cf_09v5f40000gr/T/ipykernel_19981/2894122897.py\u001b[0m in \u001b[0;36mmodel_hierarchicalSBMM\u001b[0;34m(input_data)\u001b[0m\n\u001b[1;32m     61\u001b[0m     \u001b[0mgenome_axis\u001b[0m \u001b[0;34m=\u001b[0m \u001b[0mnumpyro\u001b[0m\u001b[0;34m.\u001b[0m\u001b[0mplate\u001b[0m\u001b[0;34m(\u001b[0m\u001b[0;34m\"genome_axis\"\u001b[0m\u001b[0;34m,\u001b[0m \u001b[0mgenome_length\u001b[0m\u001b[0;34m,\u001b[0m \u001b[0mdim\u001b[0m\u001b[0;34m=\u001b[0m\u001b[0;34m-\u001b[0m\u001b[0;36m1\u001b[0m\u001b[0;34m)\u001b[0m\u001b[0;34m\u001b[0m\u001b[0;34m\u001b[0m\u001b[0m\n\u001b[1;32m     62\u001b[0m     \u001b[0;32mwith\u001b[0m \u001b[0mnumpyro\u001b[0m\u001b[0;34m.\u001b[0m\u001b[0mplate\u001b[0m\u001b[0;34m(\u001b[0m\u001b[0;34m\"haplotype_axis\"\u001b[0m\u001b[0;34m,\u001b[0m \u001b[0mmax_cluster_num_guess\u001b[0m\u001b[0;34m,\u001b[0m \u001b[0mdim\u001b[0m\u001b[0;34m=\u001b[0m\u001b[0;34m-\u001b[0m\u001b[0;36m2\u001b[0m\u001b[0;34m)\u001b[0m\u001b[0;34m:\u001b[0m\u001b[0;34m\u001b[0m\u001b[0;34m\u001b[0m\u001b[0m\n\u001b[0;32m---> 63\u001b[0;31m         \u001b[0;32mwith\u001b[0m \u001b[0mgenome_axis\u001b[0m\u001b[0;34m:\u001b[0m\u001b[0;34m\u001b[0m\u001b[0;34m\u001b[0m\u001b[0m\n\u001b[0m\u001b[1;32m     64\u001b[0m             haplotypes = numpyro.sample(\n\u001b[1;32m     65\u001b[0m                 \u001b[0;34m\"haplotypes\"\u001b[0m\u001b[0;34m,\u001b[0m \u001b[0mdist\u001b[0m\u001b[0;34m.\u001b[0m\u001b[0mCategorical\u001b[0m\u001b[0;34m(\u001b[0m\u001b[0mmutation_rate_matrix\u001b[0m\u001b[0;34m)\u001b[0m\u001b[0;34m\u001b[0m\u001b[0;34m\u001b[0m\u001b[0m\n",
      "\u001b[0;32m~/Library/Python/3.9/lib/python/site-packages/numpyro/contrib/funsor/enum_messenger.py\u001b[0m in \u001b[0;36m__enter__\u001b[0;34m(self)\u001b[0m\n\u001b[1;32m    504\u001b[0m             \u001b[0;32melse\u001b[0m \u001b[0mOrderedDict\u001b[0m\u001b[0;34m(\u001b[0m\u001b[0;34m)\u001b[0m\u001b[0;34m\u001b[0m\u001b[0;34m\u001b[0m\u001b[0m\n\u001b[1;32m    505\u001b[0m         )\n\u001b[0;32m--> 506\u001b[0;31m         indices = to_data(\n\u001b[0m\u001b[1;32m    507\u001b[0m             \u001b[0mself\u001b[0m\u001b[0;34m.\u001b[0m\u001b[0m_indices\u001b[0m\u001b[0;34m,\u001b[0m \u001b[0mname_to_dim\u001b[0m\u001b[0;34m=\u001b[0m\u001b[0mname_to_dim\u001b[0m\u001b[0;34m,\u001b[0m \u001b[0mdim_type\u001b[0m\u001b[0;34m=\u001b[0m\u001b[0mDimType\u001b[0m\u001b[0;34m.\u001b[0m\u001b[0mVISIBLE\u001b[0m\u001b[0;34m\u001b[0m\u001b[0;34m\u001b[0m\u001b[0m\n\u001b[1;32m    508\u001b[0m         )\n",
      "\u001b[0;32m~/Library/Python/3.9/lib/python/site-packages/numpyro/contrib/funsor/enum_messenger.py\u001b[0m in \u001b[0;36mto_data\u001b[0;34m(x, name_to_dim, dim_type)\u001b[0m\n\u001b[1;32m    707\u001b[0m     }\n\u001b[1;32m    708\u001b[0m \u001b[0;34m\u001b[0m\u001b[0m\n\u001b[0;32m--> 709\u001b[0;31m     \u001b[0mmsg\u001b[0m \u001b[0;34m=\u001b[0m \u001b[0mapply_stack\u001b[0m\u001b[0;34m(\u001b[0m\u001b[0minitial_msg\u001b[0m\u001b[0;34m)\u001b[0m\u001b[0;34m\u001b[0m\u001b[0;34m\u001b[0m\u001b[0m\n\u001b[0m\u001b[1;32m    710\u001b[0m     \u001b[0;32mreturn\u001b[0m \u001b[0mmsg\u001b[0m\u001b[0;34m[\u001b[0m\u001b[0;34m\"value\"\u001b[0m\u001b[0;34m]\u001b[0m\u001b[0;34m\u001b[0m\u001b[0;34m\u001b[0m\u001b[0m\n",
      "\u001b[0;32m~/Library/Python/3.9/lib/python/site-packages/numpyro/primitives.py\u001b[0m in \u001b[0;36mapply_stack\u001b[0;34m(msg)\u001b[0m\n\u001b[1;32m     39\u001b[0m     \u001b[0;31m# via the pointer variable from the process_message loop\u001b[0m\u001b[0;34m\u001b[0m\u001b[0;34m\u001b[0m\u001b[0;34m\u001b[0m\u001b[0m\n\u001b[1;32m     40\u001b[0m     \u001b[0;32mfor\u001b[0m \u001b[0mhandler\u001b[0m \u001b[0;32min\u001b[0m \u001b[0m_PYRO_STACK\u001b[0m\u001b[0;34m[\u001b[0m\u001b[0;34m-\u001b[0m\u001b[0mpointer\u001b[0m \u001b[0;34m-\u001b[0m \u001b[0;36m1\u001b[0m \u001b[0;34m:\u001b[0m\u001b[0;34m]\u001b[0m\u001b[0;34m:\u001b[0m\u001b[0;34m\u001b[0m\u001b[0;34m\u001b[0m\u001b[0m\n\u001b[0;32m---> 41\u001b[0;31m         \u001b[0mhandler\u001b[0m\u001b[0;34m.\u001b[0m\u001b[0mpostprocess_message\u001b[0m\u001b[0;34m(\u001b[0m\u001b[0mmsg\u001b[0m\u001b[0;34m)\u001b[0m\u001b[0;34m\u001b[0m\u001b[0;34m\u001b[0m\u001b[0m\n\u001b[0m\u001b[1;32m     42\u001b[0m     \u001b[0;32mreturn\u001b[0m \u001b[0mmsg\u001b[0m\u001b[0;34m\u001b[0m\u001b[0;34m\u001b[0m\u001b[0m\n\u001b[1;32m     43\u001b[0m \u001b[0;34m\u001b[0m\u001b[0m\n",
      "\u001b[0;32m~/Library/Python/3.9/lib/python/site-packages/numpyro/contrib/funsor/enum_messenger.py\u001b[0m in \u001b[0;36mpostprocess_message\u001b[0;34m(self, msg)\u001b[0m\n\u001b[1;32m    526\u001b[0m     \u001b[0;32mdef\u001b[0m \u001b[0mpostprocess_message\u001b[0m\u001b[0;34m(\u001b[0m\u001b[0mself\u001b[0m\u001b[0;34m,\u001b[0m \u001b[0mmsg\u001b[0m\u001b[0;34m)\u001b[0m\u001b[0;34m:\u001b[0m\u001b[0;34m\u001b[0m\u001b[0;34m\u001b[0m\u001b[0m\n\u001b[1;32m    527\u001b[0m         \u001b[0;32mif\u001b[0m \u001b[0mmsg\u001b[0m\u001b[0;34m[\u001b[0m\u001b[0;34m\"type\"\u001b[0m\u001b[0;34m]\u001b[0m \u001b[0;32min\u001b[0m \u001b[0;34m[\u001b[0m\u001b[0;34m\"to_funsor\"\u001b[0m\u001b[0;34m,\u001b[0m \u001b[0;34m\"to_data\"\u001b[0m\u001b[0;34m]\u001b[0m\u001b[0;34m:\u001b[0m\u001b[0;34m\u001b[0m\u001b[0;34m\u001b[0m\u001b[0m\n\u001b[0;32m--> 528\u001b[0;31m             \u001b[0;32mreturn\u001b[0m \u001b[0msuper\u001b[0m\u001b[0;34m(\u001b[0m\u001b[0;34m)\u001b[0m\u001b[0;34m.\u001b[0m\u001b[0mpostprocess_message\u001b[0m\u001b[0;34m(\u001b[0m\u001b[0mmsg\u001b[0m\u001b[0;34m)\u001b[0m\u001b[0;34m\u001b[0m\u001b[0;34m\u001b[0m\u001b[0m\n\u001b[0m\u001b[1;32m    529\u001b[0m         \u001b[0;31m# NB: copied literally from original plate messenger, with self._indices is replaced\u001b[0m\u001b[0;34m\u001b[0m\u001b[0;34m\u001b[0m\u001b[0;34m\u001b[0m\u001b[0m\n\u001b[1;32m    530\u001b[0m         \u001b[0;31m# by self.indices\u001b[0m\u001b[0;34m\u001b[0m\u001b[0;34m\u001b[0m\u001b[0;34m\u001b[0m\u001b[0m\n",
      "\u001b[0;32m~/Library/Python/3.9/lib/python/site-packages/numpyro/contrib/funsor/enum_messenger.py\u001b[0m in \u001b[0;36mpostprocess_message\u001b[0;34m(self, msg)\u001b[0m\n\u001b[1;32m    415\u001b[0m             \u001b[0mself\u001b[0m\u001b[0;34m.\u001b[0m\u001b[0m_pyro_post_to_funsor\u001b[0m\u001b[0;34m(\u001b[0m\u001b[0mmsg\u001b[0m\u001b[0;34m)\u001b[0m\u001b[0;34m\u001b[0m\u001b[0;34m\u001b[0m\u001b[0m\n\u001b[1;32m    416\u001b[0m         \u001b[0;32melif\u001b[0m \u001b[0mmsg\u001b[0m\u001b[0;34m[\u001b[0m\u001b[0;34m\"type\"\u001b[0m\u001b[0;34m]\u001b[0m \u001b[0;34m==\u001b[0m \u001b[0;34m\"to_data\"\u001b[0m\u001b[0;34m:\u001b[0m\u001b[0;34m\u001b[0m\u001b[0;34m\u001b[0m\u001b[0m\n\u001b[0;32m--> 417\u001b[0;31m             \u001b[0mself\u001b[0m\u001b[0;34m.\u001b[0m\u001b[0m_pyro_post_to_data\u001b[0m\u001b[0;34m(\u001b[0m\u001b[0mmsg\u001b[0m\u001b[0;34m)\u001b[0m\u001b[0;34m\u001b[0m\u001b[0;34m\u001b[0m\u001b[0m\n\u001b[0m\u001b[1;32m    418\u001b[0m \u001b[0;34m\u001b[0m\u001b[0m\n\u001b[1;32m    419\u001b[0m     \u001b[0;32mdef\u001b[0m \u001b[0m_pyro_post_to_funsor\u001b[0m\u001b[0;34m(\u001b[0m\u001b[0mself\u001b[0m\u001b[0;34m,\u001b[0m \u001b[0mmsg\u001b[0m\u001b[0;34m)\u001b[0m\u001b[0;34m:\u001b[0m\u001b[0;34m\u001b[0m\u001b[0;34m\u001b[0m\u001b[0m\n",
      "\u001b[0;32m~/Library/Python/3.9/lib/python/site-packages/numpyro/contrib/funsor/enum_messenger.py\u001b[0m in \u001b[0;36m_pyro_post_to_data\u001b[0;34m(self, msg)\u001b[0m\n\u001b[1;32m    428\u001b[0m             \u001b[0;32mfor\u001b[0m \u001b[0mname\u001b[0m \u001b[0;32min\u001b[0m \u001b[0mmsg\u001b[0m\u001b[0;34m[\u001b[0m\u001b[0;34m\"args\"\u001b[0m\u001b[0;34m]\u001b[0m\u001b[0;34m[\u001b[0m\u001b[0;36m0\u001b[0m\u001b[0;34m]\u001b[0m\u001b[0;34m.\u001b[0m\u001b[0minputs\u001b[0m\u001b[0;34m:\u001b[0m\u001b[0;34m\u001b[0m\u001b[0;34m\u001b[0m\u001b[0m\n\u001b[1;32m    429\u001b[0m                 self._saved_globals += (\n\u001b[0;32m--> 430\u001b[0;31m                     \u001b[0;34m(\u001b[0m\u001b[0mname\u001b[0m\u001b[0;34m,\u001b[0m \u001b[0m_DIM_STACK\u001b[0m\u001b[0;34m.\u001b[0m\u001b[0mglobal_frame\u001b[0m\u001b[0;34m.\u001b[0m\u001b[0mname_to_dim\u001b[0m\u001b[0;34m[\u001b[0m\u001b[0mname\u001b[0m\u001b[0;34m]\u001b[0m\u001b[0;34m)\u001b[0m\u001b[0;34m,\u001b[0m\u001b[0;34m\u001b[0m\u001b[0;34m\u001b[0m\u001b[0m\n\u001b[0m\u001b[1;32m    431\u001b[0m                 )\n\u001b[1;32m    432\u001b[0m \u001b[0;34m\u001b[0m\u001b[0m\n",
      "\u001b[0;31mKeyError\u001b[0m: 'genome_axis'"
     ]
    }
   ],
   "source": [
    "haplotypes_to_fasta(posterior_samples,\n",
    "                    model, \n",
    "                    input_data, \n",
    "                    rng_key, \n",
    "                    '/Users/lfuhrmann/Downloads/haplos.fasta', \n",
    "                    alphabet, \n",
    "                    last_x_samples=100)"
   ]
  },
  {
   "cell_type": "code",
   "execution_count": 257,
   "id": "2e454187",
   "metadata": {},
   "outputs": [],
   "source": [
    "corrected_reads_to_fasta(posterior_samples, \n",
    "                         model, \n",
    "                         input_data, \n",
    "                         rng_key, \n",
    "                         reads_ids, \n",
    "                         list_sample_ids,\n",
    "                         '/Users/lfuhrmann/Downloads/',\n",
    "                         alphabet,\n",
    "                         last_x_samples=100)\n",
    "    "
   ]
  },
  {
   "cell_type": "code",
   "execution_count": 258,
   "id": "1b67fa6b",
   "metadata": {},
   "outputs": [
    {
     "data": {
      "text/plain": [
       "array([[2, 3, 3, 2, 0, 2, 3, 0, 0],\n",
       "       [2, 3, 3, 2, 0, 2, 3, 0, 0],\n",
       "       [2, 3, 3, 2, 0, 2, 3, 0, 0],\n",
       "       [2, 3, 3, 2, 0, 2, 3, 0, 0],\n",
       "       [2, 3, 3, 2, 0, 2, 3, 0, 0],\n",
       "       [2, 3, 3, 2, 0, 2, 3, 0, 0],\n",
       "       [2, 3, 3, 2, 0, 2, 3, 0, 0],\n",
       "       [2, 3, 3, 2, 0, 2, 3, 0, 0],\n",
       "       [2, 3, 3, 2, 0, 2, 3, 0, 0],\n",
       "       [2, 3, 3, 2, 0, 2, 3, 0, 0]], dtype=int32)"
      ]
     },
     "execution_count": 258,
     "metadata": {},
     "output_type": "execute_result"
    }
   ],
   "source": [
    "scipy.stats.mode(posterior_samples['haplotypes'], axis=0)[0][0]"
   ]
  },
  {
   "cell_type": "markdown",
   "id": "2533026c",
   "metadata": {},
   "source": [
    "## Check the results very roughly"
   ]
  },
  {
   "cell_type": "code",
   "execution_count": 272,
   "id": "5652b8d1",
   "metadata": {},
   "outputs": [
    {
     "data": {
      "text/plain": [
       "DeviceArray([[[2, 3, 0, 0, 0, 2, 3, 0, 0],\n",
       "              [2, 3, 3, 2, 0, 2, 3, 0, 0],\n",
       "              [2, 3, 3, 2, 0, 2, 3, 0, 0],\n",
       "              [2, 3, 3, 2, 0, 2, 3, 0, 0],\n",
       "              [2, 3, 3, 3, 0, 2, 3, 0, 0],\n",
       "              [2, 3, 3, 3, 0, 2, 3, 0, 0],\n",
       "              [2, 3, 3, 3, 0, 2, 3, 0, 0]],\n",
       "\n",
       "             [[2, 3, 0, 0, 0, 2, 3, 0, 0],\n",
       "              [2, 3, 3, 2, 0, 2, 3, 0, 0],\n",
       "              [2, 3, 3, 2, 0, 2, 3, 0, 0],\n",
       "              [2, 3, 3, 2, 0, 2, 3, 0, 0],\n",
       "              [2, 3, 3, 3, 0, 2, 3, 0, 0],\n",
       "              [2, 3, 3, 3, 0, 2, 3, 0, 0],\n",
       "              [2, 3, 3, 3, 0, 2, 3, 0, 0]],\n",
       "\n",
       "             [[2, 3, 0, 0, 0, 2, 3, 0, 0],\n",
       "              [2, 3, 0, 0, 0, 2, 3, 0, 0],\n",
       "              [2, 3, 0, 0, 0, 2, 3, 0, 0],\n",
       "              [2, 3, 3, 2, 0, 2, 3, 0, 0],\n",
       "              [2, 3, 3, 3, 0, 2, 3, 0, 0],\n",
       "              [2, 3, 3, 3, 0, 2, 3, 0, 0],\n",
       "              [2, 3, 3, 3, 0, 2, 3, 0, 0]]], dtype=int32)"
      ]
     },
     "execution_count": 272,
     "metadata": {},
     "output_type": "execute_result"
    }
   ],
   "source": [
    "# input data reads\n",
    "input_data[1]"
   ]
  },
  {
   "cell_type": "code",
   "execution_count": 273,
   "id": "0639f36e",
   "metadata": {},
   "outputs": [
    {
     "data": {
      "text/plain": [
       "(1000, 20, 9)"
      ]
     },
     "execution_count": 273,
     "metadata": {},
     "output_type": "execute_result"
    }
   ],
   "source": [
    "posterior_samples['haplotypes'].shape"
   ]
  },
  {
   "cell_type": "code",
   "execution_count": 274,
   "id": "cb740394",
   "metadata": {},
   "outputs": [
    {
     "data": {
      "text/plain": [
       "ModeResult(mode=array([[[2, 3, 3, 2, 0, 2, 3, 0, 0],\n",
       "        [2, 3, 3, 2, 0, 2, 3, 0, 0],\n",
       "        [2, 3, 3, 2, 0, 2, 3, 0, 0],\n",
       "        [2, 3, 3, 2, 0, 2, 3, 0, 0],\n",
       "        [2, 3, 3, 2, 0, 2, 3, 0, 0],\n",
       "        [2, 3, 3, 2, 0, 2, 3, 0, 0],\n",
       "        [2, 3, 3, 2, 0, 2, 3, 0, 0],\n",
       "        [2, 3, 3, 2, 0, 2, 3, 0, 0],\n",
       "        [2, 3, 3, 2, 0, 2, 3, 0, 0],\n",
       "        [2, 3, 3, 2, 0, 2, 3, 0, 0],\n",
       "        [2, 3, 3, 2, 0, 2, 3, 0, 0],\n",
       "        [2, 3, 3, 2, 0, 2, 3, 0, 0],\n",
       "        [2, 3, 3, 2, 0, 2, 3, 0, 0],\n",
       "        [2, 3, 3, 2, 0, 2, 3, 0, 0],\n",
       "        [2, 3, 3, 2, 0, 2, 3, 0, 0],\n",
       "        [2, 3, 3, 2, 0, 2, 3, 0, 0],\n",
       "        [2, 3, 3, 2, 0, 2, 3, 0, 0],\n",
       "        [2, 3, 3, 2, 0, 2, 3, 0, 0],\n",
       "        [2, 3, 3, 2, 0, 2, 3, 0, 0],\n",
       "        [2, 3, 3, 2, 0, 2, 3, 0, 0]]], dtype=int32), count=array([[[ 94,  90,  90,  80,  94,  96,  93,  94,  89],\n",
       "        [ 92,  92,  82,  82,  93,  93,  93,  94,  96],\n",
       "        [ 96,  96,  96,  81,  96,  99,  99,  94,  98],\n",
       "        [ 95,  94,  96,  83,  98,  92,  96,  97,  96],\n",
       "        [ 88,  89,  88,  77,  91,  92,  88,  89,  87],\n",
       "        [ 98,  95,  95,  85,  97,  95,  97,  96,  94],\n",
       "        [ 92,  85,  87,  87,  87,  87,  84,  95,  87],\n",
       "        [ 93,  94,  93,  72,  92,  93,  87,  97,  95],\n",
       "        [ 95, 100,  93,  86,  97,  97,  96,  99,  95],\n",
       "        [ 91,  96,  85,  84,  91,  95,  87,  92,  91],\n",
       "        [ 91,  92,  85,  76,  90,  96,  89,  90,  85],\n",
       "        [ 81,  89,  83,  86,  89,  89,  88,  86,  88],\n",
       "        [ 84,  84,  83,  79,  87,  77,  80,  88,  84],\n",
       "        [ 84,  86,  84,  87,  92,  82,  82,  87,  80],\n",
       "        [ 88,  83,  84,  82,  90,  87,  86,  89,  86],\n",
       "        [ 90,  87,  85,  89,  94,  89,  91,  88,  88],\n",
       "        [ 93,  87,  90,  79,  87,  90,  85,  88,  88],\n",
       "        [ 89,  82,  88,  82,  87,  88,  88,  86,  85],\n",
       "        [ 83,  85,  88,  73,  86,  88,  84,  91,  89],\n",
       "        [ 81,  89,  82,  86,  86,  90,  88,  89,  87]]]))"
      ]
     },
     "execution_count": 274,
     "metadata": {},
     "output_type": "execute_result"
    }
   ],
   "source": [
    "scipy.stats.mode(posterior_samples['haplotypes'][-100:,:,:], axis=0)"
   ]
  },
  {
   "cell_type": "code",
   "execution_count": 275,
   "id": "628baac3",
   "metadata": {},
   "outputs": [
    {
     "data": {
      "text/plain": [
       "(1000, 3, 7)"
      ]
     },
     "execution_count": 275,
     "metadata": {},
     "output_type": "execute_result"
    }
   ],
   "source": [
    "posterior_samples['cluster_assignments'].shape \n",
    "# n_drawn_samples x n_data_samples x n_reads"
   ]
  },
  {
   "cell_type": "code",
   "execution_count": 276,
   "id": "f6717bd1",
   "metadata": {},
   "outputs": [
    {
     "data": {
      "text/plain": [
       "ModeResult(mode=array([[[2, 8, 3, 2, 2, 2, 2],\n",
       "        [7, 8, 8, 3, 3, 7, 3],\n",
       "        [0, 5, 0, 5, 5, 5, 0]]], dtype=int32), count=array([[[16, 21, 21, 19, 22, 28, 20],\n",
       "        [25, 22, 22, 22, 21, 30, 24],\n",
       "        [20, 24, 20, 21, 25, 27, 22]]]))"
      ]
     },
     "execution_count": 276,
     "metadata": {},
     "output_type": "execute_result"
    }
   ],
   "source": [
    "scipy.stats.mode(posterior_samples['cluster_assignments'][-100:,:,:], axis=0)"
   ]
  },
  {
   "cell_type": "code",
   "execution_count": null,
   "id": "c8f21d8a",
   "metadata": {},
   "outputs": [],
   "source": [
    "# inferred haplotypes\n",
    "scipy.stats.mode(posterior_samples['haplotypes'][-50:,:,:], axis=0)[0][0]"
   ]
  },
  {
   "cell_type": "code",
   "execution_count": null,
   "id": "0bdc893f",
   "metadata": {},
   "outputs": [],
   "source": [
    "scipy.stats.mode(posterior_samples['cluster_assignments'][-4:,:,:], axis=0)[0][0]"
   ]
  },
  {
   "cell_type": "code",
   "execution_count": null,
   "id": "5ffe658c",
   "metadata": {},
   "outputs": [],
   "source": [
    "scipy.stats.mode(posterior_samples['cluster_assignments'][-100:,:,:], axis=0)[0][0]"
   ]
  },
  {
   "cell_type": "code",
   "execution_count": null,
   "id": "6719d1a1",
   "metadata": {},
   "outputs": [],
   "source": [
    "# inferred cluster assignments\n",
    "scipy.stats.mode(posterior_samples['cluster_assignments'], axis=0)[0][0]"
   ]
  },
  {
   "cell_type": "code",
   "execution_count": null,
   "id": "e4607c72",
   "metadata": {},
   "outputs": [],
   "source": [
    "# inferred no-mutation rate\n",
    "np.mean(posterior_samples['mutation_rate'])"
   ]
  },
  {
   "cell_type": "code",
   "execution_count": null,
   "id": "61460d96",
   "metadata": {},
   "outputs": [],
   "source": [
    "# inferred no-error rate\n",
    "np.mean(posterior_samples['error_rate'])"
   ]
  },
  {
   "cell_type": "code",
   "execution_count": null,
   "id": "2090a1a9",
   "metadata": {},
   "outputs": [],
   "source": []
  },
  {
   "cell_type": "code",
   "execution_count": null,
   "id": "fb3c2ad9",
   "metadata": {},
   "outputs": [],
   "source": []
  }
 ],
 "metadata": {
  "kernelspec": {
   "display_name": "Python 3 (ipykernel)",
   "language": "python",
   "name": "python3"
  },
  "language_info": {
   "codemirror_mode": {
    "name": "ipython",
    "version": 3
   },
   "file_extension": ".py",
   "mimetype": "text/x-python",
   "name": "python",
   "nbconvert_exporter": "python",
   "pygments_lexer": "ipython3",
   "version": "3.9.0"
  }
 },
 "nbformat": 4,
 "nbformat_minor": 5
}
